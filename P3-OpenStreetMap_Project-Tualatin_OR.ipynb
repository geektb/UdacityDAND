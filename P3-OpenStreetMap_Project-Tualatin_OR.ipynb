{
 "cells": [
  {
   "cell_type": "markdown",
   "metadata": {},
   "source": [
    "# P3 - OpenStreetMap Project - Tualatin, OR and Surrounding Areas\n",
    "\n",
    "\n",
    "I live in a sleepy suburb of Portland, OR called Tualatin. Right from the start I had a sneaky feeling that I will come across \"boring\" (as in clean) data. I was Right! The dataset required very little normalization in the area of addresses and phone numbers. Boring or not, there are always questions we can ask of any data set, so I decided to investigate and see if I can find out why the data set is such a snoozer. What follows is the results of my investigation.\n",
    "\n",
    "\n",
    "### Map Area\n",
    "Tualatin, OR and the surrounding area.\n",
    "\n",
    "OpenStreetMaps: https://www.openstreetmap.org/export#map=13/45.3787/-122.7393\n",
    "\n",
    "\n",
    "### Additional External Resources Referenced:\n",
    "N/A\n",
    "\n",
    "### Step 1: Data Cleanup\n",
    "\n",
    "##### Address Cleanup - \n",
    "Based on the Address cleanup script we created in the Case Study, I found only a handful of streets that required standardizations. I also added a conversion of \"SW\" to \"Southwest\" across all street names for consistency."
   ]
  },
  {
   "cell_type": "code",
   "execution_count": 6,
   "metadata": {
    "collapsed": false
   },
   "outputs": [
    {
     "name": "stdout",
     "output_type": "stream",
     "text": [
      "SW 91st => Southwest 91st Avenue\n",
      "6710 McEwan Rd => 6710 McEwan Road\n",
      "Upper Dr. => Upper Drive\n",
      "SW Martinazzi Ave => SW Martinazzi Avenue\n",
      "SW 65th Ave => SW 65th Avenue\n",
      "SW Upper Boones Ferry Rd #100 => Southwest Upper Boones Ferry\n",
      "SW 74th => Southwest 74th Avenue\n"
     ]
    }
   ],
   "source": [
    "import xml.etree.cElementTree as ET\n",
    "from collections import defaultdict\n",
    "import re\n",
    "import pprint\n",
    "\n",
    "OSMFILE = \"tualatin.osm\"\n",
    "street_type_re = re.compile(r'\\b\\S+\\.?$', re.IGNORECASE)\n",
    "\n",
    "\n",
    "# These are the address suffix we're expecting\n",
    "expected = [\"Street\", \"Avenue\", \"Boulevard\", \"Drive\", \"Court\", \"Place\", \"Lane\", \"Road\", \"Loop\", \"Woods\",\n",
    "            \"Trail\", \"Parkway\", \"Circle\", \"Terrace\", \"Way\", \"Highway\", \"Path\"]\n",
    "\n",
    "# These are the suffixes we found in the file that need to be mapped to one of the above\n",
    "mapping = { \n",
    "            \"Ave\": \"Avenue\",\n",
    "            \"Dr.\": \"Drive\",\n",
    "            \"Rd\": \"Road\"\n",
    "          }\n",
    "\n",
    "def audit_street_type(street_types, street_name):\n",
    "    m = street_type_re.search(street_name)\n",
    "    if m:\n",
    "        street_type = m.group()\n",
    "        if street_type not in expected:\n",
    "            street_types[street_type].add(street_name)\n",
    "\n",
    "\n",
    "def is_street_name(elem):\n",
    "    return (elem.attrib['k'] == \"addr:street\")\n",
    "\n",
    "\n",
    "def audit(osmfile):\n",
    "    osm_file = open(osmfile, \"r\")\n",
    "    street_types = defaultdict(set)\n",
    "    for event, elem in ET.iterparse(osm_file, events=(\"start\",)):\n",
    "        if elem.tag == \"node\" or elem.tag == \"way\":\n",
    "            for tag in elem.iter(\"tag\"):\n",
    "                if is_street_name(tag):\n",
    "                    audit_street_type(street_types, tag.attrib['v'])\n",
    "    osm_file.close()\n",
    "    return street_types\n",
    "\n",
    "def update_name(name, mapping):\n",
    "    # YOUR CODE HERE\n",
    "    name = name.split(' ')\n",
    "    type = name[-1]\n",
    "    if type in mapping:\n",
    "        name[-1] = mapping[type]\n",
    "        name = ' '.join(name)\n",
    "        return name\n",
    "\n",
    "def test():\n",
    "    st_types = audit(OSMFILE)\n",
    "    #pprint.pprint(dict(st_types))\n",
    "    \n",
    "    for st_type, ways in st_types.iteritems():\n",
    "        for name in ways:\n",
    "            better_name = update_name(name, mapping)\n",
    "            if name == \"SW Upper Boones Ferry Rd #100\":\n",
    "                better_name = \"Southwest Upper Boones Ferry\"\n",
    "            elif name == \"SW 74th\":\n",
    "                better_name = \"Southwest 74th Avenue\"\n",
    "            elif name == \"SW 91st\":\n",
    "                better_name = \"Southwest 91st Avenue\"\n",
    "            elif name == \"65th Avenue\":\n",
    "                better_name = \"Southwest 65th Avenue\"\n",
    "            elif name == \"6710 McEwan Road\":\n",
    "                better_name = \"McEwan Road\"\n",
    "            print name, \"=>\", better_name\n",
    "\n",
    "if __name__ == '__main__':\n",
    "    test()"
   ]
  },
  {
   "cell_type": "markdown",
   "metadata": {},
   "source": [
    "##### Phone Number Cleanup - \n",
    "Applied the below function against the result set prior to saving the data to the CSV files to standardize phone numbers."
   ]
  },
  {
   "cell_type": "code",
   "execution_count": 7,
   "metadata": {
    "collapsed": true
   },
   "outputs": [],
   "source": [
    "def clean_phone(phonenumber):\n",
    "    phonePattern = re.compile(r'''(\\d{3})\\D*(\\d{3})\\D*(\\d{4})\\D*(\\d*)$''')\n",
    "    phonenumber = phonePattern.search(phonenumber).group()\n",
    "    phonenumber = re.sub(\" \", \"-\", phonenumber)\n",
    "    phonenumber = re.sub(\"[()]\", \"\", phonenumber)\n",
    "    if re.match(r'\\d{11}', phonenumber) is not None:\n",
    "        phonenumber = phone_num[1:10]\n",
    "    return phonenumber"
   ]
  },
  {
   "cell_type": "markdown",
   "metadata": {},
   "source": [
    "### Step 2: Parsing the XML file from OpenStreetMaps and saving it to CSV files.\n",
    "The following script was used to cleanup some of the data (phone numbers and addresses), parse the data from the OSM XML file, and save the results into 5 CSV files."
   ]
  },
  {
   "cell_type": "code",
   "execution_count": 8,
   "metadata": {
    "collapsed": false
   },
   "outputs": [
    {
     "name": "stdout",
     "output_type": "stream",
     "text": [
      "2016-10-09 07:42:26.653000: Starting XML file parsing\n",
      "2016-10-09 07:42:39.280000: CSV files created\n",
      "It took the script 12.627 seconds to run\n"
     ]
    }
   ],
   "source": [
    "#!/usr/bin/env python\n",
    "# -*- coding: utf-8 -*-\n",
    "\n",
    "import csv\n",
    "import codecs\n",
    "import re\n",
    "import xml.etree.cElementTree as ET\n",
    "from collections import defaultdict\n",
    "from datetime import datetime\n",
    "\n",
    "# Identify out XML file\n",
    "OSM_PATH = \"tualatin.osm\"\n",
    "\n",
    "# Create file paths for CSV files\n",
    "NODES_PATH = \"nodes.csv\"\n",
    "NODE_TAGS_PATH = \"nodes_tags.csv\"\n",
    "WAYS_PATH = \"ways.csv\"\n",
    "WAY_NODES_PATH = \"ways_nodes.csv\"\n",
    "WAY_TAGS_PATH = \"ways_tags.csv\"\n",
    "\n",
    "# Define various Regular Expressions for value cleanup\n",
    "LOWER_COLON = re.compile(r'^([a-z]|_)+:([a-z]|_)+')\n",
    "PROBLEMCHARS = re.compile(r'[=\\+/&<>;\\'\"\\?%#$@\\,\\. \\t\\r\\n]')\n",
    "street_type_re = re.compile(r'\\b\\S+\\.?$', re.IGNORECASE)\n",
    "\n",
    "# These are the address suffix we're expecting\n",
    "expected = [\"Street\", \"Avenue\", \"Boulevard\", \"Drive\", \"Court\", \"Place\", \"Lane\", \"Road\", \"Loop\", \"Woods\",\n",
    "            \"Trail\", \"Parkway\", \"Circle\", \"Terrace\", \"Way\", \"Highway\", \"Path\"]\n",
    "\n",
    "# These are the suffixes we found in the file that need to be mapped to one of the above\n",
    "mapping = { \n",
    "            \"Ave\": \"Avenue\",\n",
    "            \"Dr.\": \"Drive\",\n",
    "            \"Rd\": \"Road\"\n",
    "          }\n",
    "\n",
    "# Here we define each CSV file's fields. This must match the column order in the sql table schema\n",
    "NODE_FIELDS = ['id', 'lat', 'lon', 'user', 'uid', 'version', 'changeset', 'timestamp']\n",
    "NODE_TAGS_FIELDS = ['id', 'key', 'value', 'type']\n",
    "WAY_FIELDS = ['id', 'user', 'uid', 'version', 'changeset', 'timestamp']\n",
    "WAY_TAGS_FIELDS = ['id', 'key', 'value', 'type']\n",
    "WAY_NODES_FIELDS = ['id', 'node_id', 'position']\n",
    "\n",
    "\n",
    "def is_street_name(elem):\n",
    "    return (elem.attrib['k'] == \"addr:street\")\n",
    "\n",
    "def clean_street(street):\n",
    "    if street == \"SW Upper Boones Ferry Rd #100\":\n",
    "        street = \"Southwest Upper Boones Ferry\"\n",
    "    elif street == \"SW 74th\":\n",
    "        street = \"Southwest 74th Avenue\"\n",
    "    elif street == \"SW 91st\":\n",
    "        street = \"Southwest 91st Avenue\"\n",
    "    elif street == \"65th Avenue\":\n",
    "        street = \"Southwest 65th Avenue\"\n",
    "    elif street == \"6710 McEwan Road\":\n",
    "        street = \"McEwan Road\"\n",
    "\n",
    "    street = re.sub(\"SW\", \"Southwest\", street)\n",
    "    street = street.split(' ')\n",
    "    type = street[-1]\n",
    "    \n",
    "    if (type in mapping):\n",
    "        street[-1] = mapping[type]\n",
    "    \n",
    "    street = ' '.join(street)\n",
    "    return street\n",
    "\n",
    "\n",
    "# This function cleans up our phone numbers and removes country codes\n",
    "def clean_phone(phonenumber):\n",
    "    phonePattern = re.compile(r'''(\\d{3})\\D*(\\d{3})\\D*(\\d{4})\\D*(\\d*)$''')\n",
    "    phonenumber = phonePattern.search(phonenumber).group()\n",
    "    phonenumber = re.sub(\" \", \"-\", phonenumber)\n",
    "    phonenumber = re.sub(\"[()]\", \"\", phonenumber)\n",
    "    if re.match(r'\\d{11}', phonenumber) is not None:\n",
    "        phonenumber = phone_num[1:10]\n",
    "    return phonenumber\n",
    "\n",
    "\n",
    "# Load a new tag dict to go into the list of dicts for way_tags, node_tags\n",
    "def create_new_tag(element, secondlvl, default_tag_type):\n",
    "    newtag = {}\n",
    "    newtag['id'] = element.attrib['id']\n",
    "    if \":\" not in secondlvl.attrib['k']:\n",
    "        newtag['key'] = secondlvl.attrib['k']\n",
    "        newtag['type'] = default_tag_type\n",
    "    else:\n",
    "        post_colon = secondlvl.attrib['k'].index(\":\") + 1\n",
    "        newtag['key'] = secondlvl.attrib['k'][post_colon:]\n",
    "        newtag['type'] = secondlvl.attrib['k'][:post_colon - 1]\n",
    "\n",
    "    # Cleaning up street names\n",
    "    if is_street_name(secondlvl):\n",
    "        street_name = clean_street(secondlvl.attrib['v'])\n",
    "        newtag['value'] = street_name\n",
    "    \n",
    "    # Cleaning up phone numbers\n",
    "    elif newtag['key'] == 'phone':\n",
    "        phone_number = clean_phone(secondlvl.attrib['v'])\n",
    "        if phone_number is not None:\n",
    "            newtag['value'] = phone_number\n",
    "        else:\n",
    "            return None\n",
    "    else:\n",
    "        newtag['value'] = secondlvl.attrib['v']\n",
    "    return newtag\n",
    "\n",
    "\n",
    "#Clean and shape node or way XML element to Python dict\n",
    "def shape_element(element, node_attr_fields=NODE_FIELDS, way_attr_fields=WAY_FIELDS,\n",
    "                  problem_chars=PROBLEMCHARS, default_tag_type='regular'):\n",
    "\n",
    "    node_attribs = {}\n",
    "    way_attribs = {}\n",
    "    way_nodes = []\n",
    "    tags = []  # Handle nested tags the same way for both node and way elements\n",
    "\n",
    "    if element.tag == 'node':\n",
    "        for attrib, value in element.attrib.iteritems():\n",
    "            if attrib in node_attr_fields:\n",
    "                node_attribs[attrib] = value\n",
    "        \n",
    "        # For elements within the top element\n",
    "        for secondlvl in element.iter():\n",
    "            if secondlvl.tag == 'tag':\n",
    "                if problem_chars.match(secondlvl.attrib['k']) is not None:\n",
    "                    continue\n",
    "                else:\n",
    "                    newtag = create_new_tag(element, secondlvl, default_tag_type)\n",
    "                    if newtag is not None:\n",
    "                        tags.append(newtag)\n",
    "        return {'node': node_attribs, 'node_tags': tags}\n",
    "    \n",
    "    elif element.tag == 'way':\n",
    "        for attrib, value in element.attrib.iteritems():\n",
    "            if attrib in way_attr_fields:\n",
    "                way_attribs[attrib] = value\n",
    "\n",
    "        counter = 0\n",
    "        for secondlvl in element.iter():\n",
    "            if secondlvl.tag == 'tag':\n",
    "                if problem_chars.match(secondlvl.attrib['k']) is not None:\n",
    "                    continue\n",
    "                else:\n",
    "                    newtag = create_new_tag(element, secondlvl, default_tag_type)\n",
    "                    if newtag is not None:\n",
    "                        tags.append(newtag)\n",
    "            elif secondlvl.tag == 'nd':\n",
    "                newnode = {}\n",
    "                newnode['id'] = element.attrib['id']\n",
    "                newnode['node_id'] = secondlvl.attrib['ref']\n",
    "                newnode['position'] = counter\n",
    "                counter += 1\n",
    "                way_nodes.append(newnode)\n",
    "        \n",
    "        return {'way': way_attribs, 'way_nodes': way_nodes, 'way_tags': tags}\n",
    "\n",
    "\n",
    "# ================================================== #\n",
    "#      Helper Functions - Provided by uDacity        #\n",
    "# ================================================== #\n",
    "def get_element(osm_file, tags=('node', 'way', 'relation')):\n",
    "    \"\"\"Yield element if it is the right type of tag\"\"\"\n",
    "\n",
    "    context = ET.iterparse(osm_file, events=('start', 'end'))\n",
    "    _, root = next(context)\n",
    "    for event, elem in context:\n",
    "        if event == 'end' and elem.tag in tags:\n",
    "            yield elem\n",
    "            root.clear()\n",
    "\n",
    "class UnicodeDictWriter(csv.DictWriter, object):\n",
    "    \"\"\"Extend csv.DictWriter to handle Unicode input\"\"\"\n",
    "\n",
    "    def writerow(self, row):\n",
    "        super(UnicodeDictWriter, self).writerow({\n",
    "            k: (v.encode('utf-8') if isinstance(v, unicode) else v) for k, v in row.iteritems()\n",
    "        })\n",
    "\n",
    "    def writerows(self, rows):\n",
    "        for row in rows:\n",
    "            self.writerow(row)\n",
    "\n",
    "\n",
    "# ================================================== #\n",
    "#         Main Function - Provided by uDacity        #\n",
    "# ================================================== #\n",
    "def process_map(file_in):\n",
    "    \"\"\"Iteratively process each XML element and write to csv(s)\"\"\"\n",
    "\n",
    "    with codecs.open(NODES_PATH, 'w') as nodes_file, \\\n",
    "         codecs.open(NODE_TAGS_PATH, 'w') as nodes_tags_file, \\\n",
    "         codecs.open(WAYS_PATH, 'w') as ways_file, \\\n",
    "         codecs.open(WAY_NODES_PATH, 'w') as way_nodes_file, \\\n",
    "         codecs.open(WAY_TAGS_PATH, 'w') as way_tags_file:\n",
    "\n",
    "        nodes_writer = UnicodeDictWriter(nodes_file, NODE_FIELDS)\n",
    "        node_tags_writer = UnicodeDictWriter(nodes_tags_file, NODE_TAGS_FIELDS)\n",
    "        ways_writer = UnicodeDictWriter(ways_file, WAY_FIELDS)\n",
    "        way_nodes_writer = UnicodeDictWriter(way_nodes_file, WAY_NODES_FIELDS)\n",
    "        way_tags_writer = UnicodeDictWriter(way_tags_file, WAY_TAGS_FIELDS)\n",
    "\n",
    "        # Removed writeheader() lines to resolve data type conversion issue when loading data\n",
    "        \"\"\"\n",
    "        nodes_writer.writeheader()\n",
    "        node_tags_writer.writeheader()\n",
    "        ways_writer.writeheader()\n",
    "        way_nodes_writer.writeheader()\n",
    "        way_tags_writer.writeheader()\n",
    "        \"\"\"\n",
    "\n",
    "        for element in get_element(file_in, tags=('node', 'way')):\n",
    "            el = shape_element(element)\n",
    "            if el:\n",
    "                if element.tag == 'node':\n",
    "                    nodes_writer.writerow(el['node'])\n",
    "                    node_tags_writer.writerows(el['node_tags'])\n",
    "                elif element.tag == 'way':\n",
    "                    ways_writer.writerow(el['way'])\n",
    "                    way_nodes_writer.writerows(el['way_nodes'])\n",
    "                    way_tags_writer.writerows(el['way_tags'])\n",
    "                    \n",
    "                    \n",
    "if __name__ == '__main__':\n",
    "    start = datetime.now()\n",
    "    print str(start) + \": Starting XML file parsing\"\n",
    "    process_map(OSM_PATH)\n",
    "    end = datetime.now()\n",
    "    delta = end - start\n",
    "    print str(end) + \": CSV files created\"\n",
    "    print \"It took the script \" + str(delta.total_seconds()) + \" seconds to run\"\n"
   ]
  },
  {
   "cell_type": "markdown",
   "metadata": {},
   "source": [
    "### Step 3: Create a new SQLite DB and load the data:\n",
    "The below schema was used to create 5 tables in a SQLite DB"
   ]
  },
  {
   "cell_type": "markdown",
   "metadata": {
    "collapsed": false
   },
   "source": [
    "##### SQLLite Schema\n",
    "\n",
    "    CREATE TABLE nodes (\n",
    "    id INTEGER PRIMARY KEY NOT NULL,\n",
    "    lat REAL,\n",
    "    lon REAL,\n",
    "    user TEXT,\n",
    "    uid INTEGER,\n",
    "    version INTEGER,\n",
    "    changeset INTEGER,\n",
    "    timestamp TEXT);\n",
    "\n",
    "    CREATE TABLE nodes_tags (\n",
    "    id INTEGER,\n",
    "    key TEXT,\n",
    "    value TEXT,\n",
    "    type TEXT,\n",
    "    FOREIGN KEY (id) REFERENCES nodes(id));\n",
    "\n",
    "    CREATE TABLE ways (\n",
    "    id INTEGER PRIMARY KEY NOT NULL,\n",
    "    user TEXT,\n",
    "    uid INTEGER,\n",
    "    version TEXT,\n",
    "    changeset INTEGER,\n",
    "    timestamp TEXT);\n",
    "\n",
    "    CREATE TABLE ways_tags (\n",
    "    id INTEGER NOT NULL,\n",
    "    key TEXT NOT NULL,\n",
    "    value TEXT NOT NULL,\n",
    "    type TEXT,\n",
    "    FOREIGN KEY (id) REFERENCES ways(id));\n",
    "\n",
    "    CREATE TABLE ways_nodes (\n",
    "    id INTEGER NOT NULL,\n",
    "    node_id INTEGER NOT NULL,\n",
    "    position INTEGER NOT NULL,\n",
    "    FOREIGN KEY (id) REFERENCES ways(id),\n",
    "    FOREIGN KEY (node_id) REFERENCES nodes(id));\n",
    "    \n",
    "\n",
    "##### Import CSV Tables in SQLite\n",
    "\n",
    "    sqlite> .mode csv\n",
    "    sqlite> .import nodes.csv nodes\n",
    "    sqlite> .import nodes_tags.csv nodes_tags\n",
    "    sqlite> .import ways.csv ways\n",
    "    sqlite> .import ways_tags.csv ways_tags\n",
    "    sqlite> .import ways_nodes.csv ways_nodes"
   ]
  },
  {
   "cell_type": "markdown",
   "metadata": {},
   "source": [
    "### Step 4: Establishing Connectivity to our new SQLite database\n",
    "To make it easy I created a function that will accept a SQL query string and will return a Dataframe with the requested results. I also loaded several python libraries to help with data visualization."
   ]
  },
  {
   "cell_type": "code",
   "execution_count": 10,
   "metadata": {
    "collapsed": false
   },
   "outputs": [
    {
     "name": "stdout",
     "output_type": "stream",
     "text": [
      "Populating the interactive namespace from numpy and matplotlib\n"
     ]
    }
   ],
   "source": [
    "%pylab inline\n",
    "import matplotlib.pyplot as plt\n",
    "import numpy as np\n",
    "import pandas as pd\n",
    "import seaborn as sns\n",
    "import sqlite3\n",
    "\n",
    "# Function for establish connection and returning result set in a dataframe\n",
    "def getmydata(query):\n",
    "    conn = sqlite3.connect(\"P3.db\")\n",
    "    df = pd.read_sql_query(query, conn)\n",
    "    conn.close()\n",
    "    return df"
   ]
  },
  {
   "cell_type": "markdown",
   "metadata": {},
   "source": [
    "# Overview of the data\n",
    "\n",
    "##### Q1: How many unique cities are in our dataset?\n",
    "There are 8 unique city names in our dataset.\n",
    "\n",
    "```SQL\n",
    "SELECT DISTINCT value FROM ways_tags WHERE key IN ('city') AND value NOT LIKE ''\n",
    "UNION\n",
    "SELECT DISTINCT value FROM nodes_tags WHERE key IN ('city') AND value NOT LIKE ''\n",
    "```"
   ]
  },
  {
   "cell_type": "code",
   "execution_count": 11,
   "metadata": {
    "collapsed": false
   },
   "outputs": [
    {
     "data": {
      "text/html": [
       "<div>\n",
       "<table border=\"1\" class=\"dataframe\">\n",
       "  <thead>\n",
       "    <tr style=\"text-align: right;\">\n",
       "      <th></th>\n",
       "      <th>value</th>\n",
       "    </tr>\n",
       "  </thead>\n",
       "  <tbody>\n",
       "    <tr>\n",
       "      <th>0</th>\n",
       "      <td>King City</td>\n",
       "    </tr>\n",
       "    <tr>\n",
       "      <th>1</th>\n",
       "      <td>Lake Oswego</td>\n",
       "    </tr>\n",
       "    <tr>\n",
       "      <th>2</th>\n",
       "      <td>Portland</td>\n",
       "    </tr>\n",
       "    <tr>\n",
       "      <th>3</th>\n",
       "      <td>Sherwood</td>\n",
       "    </tr>\n",
       "    <tr>\n",
       "      <th>4</th>\n",
       "      <td>Tigard</td>\n",
       "    </tr>\n",
       "    <tr>\n",
       "      <th>5</th>\n",
       "      <td>Tualatin</td>\n",
       "    </tr>\n",
       "    <tr>\n",
       "      <th>6</th>\n",
       "      <td>West Linn</td>\n",
       "    </tr>\n",
       "    <tr>\n",
       "      <th>7</th>\n",
       "      <td>Wilsonville</td>\n",
       "    </tr>\n",
       "  </tbody>\n",
       "</table>\n",
       "</div>"
      ],
      "text/plain": [
       "         value\n",
       "0    King City\n",
       "1  Lake Oswego\n",
       "2     Portland\n",
       "3     Sherwood\n",
       "4       Tigard\n",
       "5     Tualatin\n",
       "6    West Linn\n",
       "7  Wilsonville"
      ]
     },
     "execution_count": 11,
     "metadata": {},
     "output_type": "execute_result"
    }
   ],
   "source": [
    "cities = \"SELECT DISTINCT value FROM ways_tags WHERE key IN ('city') AND value NOT LIKE '' \"\n",
    "cities = cities + \"UNION\"\n",
    "cities = cities + \" SELECT DISTINCT value FROM nodes_tags WHERE key IN ('city') AND value NOT LIKE ''\"\n",
    "\n",
    "getmydata(cities)"
   ]
  },
  {
   "cell_type": "markdown",
   "metadata": {},
   "source": [
    "##### Q2: How many unique zip codes are in our dataset?\n",
    "There are 8 unique zip codes in our dataset.\n",
    "\n",
    "```SQL\n",
    "SELECT DISTINCT value FROM ways_tags WHERE key IN ('postcode') AND value NOT LIKE ''\n",
    "UNION\n",
    "SELECT DISTINCT value FROM nodes_tags WHERE key IN ('postcode') AND value NOT LIKE ''\n",
    "```"
   ]
  },
  {
   "cell_type": "code",
   "execution_count": 12,
   "metadata": {
    "collapsed": false
   },
   "outputs": [
    {
     "data": {
      "text/html": [
       "<div>\n",
       "<table border=\"1\" class=\"dataframe\">\n",
       "  <thead>\n",
       "    <tr style=\"text-align: right;\">\n",
       "      <th></th>\n",
       "      <th>value</th>\n",
       "    </tr>\n",
       "  </thead>\n",
       "  <tbody>\n",
       "    <tr>\n",
       "      <th>0</th>\n",
       "      <td>97034</td>\n",
       "    </tr>\n",
       "    <tr>\n",
       "      <th>1</th>\n",
       "      <td>97035</td>\n",
       "    </tr>\n",
       "    <tr>\n",
       "      <th>2</th>\n",
       "      <td>97062</td>\n",
       "    </tr>\n",
       "    <tr>\n",
       "      <th>3</th>\n",
       "      <td>97068</td>\n",
       "    </tr>\n",
       "    <tr>\n",
       "      <th>4</th>\n",
       "      <td>97070</td>\n",
       "    </tr>\n",
       "    <tr>\n",
       "      <th>5</th>\n",
       "      <td>97140</td>\n",
       "    </tr>\n",
       "    <tr>\n",
       "      <th>6</th>\n",
       "      <td>97223</td>\n",
       "    </tr>\n",
       "    <tr>\n",
       "      <th>7</th>\n",
       "      <td>97224</td>\n",
       "    </tr>\n",
       "  </tbody>\n",
       "</table>\n",
       "</div>"
      ],
      "text/plain": [
       "   value\n",
       "0  97034\n",
       "1  97035\n",
       "2  97062\n",
       "3  97068\n",
       "4  97070\n",
       "5  97140\n",
       "6  97223\n",
       "7  97224"
      ]
     },
     "execution_count": 12,
     "metadata": {},
     "output_type": "execute_result"
    }
   ],
   "source": [
    "cities = \"SELECT DISTINCT value FROM ways_tags WHERE key IN ('postcode') AND value NOT LIKE '' \"\n",
    "cities = cities + \"UNION\"\n",
    "cities = cities + \" SELECT DISTINCT value FROM nodes_tags WHERE key IN ('postcode') AND value NOT LIKE ''\"\n",
    "\n",
    "getmydata(cities)"
   ]
  },
  {
   "cell_type": "markdown",
   "metadata": {},
   "source": [
    "## The suburbs: Where they rip out the trees, and name streets after them...\n",
    "\n",
    "One of my friends have a bumper sticker that reads \"The suburbs: Where they rip out the trees, and name streets after them\". Let’s look at the data and see if that's true.\n",
    "\n",
    "##### Q3: Total number of unique streets in our dataset\n",
    "\n",
    "```SQL\n",
    "SELECT count(DISTINCT value) FROM ways_tags WHERE key IN ('street') AND value NOT LIKE '';\n",
    "```"
   ]
  },
  {
   "cell_type": "code",
   "execution_count": 13,
   "metadata": {
    "collapsed": false
   },
   "outputs": [
    {
     "name": "stdout",
     "output_type": "stream",
     "text": [
      "1046\n"
     ]
    }
   ],
   "source": [
    "distinct_streets_df = getmydata(\"SELECT count(DISTINCT value) FROM ways_tags WHERE key IN ('street') AND value NOT LIKE '';\")  \n",
    "distinct_streets = distinct_streets_df.iloc[0][0]\n",
    "print distinct_streets"
   ]
  },
  {
   "cell_type": "markdown",
   "metadata": {},
   "source": [
    "##### Q4: % of streets named after common trees in our dataset"
   ]
  },
  {
   "cell_type": "code",
   "execution_count": 14,
   "metadata": {
    "collapsed": false
   },
   "outputs": [],
   "source": [
    "#Common Tree Names\n",
    "TREES = ['Abies','Acer','Aesculus','Alder','Alnus','Apple','Arborvitae','Arbutus','Ash','Aspen',\n",
    "         'Basswood','Betula','Birch','Buckeye','Buckthorn','Calocedrus','Castanea','Castanopsis',\n",
    "         'Catalpa','Cedar','Cedrus','Cercocarpus','Chamaecyparis','Cherry','Chestnut','Chinkapin',\n",
    "         'Cornus','Corylus','Cottonwood','Crataegus','Cupressus','Cypress','Dogwood','Elaeagnus',\n",
    "         'Elm','Filbert','Fir','Fraxinus','Giant','Gleditsia','Hawthorn','Hazel','Hemlock','Holly',\n",
    "         'Honeylocust','Horsechestnut','Ilex','Incense','Juglans','Juniper','Juniperus','Larch',\n",
    "         'Larix','Laurel','Laurel','Liquidambar','Liriodendron','Lithocarpus','Locust','Madrone',\n",
    "         'mahogany','Maple','myrtle','Oak','Olive','Pear','Picea','Pine','Pinus','Platanus','Plum',\n",
    "         'Poplar','Populus','Prunus','Pseudotsuga','Pyrus','Quercus','Redcedar','Redwood','Rhamnus',\n",
    "         'Robinia','Salix','Sequoia','Sequoiadendron','Sorbus','Spruce','Sweetgum','Sycamore','Tanoak',\n",
    "         'Taxus','Thuja','Tilia','Tsuga','Ulmus','Umbellularia','Walnut','Willow','Yew']\n",
    "\n",
    "count = 0\n",
    "for tree in TREES:\n",
    "    unionq = \"SELECT count(*) AS Count FROM \"\n",
    "    unionq = unionq + \"(SELECT DISTINCT value FROM ways_tags WHERE key IN ('street') AND value NOT LIKE '' \"\n",
    "    unionq = unionq + \"UNION\"\n",
    "    unionq = unionq + \" SELECT DISTINCT value FROM nodes_tags WHERE key IN ('street') AND value NOT LIKE '') AS tbl \"\n",
    "    unionq = unionq + \"WHERE value like '%\" + tree + \"%'\"\n",
    "\n",
    "    val = getmydata(unionq).iloc[0]['Count']\n",
    "    if val > 0:\n",
    "        count = count + 1\n",
    "        # print tree + ' - ' + str(val)\n",
    "tree_streets = count"
   ]
  },
  {
   "cell_type": "markdown",
   "metadata": {},
   "source": [
    "##### Q5: % of streets named after common flowers in our dataset"
   ]
  },
  {
   "cell_type": "code",
   "execution_count": 15,
   "metadata": {
    "collapsed": true
   },
   "outputs": [],
   "source": [
    "#Common Flower Names\n",
    "FLOWERS = ['Aconite','Ageratum','Allium','Alyssum','Anemone','Angelica','Angelonia','Archangel','Artemisia',\n",
    "           'Aster','Astilbe','Aubrieta','Balsam','Baneberry','Begonia','Bellflower','Bergenia','Bleeding Heart',\n",
    "           'Bloodroot','Bluebell','Boltonia','Boneset','Bowman','Browallia','Brunnera','Bugleweed',\n",
    "           'Bugloss','Buttercup','Butterfly weed','Cabbage','Caladium','Calendula','Canary Creeper',\n",
    "           'Candytuft','Cardinal','Catmint','Celosia','Chives','Cicely','Clary','Cleome','Cohosh',\n",
    "           'Coleus','Columbine','Comfrey','Coneflower','Coreopsis','Corydalis','Cosmos','Crocus',\n",
    "           'Cyclamen','Daffodil','Dahlia','Daisy','Daylily','Delphinium','Diascia','Echinacea','Epimedium',\n",
    "           'Fennel','Flax','Foxglove','Gaillardia','Gaura','Gazania','Geranium','Geum','Ginger','Goatsbeard',\n",
    "           'Gomphrena','Heliotrope','Hepatica','Hollyhock','Hosta','Hyacinth','Hyssop','Impatiens','Indigo',\n",
    "           'Iris','Kale','Lantana','Lavender','Lavender','Leadwort','Lily','Lily','Lilyturf','Lobelia',\n",
    "           'Loosestrife','Lupine','Marguerite','Marigold','Mazus','Mirabilis','Monkshood','Moonflower',\n",
    "           'Morning Glory','Mugwort','Nasturtium','Nicotiana','Nierembergia','Osteospermum','Pansy','Pepper',\n",
    "           'Petunia','Pincushion','Poppy','Portulaca','Prairie Mallow','Primrose','Rockcress','Rose','Rue',\n",
    "           'Sage','Salvia','Sanvitalia','Senna','Shooting Star','Silvermound','Snakeroot','Snapdragon',\n",
    "           'Snowdrop','Soapwort','Spurge','Statice','Tansy','Thistle','Thunbergia','Tithonia','Torenia',\n",
    "           'Trillium','Tulip','Valerian','Verbena','Vinca','Viola','Violet','Windflower','Woodruff',\n",
    "           'Wormwood','Yarrow','Zinnia']\n",
    "\n",
    "count = 0\n",
    "for flower in FLOWERS:\n",
    "    unionq = \"SELECT count(*) AS Count FROM \"\n",
    "    unionq = unionq + \"(SELECT DISTINCT value FROM ways_tags WHERE key IN ('street') AND value NOT LIKE '' \"\n",
    "    unionq = unionq + \"UNION\"\n",
    "    unionq = unionq + \" SELECT DISTINCT value FROM nodes_tags WHERE key IN ('street') AND value NOT LIKE '') AS tbl \"\n",
    "    unionq = unionq + \"WHERE value like '%\" + flower + \"%'\"\n",
    "\n",
    "    val = getmydata(unionq).iloc[0]['Count']\n",
    "    if val > 0:\n",
    "        count = count + 1\n",
    "        #print flower + ' - ' + str(val)\n",
    "flower_streets = count"
   ]
  },
  {
   "cell_type": "markdown",
   "metadata": {},
   "source": [
    "## So... is it true?\n",
    "It seems that this is not the case in my suburb. Only 2.49% of the streets contain a name of a tree from our common trees list. Similarly, only 0.76%"
   ]
  },
  {
   "cell_type": "code",
   "execution_count": 16,
   "metadata": {
    "collapsed": false
   },
   "outputs": [
    {
     "name": "stdout",
     "output_type": "stream",
     "text": [
      "Total streets names in our dataset: 1046\n",
      "Total streets that contain a name of a tree: 26 2.49%\n",
      "Total streets that contain a name of a flower: 8 0.76%\n"
     ]
    }
   ],
   "source": [
    "print 'Total streets names in our dataset: ' + str(distinct_streets)\n",
    "print 'Total streets that contain a name of a tree: ' + str(tree_streets) + ' ' \\\n",
    "                    + \"{:.2%}\".format((float(tree_streets)/(float(distinct_streets))))\n",
    "print 'Total streets that contain a name of a flower: ' + str(flower_streets)  + ' ' \\\n",
    "                    + \"{:.2%}\".format((float(flower_streets)/(float(distinct_streets))))"
   ]
  },
  {
   "cell_type": "markdown",
   "metadata": {
    "collapsed": true
   },
   "source": [
    "##### Q6: Number of distinct users\n",
    "\n",
    "```SQL\n",
    "SELECT COUNT(*) AS TotalUsers FROM \n",
    "        (SELECT DISTINCT user FROM ways \n",
    "        UNION\n",
    "        SELECT DISTINCT user FROM nodes);\n",
    "```"
   ]
  },
  {
   "cell_type": "code",
   "execution_count": 17,
   "metadata": {
    "collapsed": false
   },
   "outputs": [
    {
     "data": {
      "text/html": [
       "<div>\n",
       "<table border=\"1\" class=\"dataframe\">\n",
       "  <thead>\n",
       "    <tr style=\"text-align: right;\">\n",
       "      <th></th>\n",
       "      <th>TotalUsers</th>\n",
       "    </tr>\n",
       "  </thead>\n",
       "  <tbody>\n",
       "    <tr>\n",
       "      <th>0</th>\n",
       "      <td>120</td>\n",
       "    </tr>\n",
       "  </tbody>\n",
       "</table>\n",
       "</div>"
      ],
      "text/plain": [
       "   TotalUsers\n",
       "0         120"
      ]
     },
     "execution_count": 17,
     "metadata": {},
     "output_type": "execute_result"
    }
   ],
   "source": [
    "getmydata('SELECT COUNT(*) AS TotalUsers FROM (SELECT DISTINCT user FROM ways UNION SELECT DISTINCT user FROM nodes);')"
   ]
  },
  {
   "cell_type": "markdown",
   "metadata": {},
   "source": [
    "##### Q7/Q8: who contributed and how much? Is there a difference in contributions between ways and nodes?\n",
    "In order to find this out I created 3 dataframes:\n",
    "- ways_users - Distinct list of users and the counts of contributions they made to the ways dataset\n",
    "- nodes_users - Distinct list of users and the counts of contributions they made to the nodes dataset\n",
    "- compare_users - a comparison of the top 10 contributors"
   ]
  },
  {
   "cell_type": "code",
   "execution_count": 18,
   "metadata": {
    "collapsed": false
   },
   "outputs": [
    {
     "data": {
      "text/plain": [
       "<matplotlib.text.Text at 0xe61f128>"
      ]
     },
     "execution_count": 18,
     "metadata": {},
     "output_type": "execute_result"
    },
    {
     "data": {
      "image/png": "[encoded data removed]",
      "text/plain": [
       "<matplotlib.figure.Figure at 0xc852be0>"
      ]
     },
     "metadata": {},
     "output_type": "display_data"
    }
   ],
   "source": [
    "ways_users = getmydata('select user, count(id) As ways from ways group by user order by count(id);')\n",
    "nodes_users = getmydata('select user, count(id) As nodes from nodes group by user order by count(id);')\n",
    "compare_users = ways_users.merge(nodes_users, on=['user'], how='outer').sort_values(['nodes'], ascending=[0]).head(10)\n",
    "\n",
    "# format plot\n",
    "fig, (axis1) = plt.subplots(1,figsize=(15,15))\n",
    "\n",
    "compare_users_plot = sns.barplot(y='user', x='nodes', data=compare_users, ax=axis1, color = 'b')\n",
    "compare_users_plot = sns.barplot(y='user', x='ways', data=compare_users, ax=axis1, color = 'r')\n",
    "\n",
    "sns.set(style=\"whitegrid\", color_codes=False)\n",
    "    \n",
    "# add titles\n",
    "compare_users_plot.axes.set_title('Comparrison of top 10 contributors to Ways and Nodes')\n",
    "compare_users_plot.set_ylabel(\"Users\")\n",
    "compare_users_plot.set_xlabel(\"Entry Counts\")"
   ]
  },
  {
   "cell_type": "markdown",
   "metadata": {},
   "source": [
    "##### Q9: What are the top 10 amenities listed in the dataset?\n",
    "\n",
    "```SQL\n",
    "SELECT value, count(*) FROM nodes_tags WHERE key LIKE 'amenity' \n",
    "GROUP BY value \n",
    "ORDER BY count(*) DESC LIMIT 10;\n",
    "```"
   ]
  },
  {
   "cell_type": "code",
   "execution_count": 19,
   "metadata": {
    "collapsed": false
   },
   "outputs": [
    {
     "data": {
      "text/html": [
       "<div>\n",
       "<table border=\"1\" class=\"dataframe\">\n",
       "  <thead>\n",
       "    <tr style=\"text-align: right;\">\n",
       "      <th></th>\n",
       "      <th>value</th>\n",
       "      <th>count(*)</th>\n",
       "    </tr>\n",
       "  </thead>\n",
       "  <tbody>\n",
       "    <tr>\n",
       "      <th>0</th>\n",
       "      <td>parking</td>\n",
       "      <td>35</td>\n",
       "    </tr>\n",
       "    <tr>\n",
       "      <th>1</th>\n",
       "      <td>place_of_worship</td>\n",
       "      <td>35</td>\n",
       "    </tr>\n",
       "    <tr>\n",
       "      <th>2</th>\n",
       "      <td>restaurant</td>\n",
       "      <td>14</td>\n",
       "    </tr>\n",
       "    <tr>\n",
       "      <th>3</th>\n",
       "      <td>fast_food</td>\n",
       "      <td>10</td>\n",
       "    </tr>\n",
       "    <tr>\n",
       "      <th>4</th>\n",
       "      <td>post_box</td>\n",
       "      <td>10</td>\n",
       "    </tr>\n",
       "    <tr>\n",
       "      <th>5</th>\n",
       "      <td>bank</td>\n",
       "      <td>9</td>\n",
       "    </tr>\n",
       "    <tr>\n",
       "      <th>6</th>\n",
       "      <td>school</td>\n",
       "      <td>9</td>\n",
       "    </tr>\n",
       "    <tr>\n",
       "      <th>7</th>\n",
       "      <td>bicycle_parking</td>\n",
       "      <td>7</td>\n",
       "    </tr>\n",
       "    <tr>\n",
       "      <th>8</th>\n",
       "      <td>shelter</td>\n",
       "      <td>7</td>\n",
       "    </tr>\n",
       "    <tr>\n",
       "      <th>9</th>\n",
       "      <td>cafe</td>\n",
       "      <td>6</td>\n",
       "    </tr>\n",
       "  </tbody>\n",
       "</table>\n",
       "</div>"
      ],
      "text/plain": [
       "              value  count(*)\n",
       "0           parking        35\n",
       "1  place_of_worship        35\n",
       "2        restaurant        14\n",
       "3         fast_food        10\n",
       "4          post_box        10\n",
       "5              bank         9\n",
       "6            school         9\n",
       "7   bicycle_parking         7\n",
       "8           shelter         7\n",
       "9              cafe         6"
      ]
     },
     "execution_count": 19,
     "metadata": {},
     "output_type": "execute_result"
    }
   ],
   "source": [
    "getmydata(\"SELECT value, count(*) FROM nodes_tags WHERE key like 'amenity' group by value order by count(*) desc LIMIT 10;\")"
   ]
  },
  {
   "cell_type": "markdown",
   "metadata": {},
   "source": [
    "##### Q10: What are the place of worship religions in our dataset?\n",
    "Seems that the reigning religion in our area is Christianity.\n",
    "```SQL\n",
    "SELECT value, COUNT(*) FROM nodes_tags,\n",
    "(SELECT DISTINCT id FROM nodes_tags WHERE value='place_of_worship') As node_ids\n",
    "WHERE nodes_tags.id = node_ids.id AND nodes_tags.key='religion'\n",
    "GROUP BY nodes_tags.value ORDER BY count(*) DESC;\n",
    "```"
   ]
  },
  {
   "cell_type": "code",
   "execution_count": 20,
   "metadata": {
    "collapsed": false
   },
   "outputs": [
    {
     "data": {
      "text/html": [
       "<div>\n",
       "<table border=\"1\" class=\"dataframe\">\n",
       "  <thead>\n",
       "    <tr style=\"text-align: right;\">\n",
       "      <th></th>\n",
       "      <th>value</th>\n",
       "      <th>COUNT(*)</th>\n",
       "    </tr>\n",
       "  </thead>\n",
       "  <tbody>\n",
       "    <tr>\n",
       "      <th>0</th>\n",
       "      <td>christian</td>\n",
       "      <td>34</td>\n",
       "    </tr>\n",
       "    <tr>\n",
       "      <th>1</th>\n",
       "      <td>buddhist</td>\n",
       "      <td>1</td>\n",
       "    </tr>\n",
       "  </tbody>\n",
       "</table>\n",
       "</div>"
      ],
      "text/plain": [
       "       value  COUNT(*)\n",
       "0  christian        34\n",
       "1   buddhist         1"
      ]
     },
     "execution_count": 20,
     "metadata": {},
     "output_type": "execute_result"
    }
   ],
   "source": [
    "query = \"SELECT value, COUNT(*) FROM nodes_tags,\" + \\\n",
    "            \" (SELECT DISTINCT id FROM nodes_tags WHERE value='place_of_worship') As node_ids\" + \\\n",
    "            \" WHERE nodes_tags.id = node_ids.id AND nodes_tags.key='religion'\" + \\\n",
    "            \" GROUP BY nodes_tags.value ORDER BY count(*) DESC;\"\n",
    "\n",
    "getmydata(query)"
   ]
  },
  {
   "cell_type": "markdown",
   "metadata": {},
   "source": [
    "# Other ideas about the datasets\n",
    "\n",
    "As you can see from our data, there's not a whole lot going on in Tualatin, OR. Having said that, there are multiple other aspects that can be explored in the dataset:\n",
    "- What is the average number of houses per street?\n",
    "- What is the time span of the additions and modifications of the data?\n",
    "- What is the ratio of schools to houses in the area?\n",
    "- How many houses are positioned on a corner?\n",
    "\n",
    "\n",
    "### Improving Data Quality - Suggestion 1:\n",
    "\n",
    "##### Origins of the OpenStreetMaps Data - \n",
    "Looking at our top 10 contributors, I came across three users that peaked my interested: \"peter dobratz_pdxbuildings\", \"peter dobratz\" and \"Darrel_pdxbuildings\". These two users (assuming \"peter dobratz_pdxbuildings\" and \"peter dobratz\" are the same user with different ids) are the owners of 72.50% of the ways (20,870 out of 28,784) and 64.78% of nodes (152,463 out of 235,350) data points. With such a high percentage of information coming from these users, I believe it would be worth while to investigate the origin and quality of their data."
   ]
  },
  {
   "cell_type": "code",
   "execution_count": 60,
   "metadata": {
    "collapsed": false
   },
   "outputs": [
    {
     "name": "stdout",
     "output_type": "stream",
     "text": [
      "                          user   ways\n",
      "66        Darrell_pdxbuildings    639\n",
      "67               Peter Dobratz    671\n",
      "72  Peter Dobratz_pdxbuildings  19560\n",
      "\n",
      "    ways\n",
      "0  28784\n"
     ]
    }
   ],
   "source": [
    "print ways_users \\\n",
    "    .query('user == \"Peter Dobratz_pdxbuildings\" or user == \"Peter Dobratz\" or user == \"Darrell_pdxbuildings\"')\n",
    "print ''\n",
    "print getmydata('select count(*) As ways from ways;')"
   ]
  },
  {
   "cell_type": "code",
   "execution_count": 61,
   "metadata": {
    "collapsed": false
   },
   "outputs": [
    {
     "name": "stdout",
     "output_type": "stream",
     "text": [
      "                           user   nodes\n",
      "91                Peter Dobratz    2306\n",
      "95         Darrell_pdxbuildings    5133\n",
      "100  Peter Dobratz_pdxbuildings  145024\n",
      "\n",
      "    nodes\n",
      "0  230350\n"
     ]
    }
   ],
   "source": [
    "print nodes_users \\\n",
    "    .query('user == \"Peter Dobratz_pdxbuildings\" or user == \"Peter Dobratz\" or user == \"Darrell_pdxbuildings\"')\n",
    "print ''\n",
    "print getmydata('select count(*) As nodes from nodes;')"
   ]
  },
  {
   "cell_type": "markdown",
   "metadata": {},
   "source": [
    "##### Possible Implementation Obstacles -\n",
    "Depending on the policies of OpenStreetMaps, we may not be able to find out who these users are and how they came about to contribute such a high percentage of the data points.\n",
    "\n",
    "\n",
    "### Improving Data Quality - Suggestion 2:\n",
    "\n",
    "##### Increasing Data Granularity -\n",
    "Something I noticed while cleaning up the addresses is that the street includes not just the street name and designation (i.e. \"Street\", \"Road\", \"Circle\", etc...) but also the quadrants. In this dataset's case, the only quadrant possible is Southwest so it is fairly easy to identify and validate, but capturing the data in a more granular way so these three components are separated will make data cleanup and validation much easier. One example would be to be able to compare the street quadrant with its coordinate points and ensure that the quadrants indicated are correct based on the streets location within its area (for example, identifying a street marked as \"Southwest\" that is actually in the Northwest quadrant based on its coordinates).\n",
    "\n",
    "##### Possible Implementation Obstacles -\n",
    "Validating that the area in question truly follows the grid system may be an issue and will most likely vary from area to area. Evaluating the street position across its entire length may also present a problem if the street happens to cross quadrants in its paths yet the quadrants of the street itself remain the same for all addresses within it.\n",
    "\n",
    "\n",
    "### Improving Data Quality - Suggestion 3:\n",
    "\n",
    "##### Suggestion for Data Validation Against External Sources -\n",
    "Although most streets have a speed limit data point indicated, I wasn't able to find any indication of school zones, which vary the speed limit by the hour, day and time of the year. It may be possible to use a data source like Waze, that captures the actual speed of its users and estimate the time periods where the school zone speed limit is in effect.\n",
    "\n",
    "##### Possible Implementation Obstacles -\n",
    "We may come across data bias hidden in the Waze data that will skew our analysis. For example, do Waze users tend to drive faster than others drivers? are drivers that frequent school zones more or less likely to use Waze? Also, how do we determine that the speed cars are driving is truly due to a school zone speed limit as opposed to just an urban traffic jam near a school?"
   ]
  }
 ],
 "metadata": {
  "anaconda-cloud": {},
  "kernelspec": {
   "display_name": "Python [Root]",
   "language": "python",
   "name": "Python [Root]"
  },
  "language_info": {
   "codemirror_mode": {
    "name": "ipython",
    "version": 2
   },
   "file_extension": ".py",
   "mimetype": "text/x-python",
   "name": "python",
   "nbconvert_exporter": "python",
   "pygments_lexer": "ipython2",
   "version": "2.7.12"
  }
 },
 "nbformat": 4,
 "nbformat_minor": 0
}
