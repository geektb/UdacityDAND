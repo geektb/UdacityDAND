{
 "cells": [
  {
   "cell_type": "markdown",
   "metadata": {},
   "source": [
    "# Introduction to Data Analysis - P2 Project - Titanic Data\n",
    "\n",
    "**This project will analyze passenger data from the Titanic and will evaluate the correlation between passenger survivor rate and the following data points:**\n",
    "1. Did the passenger's Sex play any role in their chance of survival?\n",
    "2. Did the passenger's Age play any role in their chance of survival?\n",
    "3. Did the amount payed by the passenger for their ticket play any role in their chance of survival?\n",
    "4. Do passengers with any family members aboard have a higher survival rate?\n",
    "\n",
    "**Column Heading Legend - Please note that Ticket, Name, Cabin and Embarked data will not be used in this analysis:**\n",
    "- Survived: Survived (1) or died (0)\n",
    "- Pclass: Passenger’s class\n",
    "- Sex: Passenger’s sex\n",
    "- Age: Passenger’s age\n",
    "- SibSp: Number of siblings/spouses aboard\n",
    "- Parch: Number of parents/children aboard\n",
    "- Fare: Fare Paid for Ticket\n",
    "- Ticket: Ticket Number (Not used in this analysis)\n",
    "- Name: Passenger’s name (Not used in this analysis)\n",
    "- Cabin: Cabin Number (Not used in this analysis)\n",
    "- Embarked: Port of Embarkation (Not used in this analysis)"
   ]
  },
  {
   "cell_type": "markdown",
   "metadata": {},
   "source": [
    "# Loading the Data from CSV"
   ]
  },
  {
   "cell_type": "code",
   "execution_count": 22,
   "metadata": {
    "collapsed": false
   },
   "outputs": [
    {
     "name": "stdout",
     "output_type": "stream",
     "text": [
      "Populating the interactive namespace from numpy and matplotlib\n"
     ]
    },
    {
     "data": {
      "text/html": [
       "<div>\n",
       "<table border=\"1\" class=\"dataframe\">\n",
       "  <thead>\n",
       "    <tr style=\"text-align: right;\">\n",
       "      <th></th>\n",
       "      <th>PassengerId</th>\n",
       "      <th>Survived</th>\n",
       "      <th>Pclass</th>\n",
       "      <th>Name</th>\n",
       "      <th>Sex</th>\n",
       "      <th>Age</th>\n",
       "      <th>SibSp</th>\n",
       "      <th>Parch</th>\n",
       "      <th>Ticket</th>\n",
       "      <th>Fare</th>\n",
       "      <th>Cabin</th>\n",
       "      <th>Embarked</th>\n",
       "    </tr>\n",
       "  </thead>\n",
       "  <tbody>\n",
       "    <tr>\n",
       "      <th>0</th>\n",
       "      <td>1</td>\n",
       "      <td>0</td>\n",
       "      <td>3</td>\n",
       "      <td>Braund, Mr. Owen Harris</td>\n",
       "      <td>male</td>\n",
       "      <td>22.0</td>\n",
       "      <td>1</td>\n",
       "      <td>0</td>\n",
       "      <td>A/5 21171</td>\n",
       "      <td>7.2500</td>\n",
       "      <td>NaN</td>\n",
       "      <td>S</td>\n",
       "    </tr>\n",
       "    <tr>\n",
       "      <th>1</th>\n",
       "      <td>2</td>\n",
       "      <td>1</td>\n",
       "      <td>1</td>\n",
       "      <td>Cumings, Mrs. John Bradley (Florence Briggs Th...</td>\n",
       "      <td>female</td>\n",
       "      <td>38.0</td>\n",
       "      <td>1</td>\n",
       "      <td>0</td>\n",
       "      <td>PC 17599</td>\n",
       "      <td>71.2833</td>\n",
       "      <td>C85</td>\n",
       "      <td>C</td>\n",
       "    </tr>\n",
       "    <tr>\n",
       "      <th>2</th>\n",
       "      <td>3</td>\n",
       "      <td>1</td>\n",
       "      <td>3</td>\n",
       "      <td>Heikkinen, Miss. Laina</td>\n",
       "      <td>female</td>\n",
       "      <td>26.0</td>\n",
       "      <td>0</td>\n",
       "      <td>0</td>\n",
       "      <td>STON/O2. 3101282</td>\n",
       "      <td>7.9250</td>\n",
       "      <td>NaN</td>\n",
       "      <td>S</td>\n",
       "    </tr>\n",
       "    <tr>\n",
       "      <th>3</th>\n",
       "      <td>4</td>\n",
       "      <td>1</td>\n",
       "      <td>1</td>\n",
       "      <td>Futrelle, Mrs. Jacques Heath (Lily May Peel)</td>\n",
       "      <td>female</td>\n",
       "      <td>35.0</td>\n",
       "      <td>1</td>\n",
       "      <td>0</td>\n",
       "      <td>113803</td>\n",
       "      <td>53.1000</td>\n",
       "      <td>C123</td>\n",
       "      <td>S</td>\n",
       "    </tr>\n",
       "    <tr>\n",
       "      <th>4</th>\n",
       "      <td>5</td>\n",
       "      <td>0</td>\n",
       "      <td>3</td>\n",
       "      <td>Allen, Mr. William Henry</td>\n",
       "      <td>male</td>\n",
       "      <td>35.0</td>\n",
       "      <td>0</td>\n",
       "      <td>0</td>\n",
       "      <td>373450</td>\n",
       "      <td>8.0500</td>\n",
       "      <td>NaN</td>\n",
       "      <td>S</td>\n",
       "    </tr>\n",
       "  </tbody>\n",
       "</table>\n",
       "</div>"
      ],
      "text/plain": [
       "   PassengerId  Survived  Pclass  \\\n",
       "0            1         0       3   \n",
       "1            2         1       1   \n",
       "2            3         1       3   \n",
       "3            4         1       1   \n",
       "4            5         0       3   \n",
       "\n",
       "                                                Name     Sex   Age  SibSp  \\\n",
       "0                            Braund, Mr. Owen Harris    male  22.0      1   \n",
       "1  Cumings, Mrs. John Bradley (Florence Briggs Th...  female  38.0      1   \n",
       "2                             Heikkinen, Miss. Laina  female  26.0      0   \n",
       "3       Futrelle, Mrs. Jacques Heath (Lily May Peel)  female  35.0      1   \n",
       "4                           Allen, Mr. William Henry    male  35.0      0   \n",
       "\n",
       "   Parch            Ticket     Fare Cabin Embarked  \n",
       "0      0         A/5 21171   7.2500   NaN        S  \n",
       "1      0          PC 17599  71.2833   C85        C  \n",
       "2      0  STON/O2. 3101282   7.9250   NaN        S  \n",
       "3      0            113803  53.1000  C123        S  \n",
       "4      0            373450   8.0500   NaN        S  "
      ]
     },
     "execution_count": 22,
     "metadata": {},
     "output_type": "execute_result"
    }
   ],
   "source": [
    "%pylab inline\n",
    "import matplotlib.pyplot as plt\n",
    "import numpy as np\n",
    "import pandas as pd\n",
    "import seaborn as sns\n",
    "\n",
    "# load csv file into dataframe\n",
    "filename = 'titanic_data.csv'\n",
    "titanic_df = pd.read_csv(filename)\n",
    "\n",
    "# display top 5 rows of data\n",
    "titanic_df.head()"
   ]
  },
  {
   "cell_type": "markdown",
   "metadata": {},
   "source": [
    "# Evaluate Data Values"
   ]
  },
  {
   "cell_type": "code",
   "execution_count": 23,
   "metadata": {
    "collapsed": false
   },
   "outputs": [
    {
     "data": {
      "text/html": [
       "<div>\n",
       "<table border=\"1\" class=\"dataframe\">\n",
       "  <thead>\n",
       "    <tr style=\"text-align: right;\">\n",
       "      <th></th>\n",
       "      <th>PassengerId</th>\n",
       "      <th>Survived</th>\n",
       "      <th>Pclass</th>\n",
       "      <th>Age</th>\n",
       "      <th>SibSp</th>\n",
       "      <th>Parch</th>\n",
       "      <th>Fare</th>\n",
       "    </tr>\n",
       "  </thead>\n",
       "  <tbody>\n",
       "    <tr>\n",
       "      <th>count</th>\n",
       "      <td>891.000000</td>\n",
       "      <td>891.000000</td>\n",
       "      <td>891.000000</td>\n",
       "      <td>714.000000</td>\n",
       "      <td>891.000000</td>\n",
       "      <td>891.000000</td>\n",
       "      <td>891.000000</td>\n",
       "    </tr>\n",
       "    <tr>\n",
       "      <th>mean</th>\n",
       "      <td>446.000000</td>\n",
       "      <td>0.383838</td>\n",
       "      <td>2.308642</td>\n",
       "      <td>29.699118</td>\n",
       "      <td>0.523008</td>\n",
       "      <td>0.381594</td>\n",
       "      <td>32.204208</td>\n",
       "    </tr>\n",
       "    <tr>\n",
       "      <th>std</th>\n",
       "      <td>257.353842</td>\n",
       "      <td>0.486592</td>\n",
       "      <td>0.836071</td>\n",
       "      <td>14.526497</td>\n",
       "      <td>1.102743</td>\n",
       "      <td>0.806057</td>\n",
       "      <td>49.693429</td>\n",
       "    </tr>\n",
       "    <tr>\n",
       "      <th>min</th>\n",
       "      <td>1.000000</td>\n",
       "      <td>0.000000</td>\n",
       "      <td>1.000000</td>\n",
       "      <td>0.420000</td>\n",
       "      <td>0.000000</td>\n",
       "      <td>0.000000</td>\n",
       "      <td>0.000000</td>\n",
       "    </tr>\n",
       "    <tr>\n",
       "      <th>25%</th>\n",
       "      <td>223.500000</td>\n",
       "      <td>0.000000</td>\n",
       "      <td>2.000000</td>\n",
       "      <td>NaN</td>\n",
       "      <td>0.000000</td>\n",
       "      <td>0.000000</td>\n",
       "      <td>7.910400</td>\n",
       "    </tr>\n",
       "    <tr>\n",
       "      <th>50%</th>\n",
       "      <td>446.000000</td>\n",
       "      <td>0.000000</td>\n",
       "      <td>3.000000</td>\n",
       "      <td>NaN</td>\n",
       "      <td>0.000000</td>\n",
       "      <td>0.000000</td>\n",
       "      <td>14.454200</td>\n",
       "    </tr>\n",
       "    <tr>\n",
       "      <th>75%</th>\n",
       "      <td>668.500000</td>\n",
       "      <td>1.000000</td>\n",
       "      <td>3.000000</td>\n",
       "      <td>NaN</td>\n",
       "      <td>1.000000</td>\n",
       "      <td>0.000000</td>\n",
       "      <td>31.000000</td>\n",
       "    </tr>\n",
       "    <tr>\n",
       "      <th>max</th>\n",
       "      <td>891.000000</td>\n",
       "      <td>1.000000</td>\n",
       "      <td>3.000000</td>\n",
       "      <td>80.000000</td>\n",
       "      <td>8.000000</td>\n",
       "      <td>6.000000</td>\n",
       "      <td>512.329200</td>\n",
       "    </tr>\n",
       "  </tbody>\n",
       "</table>\n",
       "</div>"
      ],
      "text/plain": [
       "       PassengerId    Survived      Pclass         Age       SibSp  \\\n",
       "count   891.000000  891.000000  891.000000  714.000000  891.000000   \n",
       "mean    446.000000    0.383838    2.308642   29.699118    0.523008   \n",
       "std     257.353842    0.486592    0.836071   14.526497    1.102743   \n",
       "min       1.000000    0.000000    1.000000    0.420000    0.000000   \n",
       "25%     223.500000    0.000000    2.000000         NaN    0.000000   \n",
       "50%     446.000000    0.000000    3.000000         NaN    0.000000   \n",
       "75%     668.500000    1.000000    3.000000         NaN    1.000000   \n",
       "max     891.000000    1.000000    3.000000   80.000000    8.000000   \n",
       "\n",
       "            Parch        Fare  \n",
       "count  891.000000  891.000000  \n",
       "mean     0.381594   32.204208  \n",
       "std      0.806057   49.693429  \n",
       "min      0.000000    0.000000  \n",
       "25%      0.000000    7.910400  \n",
       "50%      0.000000   14.454200  \n",
       "75%      0.000000   31.000000  \n",
       "max      6.000000  512.329200  "
      ]
     },
     "execution_count": 23,
     "metadata": {},
     "output_type": "execute_result"
    }
   ],
   "source": [
    "# dataframe statistics\n",
    "titanic_df.describe()"
   ]
  },
  {
   "cell_type": "code",
   "execution_count": 24,
   "metadata": {
    "collapsed": false
   },
   "outputs": [
    {
     "data": {
      "text/plain": [
       "PassengerId      int64\n",
       "Survived         int64\n",
       "Pclass           int64\n",
       "Name            object\n",
       "Sex             object\n",
       "Age            float64\n",
       "SibSp            int64\n",
       "Parch            int64\n",
       "Ticket          object\n",
       "Fare           float64\n",
       "Cabin           object\n",
       "Embarked        object\n",
       "dtype: object"
      ]
     },
     "execution_count": 24,
     "metadata": {},
     "output_type": "execute_result"
    }
   ],
   "source": [
    "titanic_df.dtypes"
   ]
  },
  {
   "cell_type": "code",
   "execution_count": 25,
   "metadata": {
    "collapsed": false
   },
   "outputs": [
    {
     "name": "stdout",
     "output_type": "stream",
     "text": [
      "Survived values: [0 1]\n",
      "Pclass values: [3 1 2]\n",
      "Sex values: ['male' 'female']\n",
      "SibSp values: [1 0 3 4 2 5 8]\n",
      "Parch values: [0 1 2 5 3 4 6]\n"
     ]
    }
   ],
   "source": [
    "# evaluate unique values we might use for analysis later\n",
    "for column in titanic_df:\n",
    "    if column in ['Survived', 'Pclass', 'Sex', 'SibSp', 'Parch']:\n",
    "        print \"{} values: {}\".format(column, titanic_df[column].unique())\n",
    "    "
   ]
  },
  {
   "cell_type": "code",
   "execution_count": 26,
   "metadata": {
    "collapsed": false
   },
   "outputs": [
    {
     "data": {
      "text/plain": [
       "PassengerId    891\n",
       "Survived       891\n",
       "Pclass         891\n",
       "Name           891\n",
       "Sex            891\n",
       "Age            714\n",
       "SibSp          891\n",
       "Parch          891\n",
       "Ticket         891\n",
       "Fare           891\n",
       "Cabin          204\n",
       "Embarked       889\n",
       "dtype: int64"
      ]
     },
     "execution_count": 26,
     "metadata": {},
     "output_type": "execute_result"
    }
   ],
   "source": [
    "# Examine groups\n",
    "titanic_df.count()"
   ]
  },
  {
   "cell_type": "markdown",
   "metadata": {},
   "source": [
    "# Data Cleanup\n",
    "\n",
    "We will be intentionally leaving loaded data as is and populating new columns with clean data to make analysis easier."
   ]
  },
  {
   "cell_type": "code",
   "execution_count": 27,
   "metadata": {
    "collapsed": false
   },
   "outputs": [
    {
     "data": {
      "text/html": [
       "<div>\n",
       "<table border=\"1\" class=\"dataframe\">\n",
       "  <thead>\n",
       "    <tr style=\"text-align: right;\">\n",
       "      <th></th>\n",
       "      <th>PassengerId</th>\n",
       "      <th>Survived</th>\n",
       "      <th>Pclass</th>\n",
       "      <th>Name</th>\n",
       "      <th>Sex</th>\n",
       "      <th>Age</th>\n",
       "      <th>SibSp</th>\n",
       "      <th>Parch</th>\n",
       "      <th>Ticket</th>\n",
       "      <th>Fare</th>\n",
       "      <th>Cabin</th>\n",
       "      <th>Embarked</th>\n",
       "      <th>Alone</th>\n",
       "      <th>Child</th>\n",
       "      <th>Male</th>\n",
       "      <th>SurvivedTF</th>\n",
       "    </tr>\n",
       "  </thead>\n",
       "  <tbody>\n",
       "    <tr>\n",
       "      <th>0</th>\n",
       "      <td>1</td>\n",
       "      <td>0</td>\n",
       "      <td>3</td>\n",
       "      <td>Braund, Mr. Owen Harris</td>\n",
       "      <td>male</td>\n",
       "      <td>22.0</td>\n",
       "      <td>1</td>\n",
       "      <td>0</td>\n",
       "      <td>A/5 21171</td>\n",
       "      <td>7.2500</td>\n",
       "      <td>NaN</td>\n",
       "      <td>S</td>\n",
       "      <td>True</td>\n",
       "      <td>False</td>\n",
       "      <td>True</td>\n",
       "      <td>False</td>\n",
       "    </tr>\n",
       "    <tr>\n",
       "      <th>1</th>\n",
       "      <td>2</td>\n",
       "      <td>1</td>\n",
       "      <td>1</td>\n",
       "      <td>Cumings, Mrs. John Bradley (Florence Briggs Th...</td>\n",
       "      <td>female</td>\n",
       "      <td>38.0</td>\n",
       "      <td>1</td>\n",
       "      <td>0</td>\n",
       "      <td>PC 17599</td>\n",
       "      <td>71.2833</td>\n",
       "      <td>C85</td>\n",
       "      <td>C</td>\n",
       "      <td>True</td>\n",
       "      <td>False</td>\n",
       "      <td>False</td>\n",
       "      <td>True</td>\n",
       "    </tr>\n",
       "    <tr>\n",
       "      <th>2</th>\n",
       "      <td>3</td>\n",
       "      <td>1</td>\n",
       "      <td>3</td>\n",
       "      <td>Heikkinen, Miss. Laina</td>\n",
       "      <td>female</td>\n",
       "      <td>26.0</td>\n",
       "      <td>0</td>\n",
       "      <td>0</td>\n",
       "      <td>STON/O2. 3101282</td>\n",
       "      <td>7.9250</td>\n",
       "      <td>NaN</td>\n",
       "      <td>S</td>\n",
       "      <td>False</td>\n",
       "      <td>False</td>\n",
       "      <td>False</td>\n",
       "      <td>True</td>\n",
       "    </tr>\n",
       "    <tr>\n",
       "      <th>3</th>\n",
       "      <td>4</td>\n",
       "      <td>1</td>\n",
       "      <td>1</td>\n",
       "      <td>Futrelle, Mrs. Jacques Heath (Lily May Peel)</td>\n",
       "      <td>female</td>\n",
       "      <td>35.0</td>\n",
       "      <td>1</td>\n",
       "      <td>0</td>\n",
       "      <td>113803</td>\n",
       "      <td>53.1000</td>\n",
       "      <td>C123</td>\n",
       "      <td>S</td>\n",
       "      <td>True</td>\n",
       "      <td>False</td>\n",
       "      <td>False</td>\n",
       "      <td>True</td>\n",
       "    </tr>\n",
       "    <tr>\n",
       "      <th>4</th>\n",
       "      <td>5</td>\n",
       "      <td>0</td>\n",
       "      <td>3</td>\n",
       "      <td>Allen, Mr. William Henry</td>\n",
       "      <td>male</td>\n",
       "      <td>35.0</td>\n",
       "      <td>0</td>\n",
       "      <td>0</td>\n",
       "      <td>373450</td>\n",
       "      <td>8.0500</td>\n",
       "      <td>NaN</td>\n",
       "      <td>S</td>\n",
       "      <td>False</td>\n",
       "      <td>False</td>\n",
       "      <td>True</td>\n",
       "      <td>False</td>\n",
       "    </tr>\n",
       "  </tbody>\n",
       "</table>\n",
       "</div>"
      ],
      "text/plain": [
       "   PassengerId  Survived  Pclass  \\\n",
       "0            1         0       3   \n",
       "1            2         1       1   \n",
       "2            3         1       3   \n",
       "3            4         1       1   \n",
       "4            5         0       3   \n",
       "\n",
       "                                                Name     Sex   Age  SibSp  \\\n",
       "0                            Braund, Mr. Owen Harris    male  22.0      1   \n",
       "1  Cumings, Mrs. John Bradley (Florence Briggs Th...  female  38.0      1   \n",
       "2                             Heikkinen, Miss. Laina  female  26.0      0   \n",
       "3       Futrelle, Mrs. Jacques Heath (Lily May Peel)  female  35.0      1   \n",
       "4                           Allen, Mr. William Henry    male  35.0      0   \n",
       "\n",
       "   Parch            Ticket     Fare Cabin Embarked  Alone  Child   Male  \\\n",
       "0      0         A/5 21171   7.2500   NaN        S   True  False   True   \n",
       "1      0          PC 17599  71.2833   C85        C   True  False  False   \n",
       "2      0  STON/O2. 3101282   7.9250   NaN        S  False  False  False   \n",
       "3      0            113803  53.1000  C123        S   True  False  False   \n",
       "4      0            373450   8.0500   NaN        S  False  False   True   \n",
       "\n",
       "  SurvivedTF  \n",
       "0      False  \n",
       "1       True  \n",
       "2       True  \n",
       "3       True  \n",
       "4      False  "
      ]
     },
     "execution_count": 27,
     "metadata": {},
     "output_type": "execute_result"
    }
   ],
   "source": [
    "# Create Alone column based on non-zero values in SibSp and ParCh\n",
    "titanic_df['Alone'] = (titanic_df['SibSp'] + titanic_df['Parch']) > 0\n",
    "\n",
    "# Create Adult True/False values for passengers by age\n",
    "titanic_df['Child'] = (titanic_df['Age'] < 18)\n",
    "\n",
    "# Create Male True/False column\n",
    "titanic_df['Male'] = (titanic_df['Sex'] == 'male')\n",
    "\n",
    "# Create Survival True/False column\n",
    "titanic_df['SurvivedTF'] = (titanic_df['Survived'] == 1)\n",
    "\n",
    "titanic_df.head()"
   ]
  },
  {
   "cell_type": "code",
   "execution_count": 28,
   "metadata": {
    "collapsed": false
   },
   "outputs": [],
   "source": [
    "# Split main table into two for the ones that made it and the ones that didn't\n",
    "madeit_df = titanic_df.query('SurvivedTF == True')\n",
    "didnt_df = titanic_df.query('SurvivedTF == False')"
   ]
  },
  {
   "cell_type": "markdown",
   "metadata": {},
   "source": [
    "# Data Analysis"
   ]
  },
  {
   "cell_type": "code",
   "execution_count": 29,
   "metadata": {
    "collapsed": false
   },
   "outputs": [
    {
     "data": {
      "text/html": [
       "<div>\n",
       "<table border=\"1\" class=\"dataframe\">\n",
       "  <thead>\n",
       "    <tr style=\"text-align: right;\">\n",
       "      <th></th>\n",
       "      <th>Survived</th>\n",
       "      <th>Male</th>\n",
       "      <th>Child</th>\n",
       "      <th>Alone</th>\n",
       "      <th>PassengerId</th>\n",
       "    </tr>\n",
       "  </thead>\n",
       "  <tbody>\n",
       "    <tr>\n",
       "      <th>4</th>\n",
       "      <td>0</td>\n",
       "      <td>True</td>\n",
       "      <td>False</td>\n",
       "      <td>False</td>\n",
       "      <td>336</td>\n",
       "    </tr>\n",
       "    <tr>\n",
       "      <th>5</th>\n",
       "      <td>0</td>\n",
       "      <td>True</td>\n",
       "      <td>False</td>\n",
       "      <td>True</td>\n",
       "      <td>97</td>\n",
       "    </tr>\n",
       "    <tr>\n",
       "      <th>1</th>\n",
       "      <td>0</td>\n",
       "      <td>False</td>\n",
       "      <td>False</td>\n",
       "      <td>True</td>\n",
       "      <td>39</td>\n",
       "    </tr>\n",
       "    <tr>\n",
       "      <th>0</th>\n",
       "      <td>0</td>\n",
       "      <td>False</td>\n",
       "      <td>False</td>\n",
       "      <td>False</td>\n",
       "      <td>25</td>\n",
       "    </tr>\n",
       "    <tr>\n",
       "      <th>7</th>\n",
       "      <td>0</td>\n",
       "      <td>True</td>\n",
       "      <td>True</td>\n",
       "      <td>True</td>\n",
       "      <td>24</td>\n",
       "    </tr>\n",
       "    <tr>\n",
       "      <th>3</th>\n",
       "      <td>0</td>\n",
       "      <td>False</td>\n",
       "      <td>True</td>\n",
       "      <td>True</td>\n",
       "      <td>15</td>\n",
       "    </tr>\n",
       "    <tr>\n",
       "      <th>6</th>\n",
       "      <td>0</td>\n",
       "      <td>True</td>\n",
       "      <td>True</td>\n",
       "      <td>False</td>\n",
       "      <td>11</td>\n",
       "    </tr>\n",
       "    <tr>\n",
       "      <th>2</th>\n",
       "      <td>0</td>\n",
       "      <td>False</td>\n",
       "      <td>True</td>\n",
       "      <td>False</td>\n",
       "      <td>2</td>\n",
       "    </tr>\n",
       "    <tr>\n",
       "      <th>9</th>\n",
       "      <td>1</td>\n",
       "      <td>False</td>\n",
       "      <td>False</td>\n",
       "      <td>True</td>\n",
       "      <td>105</td>\n",
       "    </tr>\n",
       "    <tr>\n",
       "      <th>8</th>\n",
       "      <td>1</td>\n",
       "      <td>False</td>\n",
       "      <td>False</td>\n",
       "      <td>False</td>\n",
       "      <td>90</td>\n",
       "    </tr>\n",
       "    <tr>\n",
       "      <th>12</th>\n",
       "      <td>1</td>\n",
       "      <td>True</td>\n",
       "      <td>False</td>\n",
       "      <td>False</td>\n",
       "      <td>63</td>\n",
       "    </tr>\n",
       "    <tr>\n",
       "      <th>11</th>\n",
       "      <td>1</td>\n",
       "      <td>False</td>\n",
       "      <td>True</td>\n",
       "      <td>True</td>\n",
       "      <td>29</td>\n",
       "    </tr>\n",
       "    <tr>\n",
       "      <th>13</th>\n",
       "      <td>1</td>\n",
       "      <td>True</td>\n",
       "      <td>False</td>\n",
       "      <td>True</td>\n",
       "      <td>23</td>\n",
       "    </tr>\n",
       "    <tr>\n",
       "      <th>15</th>\n",
       "      <td>1</td>\n",
       "      <td>True</td>\n",
       "      <td>True</td>\n",
       "      <td>True</td>\n",
       "      <td>22</td>\n",
       "    </tr>\n",
       "    <tr>\n",
       "      <th>10</th>\n",
       "      <td>1</td>\n",
       "      <td>False</td>\n",
       "      <td>True</td>\n",
       "      <td>False</td>\n",
       "      <td>9</td>\n",
       "    </tr>\n",
       "    <tr>\n",
       "      <th>14</th>\n",
       "      <td>1</td>\n",
       "      <td>True</td>\n",
       "      <td>True</td>\n",
       "      <td>False</td>\n",
       "      <td>1</td>\n",
       "    </tr>\n",
       "  </tbody>\n",
       "</table>\n",
       "</div>"
      ],
      "text/plain": [
       "    Survived   Male  Child  Alone  PassengerId\n",
       "4          0   True  False  False          336\n",
       "5          0   True  False   True           97\n",
       "1          0  False  False   True           39\n",
       "0          0  False  False  False           25\n",
       "7          0   True   True   True           24\n",
       "3          0  False   True   True           15\n",
       "6          0   True   True  False           11\n",
       "2          0  False   True  False            2\n",
       "9          1  False  False   True          105\n",
       "8          1  False  False  False           90\n",
       "12         1   True  False  False           63\n",
       "11         1  False   True   True           29\n",
       "13         1   True  False   True           23\n",
       "15         1   True   True   True           22\n",
       "10         1  False   True  False            9\n",
       "14         1   True   True  False            1"
      ]
     },
     "execution_count": 29,
     "metadata": {},
     "output_type": "execute_result"
    }
   ],
   "source": [
    "survival_grouping_df = titanic_df.groupby(['Survived','Male','Child','Alone'], as_index=False)['PassengerId'].count()\n",
    "survival_grouping_df.sort_values(['Survived','PassengerId'], ascending=[1,0])"
   ]
  },
  {
   "cell_type": "markdown",
   "metadata": {},
   "source": [
    "> The table above counts the number of passengers grouped by their survival, sex, age and whether they travel alone. At first look it seems that the group that had the list chance to survive are adult men traveling alone, followed by adult males traveling with family members. The group with the highest survival numbers is adult women traveling with family, followed by adult women traveling alone.\n",
    "\n",
    "> Looking at the number of survivors in each group is not a true indication of the survival rate because we don't know how many passengers were on board overall for each group. The table below compares the survival rates based on % of passengers in each group that survived compared to the overall count of passengers in that group."
   ]
  },
  {
   "cell_type": "code",
   "execution_count": 30,
   "metadata": {
    "collapsed": false
   },
   "outputs": [
    {
     "data": {
      "text/html": [
       "<div>\n",
       "<table border=\"1\" class=\"dataframe\">\n",
       "  <thead>\n",
       "    <tr style=\"text-align: right;\">\n",
       "      <th></th>\n",
       "      <th>Survived_x</th>\n",
       "      <th>Male</th>\n",
       "      <th>Child</th>\n",
       "      <th>Alone</th>\n",
       "      <th>PassengerId_x</th>\n",
       "      <th>Survived_y</th>\n",
       "      <th>PassengerId_y</th>\n",
       "      <th>TotalCount</th>\n",
       "      <th>SurvivalRate</th>\n",
       "      <th>GroupName</th>\n",
       "    </tr>\n",
       "  </thead>\n",
       "  <tbody>\n",
       "    <tr>\n",
       "      <th>2</th>\n",
       "      <td>1</td>\n",
       "      <td>False</td>\n",
       "      <td>True</td>\n",
       "      <td>False</td>\n",
       "      <td>9</td>\n",
       "      <td>0</td>\n",
       "      <td>2</td>\n",
       "      <td>11</td>\n",
       "      <td>81.818182</td>\n",
       "      <td>Child female traveling with family</td>\n",
       "    </tr>\n",
       "    <tr>\n",
       "      <th>0</th>\n",
       "      <td>1</td>\n",
       "      <td>False</td>\n",
       "      <td>False</td>\n",
       "      <td>False</td>\n",
       "      <td>90</td>\n",
       "      <td>0</td>\n",
       "      <td>25</td>\n",
       "      <td>115</td>\n",
       "      <td>78.260870</td>\n",
       "      <td>Adult female traveling with family</td>\n",
       "    </tr>\n",
       "    <tr>\n",
       "      <th>1</th>\n",
       "      <td>1</td>\n",
       "      <td>False</td>\n",
       "      <td>False</td>\n",
       "      <td>True</td>\n",
       "      <td>105</td>\n",
       "      <td>0</td>\n",
       "      <td>39</td>\n",
       "      <td>144</td>\n",
       "      <td>72.916667</td>\n",
       "      <td>Adult female traveling alone</td>\n",
       "    </tr>\n",
       "    <tr>\n",
       "      <th>3</th>\n",
       "      <td>1</td>\n",
       "      <td>False</td>\n",
       "      <td>True</td>\n",
       "      <td>True</td>\n",
       "      <td>29</td>\n",
       "      <td>0</td>\n",
       "      <td>15</td>\n",
       "      <td>44</td>\n",
       "      <td>65.909091</td>\n",
       "      <td>Child female traveling alone</td>\n",
       "    </tr>\n",
       "    <tr>\n",
       "      <th>7</th>\n",
       "      <td>1</td>\n",
       "      <td>True</td>\n",
       "      <td>True</td>\n",
       "      <td>True</td>\n",
       "      <td>22</td>\n",
       "      <td>0</td>\n",
       "      <td>24</td>\n",
       "      <td>46</td>\n",
       "      <td>47.826087</td>\n",
       "      <td>Child male traveling alone</td>\n",
       "    </tr>\n",
       "    <tr>\n",
       "      <th>5</th>\n",
       "      <td>1</td>\n",
       "      <td>True</td>\n",
       "      <td>False</td>\n",
       "      <td>True</td>\n",
       "      <td>23</td>\n",
       "      <td>0</td>\n",
       "      <td>97</td>\n",
       "      <td>120</td>\n",
       "      <td>19.166667</td>\n",
       "      <td>Adult male traveling alone</td>\n",
       "    </tr>\n",
       "    <tr>\n",
       "      <th>4</th>\n",
       "      <td>1</td>\n",
       "      <td>True</td>\n",
       "      <td>False</td>\n",
       "      <td>False</td>\n",
       "      <td>63</td>\n",
       "      <td>0</td>\n",
       "      <td>336</td>\n",
       "      <td>399</td>\n",
       "      <td>15.789474</td>\n",
       "      <td>Adult male traveling with family</td>\n",
       "    </tr>\n",
       "    <tr>\n",
       "      <th>6</th>\n",
       "      <td>1</td>\n",
       "      <td>True</td>\n",
       "      <td>True</td>\n",
       "      <td>False</td>\n",
       "      <td>1</td>\n",
       "      <td>0</td>\n",
       "      <td>11</td>\n",
       "      <td>12</td>\n",
       "      <td>8.333333</td>\n",
       "      <td>Child male traveling with family</td>\n",
       "    </tr>\n",
       "  </tbody>\n",
       "</table>\n",
       "</div>"
      ],
      "text/plain": [
       "   Survived_x   Male  Child  Alone  PassengerId_x  Survived_y  PassengerId_y  \\\n",
       "2           1  False   True  False              9           0              2   \n",
       "0           1  False  False  False             90           0             25   \n",
       "1           1  False  False   True            105           0             39   \n",
       "3           1  False   True   True             29           0             15   \n",
       "7           1   True   True   True             22           0             24   \n",
       "5           1   True  False   True             23           0             97   \n",
       "4           1   True  False  False             63           0            336   \n",
       "6           1   True   True  False              1           0             11   \n",
       "\n",
       "   TotalCount  SurvivalRate                           GroupName  \n",
       "2          11     81.818182  Child female traveling with family  \n",
       "0         115     78.260870  Adult female traveling with family  \n",
       "1         144     72.916667        Adult female traveling alone  \n",
       "3          44     65.909091        Child female traveling alone  \n",
       "7          46     47.826087          Child male traveling alone  \n",
       "5         120     19.166667          Adult male traveling alone  \n",
       "4         399     15.789474    Adult male traveling with family  \n",
       "6          12      8.333333    Child male traveling with family  "
      ]
     },
     "execution_count": 30,
     "metadata": {},
     "output_type": "execute_result"
    }
   ],
   "source": [
    "# merging the two tables above so we can compare values. \n",
    "# We can use inner Join because each table has the same \n",
    "# number of rows based on the grouping we did.\n",
    "\n",
    "# functions for creating group names for plotting\n",
    "def adult_child(value):\n",
    "    if value == True:\n",
    "        return 'Child'\n",
    "    else:\n",
    "        return 'Adult'\n",
    "    \n",
    "def male_female(value):\n",
    "    if value == True:\n",
    "        return ' male'\n",
    "    else:\n",
    "        return ' female'\n",
    "\n",
    "def alone_family(value):\n",
    "    if value == True:\n",
    "        return ' traveling alone'\n",
    "    else:\n",
    "        return ' traveling with family'\n",
    "\n",
    "group_compare_df = survival_grouping_df.query('Survived == 1').merge(survival_grouping_df.query('Survived == 0'), \\\n",
    "                                                                     on=['Male', 'Child',  'Alone'], how='inner')\n",
    "\n",
    "group_compare_df['TotalCount'] = group_compare_df['PassengerId_x'] + group_compare_df['PassengerId_y']\n",
    "group_compare_df['SurvivalRate'] = (group_compare_df['PassengerId_x'] / group_compare_df['TotalCount']) * 100\n",
    "\n",
    "# Build Groupname column for plot\n",
    "group_compare_df['GroupName'] = group_compare_df.applymap(adult_child)['Child'] + \\\n",
    "group_compare_df.applymap(male_female)['Male'] + group_compare_df.applymap(alone_family)['Alone']\n",
    "\n",
    "group_compare_df.sort_values(['SurvivalRate'], ascending=[0])"
   ]
  },
  {
   "cell_type": "markdown",
   "metadata": {},
   "source": [
    "> Looking at the above table and the graph below, it seems that the evacuation of the titanic truly did follow the \"Women and Children first\" rule."
   ]
  },
  {
   "cell_type": "code",
   "execution_count": 31,
   "metadata": {
    "collapsed": false
   },
   "outputs": [
    {
     "data": {
      "text/plain": [
       "<matplotlib.text.Text at 0xd6ea828>"
      ]
     },
     "execution_count": 31,
     "metadata": {},
     "output_type": "execute_result"
    },
    {
     "data": {
      "image/png": "[encoded data removed]",
      "text/plain": [
       "<matplotlib.figure.Figure at 0xd6e06d8>"
      ]
     },
     "metadata": {},
     "output_type": "display_data"
    }
   ],
   "source": [
    "# format plot\n",
    "fig, (axis1) = plt.subplots(1,figsize=(15,5))\n",
    "plt.xticks(rotation=90)\n",
    "sns.set(style=\"whitegrid\", color_codes=True)\n",
    "\n",
    "group_compare_plot = sns.barplot\\\n",
    "(x='GroupName', y='SurvivalRate', data=group_compare_df.sort_values(['SurvivalRate'], ascending=[0]), ax=axis1)\n",
    "\n",
    "for p in group_compare_plot.patches:\n",
    "    height = p.get_height()\n",
    "    group_compare_plot.text(p.get_x(), height+ 3, '%1.2f%%'%(height))\n",
    "    \n",
    "# add titles\n",
    "group_compare_plot.axes.set_title('% survival by age, sex and travel companions grouping')\n",
    "group_compare_plot.set_xlabel(\"Travel Status\")\n",
    "group_compare_plot.set_ylabel(\"% Survived\")"
   ]
  },
  {
   "cell_type": "markdown",
   "metadata": {},
   "source": [
    "## Did the passenger's Sex play any role in their chance of survival?\n",
    "> Now let's look at each one of the passenger attributes individually and compare survival rates based on those attributes."
   ]
  },
  {
   "cell_type": "code",
   "execution_count": 32,
   "metadata": {
    "collapsed": false
   },
   "outputs": [
    {
     "data": {
      "text/plain": [
       "<matplotlib.text.Text at 0xda9b278>"
      ]
     },
     "execution_count": 32,
     "metadata": {},
     "output_type": "execute_result"
    },
    {
     "data": {
      "image/png": "[encoded data removed]",
      "text/plain": [
       "<matplotlib.figure.Figure at 0xd796240>"
      ]
     },
     "metadata": {},
     "output_type": "display_data"
    }
   ],
   "source": [
    "# Count of Passengers by Sex\n",
    "fig, (axis1,axis2) = plt.subplots(1,2,figsize=(15,5))\n",
    "axis1 = sns.countplot(x='Sex', data=titanic_df, ax=axis1, hue='Sex')\n",
    "# add titles\n",
    "axis1.axes.set_title('Count of survivals by sex')\n",
    "axis1.set_xlabel(\"Sex\")\n",
    "axis1.set_ylabel(\"Count\")\n",
    "\n",
    "# average of survived by Sex\n",
    "grouped_by_sex = titanic_df[['Sex', 'SurvivedTF']].groupby(['Sex'],as_index=False).mean()\n",
    "axis2 = sns.barplot(x='Sex', y='SurvivedTF', data=grouped_by_sex, hue='Sex', ax=axis2, order=['male','female'])\n",
    "\n",
    "# add titles\n",
    "axis2.axes.set_title('Count of passengers who did not survive by sex')\n",
    "axis2.set_xlabel(\"Sex\")\n",
    "axis2.set_ylabel(\"Count\")"
   ]
  },
  {
   "cell_type": "markdown",
   "metadata": {},
   "source": [
    "## Overall Distribution by Sex"
   ]
  },
  {
   "cell_type": "code",
   "execution_count": 33,
   "metadata": {
    "collapsed": false
   },
   "outputs": [
    {
     "data": {
      "text/html": [
       "<div>\n",
       "<table border=\"1\" class=\"dataframe\">\n",
       "  <thead>\n",
       "    <tr style=\"text-align: right;\">\n",
       "      <th></th>\n",
       "      <th>Sex</th>\n",
       "      <th>PassengerId</th>\n",
       "    </tr>\n",
       "  </thead>\n",
       "  <tbody>\n",
       "    <tr>\n",
       "      <th>0</th>\n",
       "      <td>female</td>\n",
       "      <td>314</td>\n",
       "    </tr>\n",
       "    <tr>\n",
       "      <th>1</th>\n",
       "      <td>male</td>\n",
       "      <td>577</td>\n",
       "    </tr>\n",
       "  </tbody>\n",
       "</table>\n",
       "</div>"
      ],
      "text/plain": [
       "      Sex  PassengerId\n",
       "0  female          314\n",
       "1    male          577"
      ]
     },
     "execution_count": 33,
     "metadata": {},
     "output_type": "execute_result"
    },
    {
     "data": {
      "image/png": "[encoded data removed]",
      "text/plain": [
       "<matplotlib.figure.Figure at 0xd6cff60>"
      ]
     },
     "metadata": {},
     "output_type": "display_data"
    }
   ],
   "source": [
    "titanic_df.groupby(['Sex'], as_index=True)['Sex'].count() \\\n",
    ".plot.pie(subplots=True, title='Overall Distribution by Sex', autopct='%.2f%%', fontsize=12)\n",
    "titanic_df.groupby(['Sex'], as_index=False)['PassengerId'].count()"
   ]
  },
  {
   "cell_type": "markdown",
   "metadata": {},
   "source": [
    "## % of Sex of Passengers Who Survived"
   ]
  },
  {
   "cell_type": "code",
   "execution_count": 34,
   "metadata": {
    "collapsed": false
   },
   "outputs": [
    {
     "data": {
      "text/html": [
       "<div>\n",
       "<table border=\"1\" class=\"dataframe\">\n",
       "  <thead>\n",
       "    <tr style=\"text-align: right;\">\n",
       "      <th></th>\n",
       "      <th>Sex</th>\n",
       "      <th>PassengerId</th>\n",
       "    </tr>\n",
       "  </thead>\n",
       "  <tbody>\n",
       "    <tr>\n",
       "      <th>0</th>\n",
       "      <td>female</td>\n",
       "      <td>233</td>\n",
       "    </tr>\n",
       "    <tr>\n",
       "      <th>1</th>\n",
       "      <td>male</td>\n",
       "      <td>109</td>\n",
       "    </tr>\n",
       "  </tbody>\n",
       "</table>\n",
       "</div>"
      ],
      "text/plain": [
       "      Sex  PassengerId\n",
       "0  female          233\n",
       "1    male          109"
      ]
     },
     "execution_count": 34,
     "metadata": {},
     "output_type": "execute_result"
    },
    {
     "data": {
      "image/png": "[encoded data removed]",
      "text/plain": [
       "<matplotlib.figure.Figure at 0xd6bcbe0>"
      ]
     },
     "metadata": {},
     "output_type": "display_data"
    }
   ],
   "source": [
    "madeit_df.groupby(['Sex'], as_index=True)['Sex'].count() \\\n",
    ".plot.pie(subplots=True, title='% of Sex of Passangers Who Survived', autopct='%.2f%%', fontsize=12)\n",
    "madeit_df.groupby(['Sex'], as_index=False)['PassengerId'].count()"
   ]
  },
  {
   "cell_type": "markdown",
   "metadata": {},
   "source": [
    "## % of Sex of Passengers who did not Survived"
   ]
  },
  {
   "cell_type": "code",
   "execution_count": 35,
   "metadata": {
    "collapsed": false
   },
   "outputs": [
    {
     "data": {
      "text/html": [
       "<div>\n",
       "<table border=\"1\" class=\"dataframe\">\n",
       "  <thead>\n",
       "    <tr style=\"text-align: right;\">\n",
       "      <th></th>\n",
       "      <th>Sex</th>\n",
       "      <th>PassengerId</th>\n",
       "    </tr>\n",
       "  </thead>\n",
       "  <tbody>\n",
       "    <tr>\n",
       "      <th>0</th>\n",
       "      <td>female</td>\n",
       "      <td>81</td>\n",
       "    </tr>\n",
       "    <tr>\n",
       "      <th>1</th>\n",
       "      <td>male</td>\n",
       "      <td>468</td>\n",
       "    </tr>\n",
       "  </tbody>\n",
       "</table>\n",
       "</div>"
      ],
      "text/plain": [
       "      Sex  PassengerId\n",
       "0  female           81\n",
       "1    male          468"
      ]
     },
     "execution_count": 35,
     "metadata": {},
     "output_type": "execute_result"
    },
    {
     "data": {
      "image/png": "[encoded data removed]",
      "text/plain": [
       "<matplotlib.figure.Figure at 0xc987940>"
      ]
     },
     "metadata": {},
     "output_type": "display_data"
    }
   ],
   "source": [
    "didnt_df.groupby(['Sex'], as_index=True)['Sex'].count() \\\n",
    ".plot.pie(subplots=True, title='% of Sex of Passengers who did not Survived', autopct='%.2f%%', fontsize=12)\n",
    "didnt_df.groupby(['Sex'], as_index=False)['PassengerId'].count()"
   ]
  },
  {
   "cell_type": "markdown",
   "metadata": {},
   "source": [
    "## Did the passenger's Age play any role in their chance of survival?\n",
    "\n",
    "> Per our earlier finding, only 714 out of the 891 passengers on the roster have an age specified in the data set. The matplotlib library automatically excludes any NaN values when displaying histograms and bar plots and these passengers are not included in the age distribution graph you see below.\n",
    "\n",
    "> For the purpose of evaluating if the passenger is an Adult or a Child we assume that passengers without an age are adults since the average age of the passengers is 29.7 years.\n"
   ]
  },
  {
   "cell_type": "code",
   "execution_count": 36,
   "metadata": {
    "collapsed": false
   },
   "outputs": [
    {
     "data": {
      "text/plain": [
       "<matplotlib.text.Text at 0xdcd1ef0>"
      ]
     },
     "execution_count": 36,
     "metadata": {},
     "output_type": "execute_result"
    },
    {
     "data": {
      "image/png": "[encoded data removed]",
      "text/plain": [
       "<matplotlib.figure.Figure at 0xc6a8668>"
      ]
     },
     "metadata": {},
     "output_type": "display_data"
    },
    {
     "data": {
      "image/png": "[encoded data removed]",
      "text/plain": [
       "<matplotlib.figure.Figure at 0xc9e9978>"
      ]
     },
     "metadata": {},
     "output_type": "display_data"
    }
   ],
   "source": [
    "# Survival Rate by Age\n",
    "\n",
    "fig, (axis1) = plt.subplots(1,figsize=(15,5))\n",
    "\n",
    "didnt_df['Age'].hist(bins=25)\n",
    "madeit_df['Age'].hist(bins=25, color = 'r', alpha=0.50)\n",
    "plt.xlabel('Passanger Age')\n",
    "plt.ylabel('Count')\n",
    "plt.title('Distribution of passenger age by survival')\n",
    "\n",
    "\n",
    "# Count of Adults / Children\n",
    "fig, (axis1,axis2) = plt.subplots(1,2,figsize=(15,5))\n",
    "sns.countplot(x='Child', data=titanic_df, ax=axis1)\n",
    "\n",
    "# add titles\n",
    "axis1.axes.set_title('Overall count of adults vs. children on board')\n",
    "axis1.set_xlabel(\"Child Status\")\n",
    "axis1.set_ylabel(\"Count\")\n",
    "\n",
    "# average of survived by Sex\n",
    "grouped_by_age = titanic_df[['Child', 'Survived']].groupby(['Child'],as_index=False).mean()\n",
    "sns.barplot(x='Child', y='Survived', data=grouped_by_age, ax=axis2, order=[False,True])\n",
    "\n",
    "# add titles\n",
    "axis2.axes.set_title('% of children and adult passengers who did not survive')\n",
    "axis2.set_xlabel(\"Child Status\")\n",
    "axis2.set_ylabel(\"Count\")"
   ]
  },
  {
   "cell_type": "markdown",
   "metadata": {},
   "source": [
    "> The above graphs show the children were given priority when the Titanic was evacuated. Even though children represented approx. 1/8 of the passengers, more than 50% of the survivors were under 18.\n"
   ]
  },
  {
   "cell_type": "markdown",
   "metadata": {},
   "source": [
    "## Did the amount payed by the passenger for their ticket play any role in their chance of survival?\n",
    "\n",
    "> The average price ticket paid by survivors vs non-survivors is almost double."
   ]
  },
  {
   "cell_type": "code",
   "execution_count": 37,
   "metadata": {
    "collapsed": false
   },
   "outputs": [
    {
     "data": {
      "text/html": [
       "<div>\n",
       "<table border=\"1\" class=\"dataframe\">\n",
       "  <thead>\n",
       "    <tr style=\"text-align: right;\">\n",
       "      <th></th>\n",
       "      <th>SurvivedTF</th>\n",
       "      <th>Fare</th>\n",
       "    </tr>\n",
       "  </thead>\n",
       "  <tbody>\n",
       "    <tr>\n",
       "      <th>0</th>\n",
       "      <td>False</td>\n",
       "      <td>22.117887</td>\n",
       "    </tr>\n",
       "    <tr>\n",
       "      <th>1</th>\n",
       "      <td>True</td>\n",
       "      <td>48.395408</td>\n",
       "    </tr>\n",
       "  </tbody>\n",
       "</table>\n",
       "</div>"
      ],
      "text/plain": [
       "  SurvivedTF       Fare\n",
       "0      False  22.117887\n",
       "1       True  48.395408"
      ]
     },
     "execution_count": 37,
     "metadata": {},
     "output_type": "execute_result"
    }
   ],
   "source": [
    "# Survival Rate by Fare\n",
    "titanic_df.groupby(['SurvivedTF'], as_index=False)['Fare'].mean()"
   ]
  },
  {
   "cell_type": "code",
   "execution_count": 38,
   "metadata": {
    "collapsed": false
   },
   "outputs": [
    {
     "data": {
      "text/html": [
       "<div>\n",
       "<table border=\"1\" class=\"dataframe\">\n",
       "  <thead>\n",
       "    <tr style=\"text-align: right;\">\n",
       "      <th></th>\n",
       "      <th>Pclass</th>\n",
       "      <th>PassengerId</th>\n",
       "    </tr>\n",
       "  </thead>\n",
       "  <tbody>\n",
       "    <tr>\n",
       "      <th>0</th>\n",
       "      <td>1</td>\n",
       "      <td>216</td>\n",
       "    </tr>\n",
       "    <tr>\n",
       "      <th>1</th>\n",
       "      <td>2</td>\n",
       "      <td>184</td>\n",
       "    </tr>\n",
       "    <tr>\n",
       "      <th>2</th>\n",
       "      <td>3</td>\n",
       "      <td>491</td>\n",
       "    </tr>\n",
       "  </tbody>\n",
       "</table>\n",
       "</div>"
      ],
      "text/plain": [
       "   Pclass  PassengerId\n",
       "0       1          216\n",
       "1       2          184\n",
       "2       3          491"
      ]
     },
     "execution_count": 38,
     "metadata": {},
     "output_type": "execute_result"
    },
    {
     "data": {
      "image/png": "[encoded data removed]",
      "text/plain": [
       "<matplotlib.figure.Figure at 0xc46a2b0>"
      ]
     },
     "metadata": {},
     "output_type": "display_data"
    }
   ],
   "source": [
    "titanic_df.groupby(['Pclass'], as_index=True)['Pclass'].count() \\\n",
    ".plot.pie(subplots=True, title='Overall Distribution of Class', autopct='%.2f%%', fontsize=12)\n",
    "titanic_df.groupby(['Pclass'], as_index=False)['PassengerId'].count()"
   ]
  },
  {
   "cell_type": "code",
   "execution_count": 39,
   "metadata": {
    "collapsed": false
   },
   "outputs": [
    {
     "data": {
      "text/html": [
       "<div>\n",
       "<table border=\"1\" class=\"dataframe\">\n",
       "  <thead>\n",
       "    <tr style=\"text-align: right;\">\n",
       "      <th></th>\n",
       "      <th>Pclass</th>\n",
       "      <th>PassengerId</th>\n",
       "    </tr>\n",
       "  </thead>\n",
       "  <tbody>\n",
       "    <tr>\n",
       "      <th>0</th>\n",
       "      <td>1</td>\n",
       "      <td>136</td>\n",
       "    </tr>\n",
       "    <tr>\n",
       "      <th>1</th>\n",
       "      <td>2</td>\n",
       "      <td>87</td>\n",
       "    </tr>\n",
       "    <tr>\n",
       "      <th>2</th>\n",
       "      <td>3</td>\n",
       "      <td>119</td>\n",
       "    </tr>\n",
       "  </tbody>\n",
       "</table>\n",
       "</div>"
      ],
      "text/plain": [
       "   Pclass  PassengerId\n",
       "0       1          136\n",
       "1       2           87\n",
       "2       3          119"
      ]
     },
     "execution_count": 39,
     "metadata": {},
     "output_type": "execute_result"
    },
    {
     "data": {
      "image/png": "[encoded data removed]",
      "text/plain": [
       "<matplotlib.figure.Figure at 0xca17cf8>"
      ]
     },
     "metadata": {},
     "output_type": "display_data"
    }
   ],
   "source": [
    "madeit_df.groupby(['Pclass'], as_index=True)['Pclass'].count() \\\n",
    ".plot.pie(subplots=True, title='Class distribution of Passengers who Survived', autopct='%.2f%%', fontsize=12)\n",
    "madeit_df.groupby(['Pclass'], as_index=False)['PassengerId'].count()"
   ]
  },
  {
   "cell_type": "code",
   "execution_count": 40,
   "metadata": {
    "collapsed": false
   },
   "outputs": [
    {
     "data": {
      "text/html": [
       "<div>\n",
       "<table border=\"1\" class=\"dataframe\">\n",
       "  <thead>\n",
       "    <tr style=\"text-align: right;\">\n",
       "      <th></th>\n",
       "      <th>Pclass</th>\n",
       "      <th>PassengerId</th>\n",
       "    </tr>\n",
       "  </thead>\n",
       "  <tbody>\n",
       "    <tr>\n",
       "      <th>0</th>\n",
       "      <td>1</td>\n",
       "      <td>80</td>\n",
       "    </tr>\n",
       "    <tr>\n",
       "      <th>1</th>\n",
       "      <td>2</td>\n",
       "      <td>97</td>\n",
       "    </tr>\n",
       "    <tr>\n",
       "      <th>2</th>\n",
       "      <td>3</td>\n",
       "      <td>372</td>\n",
       "    </tr>\n",
       "  </tbody>\n",
       "</table>\n",
       "</div>"
      ],
      "text/plain": [
       "   Pclass  PassengerId\n",
       "0       1           80\n",
       "1       2           97\n",
       "2       3          372"
      ]
     },
     "execution_count": 40,
     "metadata": {},
     "output_type": "execute_result"
    },
    {
     "data": {
      "image/png": "[encoded data removed]",
      "text/plain": [
       "<matplotlib.figure.Figure at 0xc730ba8>"
      ]
     },
     "metadata": {},
     "output_type": "display_data"
    }
   ],
   "source": [
    "didnt_df.groupby(['Pclass'], as_index=True)['Pclass'].count() \\\n",
    ".plot.pie(subplots=True, title='Class Distribution of Passengers who did not Survived', autopct='%.2f%%', fontsize=12)\n",
    "didnt_df.groupby(['Pclass'], as_index=False)['PassengerId'].count()"
   ]
  },
  {
   "cell_type": "markdown",
   "metadata": {},
   "source": [
    "> Looking at the above pie charts that compare the overall distribution of class among the passengers and the distribution of class among survivors and non-survivors, it seems that even though the passengers in class 3 represented 55% of the overall count, they only represent 35% of the passengers who survived. Combined with the difference in average ticket price paid by survivors vs. non-survivors, it seems that status did play a role in the passengers’ chance of survival."
   ]
  },
  {
   "cell_type": "markdown",
   "metadata": {},
   "source": [
    "## Do passengers with family members aboard have a higher survival rate?\n",
    "\n",
    "> It seems that travelling alone reduced the passengers' chance of survival. It's possible that since not many women or children were traveling alone the lower number of survival among passengers who traveled alone is due to the \"Women and Children First\" policy.\n"
   ]
  },
  {
   "cell_type": "code",
   "execution_count": 41,
   "metadata": {
    "collapsed": false
   },
   "outputs": [
    {
     "data": {
      "text/plain": [
       "<matplotlib.text.Text at 0xe7e8128>"
      ]
     },
     "execution_count": 41,
     "metadata": {},
     "output_type": "execute_result"
    },
    {
     "data": {
      "image/png": "[encoded data removed]",
      "text/plain": [
       "<matplotlib.figure.Figure at 0xe1db240>"
      ]
     },
     "metadata": {},
     "output_type": "display_data"
    }
   ],
   "source": [
    "# Count of passengers without family members on board\n",
    "fig, (axis1,axis2) = plt.subplots(1,2,figsize=(15,5))\n",
    "sns.countplot(x='Alone', data=titanic_df, ax=axis1)\n",
    "# add titles\n",
    "axis1.axes.set_title('Count of passengers who traveled alone and passengers who did not')\n",
    "axis1.set_xlabel(\"Passenger traveled alone\")\n",
    "axis2.set_ylabel(\"Count\")\n",
    "\n",
    "\n",
    "# Survival rate of passengers without family members\n",
    "grouped_by_age = titanic_df[['Alone', 'Survived']].groupby(['Alone'],as_index=False).mean()\n",
    "sns.barplot(x='Alone', y='Survived', data=grouped_by_age, ax=axis2, order=[False,True])\n",
    "\n",
    "# add titles\n",
    "axis2.axes.set_title('% of passengers who traveled who did not survive')\n",
    "axis2.set_xlabel(\"Passenger traveled alone\")\n",
    "axis2.set_ylabel(\"Count\")"
   ]
  },
  {
   "cell_type": "markdown",
   "metadata": {
    "collapsed": true
   },
   "source": [
    "# Conclusion\n",
    "\n",
    "> This project evaluated the Titanic passenger manifest provided by [kaggle](https://www.kaggle.com/c/titanic/data). This data set includes detailed information about the passengers aboard the Titanic on her maiden and last voyage across the North Atlantic Ocean. The dataset includes not only passenger information like Age, Sex, Class and cost of ticket, but also an indicator if the passenger survived or not. The data set also includes data indicating if the passenger traveled alone or not.\n",
    "\n",
    "> Analyzing the data brought to light a few minor issues that had to be accommodated for, like missing age values for 177 out of the 891 passengers. While evaluating the adult status of each patient, these passengers were treated as adults due to the fact that the average age of passengers was 29.7 years. I believe this is sufficient for the purpose of this exercise, although in a real-world data analysis situation I would have most likely chosen to apply the same Adult/Child ratio to the group of passengers missing age values as the group of passengers that had those values. Overall, only 1/7 of the passengers with age values were under 18 so I believe my choice had no significant impact on our age based survival rate results since those already leaned heavily towards children.\n",
    "\n",
    "## The following questions were identified for the purpose of this project:\n",
    "\n",
    "**Did the passenger's Sex play any role in their chance of survival?**\n",
    "> We divided our data set into 8 passenger groups and compared their survival rates based on Sex, Age (Adult vs. Child), and whether or not they traveled alone. Of those 8 groups, 4 grouped male passengers and 4 grouped female passengers. looking at our \"% survival by age, sex and travel companions grouping\" chart, it is clearly that sex had a very significant impact on a passenger’s survival rate since the top 4 groups with the highest survival rates all included female passengers only.\n",
    "\n",
    "**Did the passenger's Age play any role in their chance of survival?**\n",
    "> As mentioned above and visible in the \"Overall count of adults vs. children on board\" and \"% of children and adult passengers who did not survive\" graphs, it seems that children were given priority when the Titanic was evacuated. Even though children represented approx. 1/8 of the passengers, more than 50% of the survivors were under 18.\n",
    "\n",
    "**Did the amount payed by the passenger for their ticket play any role in their chance of survival?**\n",
    "> Based on the findings in the \"Survival Rate by Fare\" table, average price ticket paid by survivors vs non-survivors is almost double. Combining that data with the pie charts showing the distribution of overall, surviving and non-surviving passengers across the 3 classes, I believe there was a connection between price ticket and survival rate (passengers in class 3 represented 55% of the overall count, they only represent 35% of the passengers who survived). Since children had a much higher rate of survival, and most of them did not travel alone, this result may be tied to the fact that a traveling family would have to pay a higher price for the multiple tickets that by itself may indicate a higher income class. This can also be an indication of class privilege that benefitted richer passengers. More analysis is needed to make that determination.\n",
    "\n",
    "**Do passengers with any family members aboard have a higher survival rate?**\n",
    "> Travelling alone seemed to have an impact on survivability of Titanic passengers. It is possible that this is the results of the disproportionate percent of Men that were not evacuated if at the time Men were more likely to travel alone. Just like with the Fare analysis, more research is needed to make that conclusion.\n",
    "\n",
    "\n",
    "## Additional Investigation Points\n",
    "\n",
    "> When analyzing this dataset, the following additional questions came to mind:\n",
    "- was there a relation between the overall financial status of the passenger and their chances of surviving?\n",
    "- How many passengers did not survive in the life boats compared to the ones that were left on the titanic?\n",
    "- Was it easier/harder to reach the life boats from the area where class 3 passengers were occupying?\n",
    "- Among passengers who traveled together, how many of them survived along with their entire travel group?\n"
   ]
  }
 ],
 "metadata": {
  "anaconda-cloud": {},
  "kernelspec": {
   "display_name": "Python [Root]",
   "language": "python",
   "name": "Python [Root]"
  },
  "language_info": {
   "codemirror_mode": {
    "name": "ipython",
    "version": 2
   },
   "file_extension": ".py",
   "mimetype": "text/x-python",
   "name": "python",
   "nbconvert_exporter": "python",
   "pygments_lexer": "ipython2",
   "version": "2.7.12"
  }
 },
 "nbformat": 4,
 "nbformat_minor": 0
}
