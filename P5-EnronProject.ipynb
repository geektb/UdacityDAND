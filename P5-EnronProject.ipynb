{
 "cells": [
  {
   "cell_type": "markdown",
   "metadata": {},
   "source": [
    "# P5 - Identifying Fraud from Enron Emails\n",
    "\n",
    "\n",
    "##### Question 1(a) - Summarize for us the goal of this project and how machine learning is useful in trying to accomplish it. As part of your answer, give some background on the dataset and how it can be used to answer the project question.\n",
    "\n",
    "The goal of this project is to evaluate internal Enron e-mails of 140+ individuals and financial data related to their earning to try and identify a pattern or correlation between the e-mail and financial data and whether an individual was considered a Person of Interest (POI) in the Enron investigation.\n",
    "\n",
    "Udacity classified individuals in the financial dataset as a Person of Interest based on the following criteria:\n",
    "\n",
    "- Individuals who were indicted\n",
    "- Individuals who reached a settlement or plea deal with the government\n",
    "- Individuals who testified in exchange for prosecution immunity"
   ]
  },
  {
   "cell_type": "markdown",
   "metadata": {},
   "source": [
    "### Setting Up the Environment -  \n",
    "The first step I took was to setup my coding environment by loading the needed python libraries, populate the features_list variable with a complete list of available features and load the data into a data_dict object. I intentionally started with a complete list of available features (excluding the non-numeric values of email_address) so I can use different variations when choosing the best features (see Question 2).\n",
    "\n",
    "In addition, I created a function called get_kbest_features that accepts a dataframe and an integer number and returns a list of features using SelectKBest and the integer as the value of k."
   ]
  },
  {
   "cell_type": "code",
   "execution_count": 2,
   "metadata": {
    "collapsed": false
   },
   "outputs": [],
   "source": [
    "%matplotlib inline\n",
    "import matplotlib.pyplot as plt\n",
    "import numpy as np\n",
    "import pandas as pd\n",
    "import random\n",
    "import sys\n",
    "import pickle\n",
    "sys.path.append(\"../tools/\")\n",
    "\n",
    "from feature_format import featureFormat, targetFeatureSplit\n",
    "from tester import dump_classifier_and_data\n",
    "\n",
    "from sklearn.feature_selection import SelectKBest, f_regression\n",
    "from sklearn.cross_validation import train_test_split\n",
    "from sklearn.metrics import accuracy_score, precision_score, recall_score\n",
    "from sklearn import tree\n",
    "from sklearn.grid_search import GridSearchCV\n",
    "from sklearn.ensemble import AdaBoostClassifier\n",
    "from tester import test_classifier\n",
    "from sklearn.naive_bayes import GaussianNB\n",
    "from sklearn import svm\n",
    "\n",
    "def get_kbest_features(df, k):\n",
    "    sel_kbest = SelectKBest(f_regression, k)\n",
    "    sel_kbest.fit(df, df['poi'])\n",
    "    features_SelectKBest = df.columns[sel_kbest.get_support()].tolist()\n",
    "    return features_SelectKBest\n",
    "\n",
    "### Task 1: Select what features you'll use.\n",
    "### features_list is a list of strings, each of which is a feature name.\n",
    "### The first feature must be \"poi\".\n",
    "\n",
    "features_list = ['poi', 'bonus', 'deferral_payments', 'deferred_income', 'director_fees', \n",
    "                 'exercised_stock_options', 'expenses', 'from_messages', 'from_poi_to_this_person', \n",
    "                 'from_this_person_to_poi', 'loan_advances', 'long_term_incentive', 'other', \n",
    "                 'restricted_stock', 'restricted_stock_deferred', 'salary', 'shared_receipt_with_poi', \n",
    "                 'to_messages', 'total_payments', 'total_stock_value']\n",
    "\n",
    "### Load the dictionary containing the dataset\n",
    "with open(\"final_project_dataset.pkl\", \"r\") as data_file:\n",
    "    data_dict = pickle.load(data_file)"
   ]
  },
  {
   "cell_type": "markdown",
   "metadata": {},
   "source": [
    "### Rubric Item: Data Exploration -  \n",
    "Finding out how many Persons Of Interest, Data Points and Features we have in our dataset."
   ]
  },
  {
   "cell_type": "code",
   "execution_count": 3,
   "metadata": {
    "collapsed": false
   },
   "outputs": [
    {
     "name": "stdout",
     "output_type": "stream",
     "text": [
      "# of POIs:  18\n",
      "# of Data points:  146\n",
      "# of Features:  21\n"
     ]
    }
   ],
   "source": [
    "data_points_count = len(data_dict)\n",
    "data_features_count = len(data_dict[data_dict.keys()[0]])\n",
    "\n",
    "poi_count = 0\n",
    "for value in data_dict.values():\n",
    "    if value['poi'] == 1:\n",
    "        poi_count += 1\n",
    "\n",
    "print \"# of POIs: \", poi_count\n",
    "print \"# of Data points: \", data_points_count\n",
    "print \"# of Features: \", data_features_count"
   ]
  },
  {
   "cell_type": "markdown",
   "metadata": {},
   "source": [
    "### Rubric Item: Outlier Investigation -  \n",
    "\n",
    "##### Question 1(b) - Were there any outliers in the data when you got it, and how did you handle those?\n",
    "By plotting the available features (see sample plot of Salary and Bonus below) I was able to identify an outlier that existed across all features called \"TOTAL\". This was clearly a total of all the values of data points and I decided to remove it from the dataset."
   ]
  },
  {
   "cell_type": "code",
   "execution_count": 4,
   "metadata": {
    "collapsed": false
   },
   "outputs": [
    {
     "name": "stdout",
     "output_type": "stream",
     "text": [
      "TOTAL\n"
     ]
    },
    {
     "data": {
      "image/png": "[encoded data removed]",
      "text/plain": [
       "<matplotlib.figure.Figure at 0xad8d4e0>"
      ]
     },
     "metadata": {},
     "output_type": "display_data"
    }
   ],
   "source": [
    "### Task 2: Remove outliers\n",
    "### Identifying outlier by plotting values.\n",
    "\n",
    "# testing for outliers visually with Salary and Bonus data\n",
    "outlier_features = [\"salary\", \"bonus\"]\n",
    "outlier_data = featureFormat(data_dict, outlier_features)\n",
    "\n",
    "# Plotting\n",
    "plt.scatter(outlier_data[:,0], outlier_data[:,1])\n",
    "plt.xlabel(\"salary\")\n",
    "plt.ylabel(\"bonus\")\n",
    "\n",
    "# convert to Dataframe to identify outlier record\n",
    "outlier_df = pd.DataFrame(data_dict)\n",
    "\n",
    "# show \"person\" with highest salary/bonus values that is skewing our data\n",
    "print outlier_df.loc['salary',:].idxmax(axis=1)\n",
    "\n"
   ]
  },
  {
   "cell_type": "code",
   "execution_count": 5,
   "metadata": {
    "collapsed": false
   },
   "outputs": [
    {
     "data": {
      "text/plain": [
       "<matplotlib.text.Text at 0xaddc278>"
      ]
     },
     "execution_count": 5,
     "metadata": {},
     "output_type": "execute_result"
    },
    {
     "data": {
      "image/png": "[encoded data removed]",
      "text/plain": [
       "<matplotlib.figure.Figure at 0xad9fcc0>"
      ]
     },
     "metadata": {},
     "output_type": "display_data"
    }
   ],
   "source": [
    "### Found and removed a row for TOTAL that seems to be the outlier \n",
    "### across all values as it represents the total line in the report.\n",
    "data_dict.pop('TOTAL', 0)\n",
    "\n",
    "# reload outlier_data after TOTAL removal\n",
    "outlier_data = featureFormat(data_dict, outlier_features)\n",
    "\n",
    "# Plot again, now showing a more reasonable plot\n",
    "plt.scatter(outlier_data[:,0], outlier_data[:,1])\n",
    "plt.xlabel(\"salary\")\n",
    "plt.ylabel(\"bonus\")"
   ]
  },
  {
   "cell_type": "markdown",
   "metadata": {},
   "source": [
    "### Rubric Item: Creating New Features -\n",
    "\n",
    "##### As part of the assignment, you should attempt to engineer your own feature that does not come readymade in the dataset explain what feature you tried to make, and the rationale behind it. (You do not necessarily have to use it in the final analysis, only engineer and test it.)\n",
    "\n",
    "I created 4 new features:\n",
    "- **total_pay:** Sum of each Data Point's Total Stock Value and Total Payments. The reason I created this feature is to check for any correlation between the overall amount of money a person received and their likelihood of being a POI.\n",
    "- **salary_total_pay_ratio:** This is the portion of a person's salary in their overall compensation they received. I created this feature to evaluate of POIs seem to receive more compensation that is not their base salary that other individuals. I chose to use a ratio so we can get a sense of the proportions regardless of the overall compensation.\n",
    "- **from_poi_ratio:** This is the ratio of e-mails received from POIs as a portion of all e-mails received by a person. I chose to use a ratio to standardize values across data points regardless of how many e-mails this person received overall. \n",
    "- **to_poi_ratio:** This is the ratio of e-mails sent to POIs as a portion of all e-mails sent by a person. I chose to use a ratio to standardize values across data points regardless of how many e-mails this person sent overall.\n",
    "\n",
    "The reason I chose the last two features is so our testing is aligned with the project overall purpose of using the e-mails data set to find any correlation between a person's likelihood of being a POI and any features we are able to collect from the e-mails data set."
   ]
  },
  {
   "cell_type": "code",
   "execution_count": 8,
   "metadata": {
    "collapsed": true
   },
   "outputs": [],
   "source": [
    "data = featureFormat(data_dict, features_list, sort_keys = True)\n",
    "\n",
    "### Task 3: Create new feature(s)\n",
    "df = pd.DataFrame(data, columns = ['poi',\n",
    "                 'bonus',\n",
    "                 'deferral_payments',\n",
    "                 'deferred_income',\n",
    "                 'director_fees',\n",
    "                 #'email_address', #excluding non-numeric value\n",
    "                 'exercised_stock_options',\n",
    "                 'expenses',\n",
    "                 'from_messages',\n",
    "                 'from_poi_to_this_person',\n",
    "                 'from_this_person_to_poi',\n",
    "                 'loan_advances',\n",
    "                 'long_term_incentive',\n",
    "                 'other',\n",
    "                 'restricted_stock',\n",
    "                 'restricted_stock_deferred',\n",
    "                 'salary',\n",
    "                 'shared_receipt_with_poi',\n",
    "                 'to_messages',\n",
    "                 'total_payments',\n",
    "                 'total_stock_value'\n",
    "                ])\n",
    "\n",
    "df['total_pay'] = df['total_stock_value'] + df['total_payments']\n",
    "df['salary_total_pay_ratio'] = df['salary'] / df['total_pay']\n",
    "df['from_poi_ratio'] = df['from_poi_to_this_person'] / df['to_messages']\n",
    "df['to_poi_ratio'] = df['from_this_person_to_poi'] / df['from_messages']\n",
    "\n",
    "# replacing all NaN with 0\n",
    "df = df.replace({np.nan: 0})"
   ]
  },
  {
   "cell_type": "markdown",
   "metadata": {},
   "source": [
    "### SelectKBest Scores of All Features:\n",
    "As you can see below, the new 'total_pay' and 'to_poi_ratio' features are in the top 10 SelectKBest scores."
   ]
  },
  {
   "cell_type": "code",
   "execution_count": 9,
   "metadata": {
    "collapsed": false
   },
   "outputs": [
    {
     "name": "stdout",
     "output_type": "stream",
     "text": [
      "1. 6.39511147087e+17  :  poi\n",
      "2. 25.0975415287  :  exercised_stock_options\n",
      "3. 24.4676540475  :  total_stock_value\n",
      "4. 21.0600017075  :  bonus\n",
      "5. 18.575703268  :  salary\n",
      "6. 17.187006077  :  total_pay\n",
      "7. 16.6417070705  :  to_poi_ratio\n",
      "8. 11.5955476597  :  deferred_income\n",
      "9. 10.0724545294  :  long_term_incentive\n",
      "10. 9.34670079105  :  restricted_stock\n",
      "11. 8.86672153711  :  total_payments\n",
      "12. 8.74648553213  :  shared_receipt_with_poi\n",
      "13. 7.24273039654  :  loan_advances\n",
      "14. 6.23420114051  :  expenses\n",
      "15. 5.34494152315  :  from_poi_to_this_person\n",
      "16. 4.2049708583  :  other\n",
      "17. 3.21076191697  :  from_poi_ratio\n",
      "18. 2.42650812724  :  from_this_person_to_poi\n",
      "19. 2.10765594328  :  director_fees\n",
      "20. 1.69882434858  :  to_messages\n",
      "21. 0.21705893034  :  deferral_payments\n",
      "22. 0.164164498234  :  from_messages\n",
      "23. 0.0649843117237  :  restricted_stock_deferred\n",
      "24. 0.00255088867495  :  salary_total_pay_ratio\n"
     ]
    }
   ],
   "source": [
    "feature_scores_kbest = SelectKBest(f_regression, k='all').fit(df, df['poi'])\n",
    "feature_scores = sorted(enumerate(feature_scores_kbest.scores_),key=lambda x:x[1], reverse=True)[:1000]\n",
    "feature_scores_indices = map(list,zip(*feature_scores))[0]\n",
    "i = 1\n",
    "for feature_pvalue in feature_scores:\n",
    "    print '{3}. {2}  :  {1}'.format(feature_pvalue[0], df.columns[feature_pvalue[0]], feature_pvalue[1], i)\n",
    "    i = i+1"
   ]
  },
  {
   "cell_type": "markdown",
   "metadata": {},
   "source": [
    "### Impact of New Features on Performance:\n",
    "\n",
    "Jumping ahead a bit, it turns out that the best performance I got was using the Gaussian NB CLassifier and the top 8 features from SelectKBest ('poi', 'bonus', 'deferred_income', 'exercised_stock_options', 'salary', 'total_stock_value', 'total_pay', 'to_poi_ratio'). \n",
    "        \n",
    "        Accuracy: 0.86513\tPrecision: 0.49235\tRecall: 0.37000\tF1: 0.42250\tF2: 0.38935\n",
    "\n",
    "In comparrison, excluding the two new features I created that were included previously, 'total_pay' and 'to_poi_ratio', returned the following scores:\n",
    "\n",
    "        Accuracy: 0.85464\tPrecision: 0.48876\tRecall: 0.38050\tF1: 0.42789\tF2: 0.39814\n",
    "        \n",
    "Comparing the two results, it seems that the new features I added didn't have much of an impact on the performance of the GaussianNB Classifier. Accuracy and Precision were a bit better using the two new features, but Recall and F1 scores actually improved without them."
   ]
  },
  {
   "cell_type": "code",
   "execution_count": 12,
   "metadata": {
    "collapsed": false
   },
   "outputs": [
    {
     "name": "stdout",
     "output_type": "stream",
     "text": [
      "GaussianNB(priors=None)\n",
      "\tAccuracy: 0.85464\tPrecision: 0.48876\tRecall: 0.38050\tF1: 0.42789\tF2: 0.39814\n",
      "\tTotal predictions: 14000\tTrue positives:  761\tFalse positives:  796\tFalse negatives: 1239\tTrue negatives: 11204\n",
      "\n",
      "None\n"
     ]
    }
   ],
   "source": [
    "print test_classifier(GaussianNB(), df.to_dict(orient='index'), ['poi', 'bonus', 'deferred_income', \n",
    "                                        'exercised_stock_options', 'salary', \n",
    "                                        'total_stock_value'])"
   ]
  },
  {
   "cell_type": "markdown",
   "metadata": {},
   "source": [
    "### Is KBest really Best?\n",
    "\n",
    "The test above made me wonder about the impact the two new features have on performance individually so I ran the same validation twice more, each time omitting only one of the two new features. What I found was that removing to_poi_ratio had no impact on the scores and the results were identical with and without this feature."
   ]
  },
  {
   "cell_type": "code",
   "execution_count": 16,
   "metadata": {
    "collapsed": false
   },
   "outputs": [
    {
     "name": "stdout",
     "output_type": "stream",
     "text": [
      "GaussianNB(priors=None)\n",
      "\tAccuracy: 0.86513\tPrecision: 0.49235\tRecall: 0.37000\tF1: 0.42250\tF2: 0.38935\n",
      "\tTotal predictions: 15000\tTrue positives:  740\tFalse positives:  763\tFalse negatives: 1260\tTrue negatives: 12237\n",
      "\n",
      "None\n"
     ]
    }
   ],
   "source": [
    "print test_classifier(GaussianNB(), df.to_dict(orient='index'), ['poi', 'bonus', 'deferred_income', \n",
    "                                        'exercised_stock_options', 'salary', \n",
    "                                        'total_stock_value', 'total_pay'])"
   ]
  },
  {
   "cell_type": "markdown",
   "metadata": {},
   "source": [
    "Interestingly enough, removing total_pay had fairly significant impact. The scores of Precision, Recall, F1 and F2 have all gone up. In fact, Accuracy was the only score that decreased which made me wonder about my process of feature selection. Having said that, I did notice that the total predictions made with our k=8 features was 15000, yet the validation I ran using the same feature but without total_pay made only 14000 total predictions. An increase of 7.1% in the number of predictions seems significant to me, so after considering the difference in the number of total predictions between the two tests I decided to go forward with the original k=8 feature list."
   ]
  },
  {
   "cell_type": "code",
   "execution_count": 17,
   "metadata": {
    "collapsed": false
   },
   "outputs": [
    {
     "name": "stdout",
     "output_type": "stream",
     "text": [
      "GaussianNB(priors=None)\n",
      "\tAccuracy: 0.86050\tPrecision: 0.51572\tRecall: 0.38550\tF1: 0.44120\tF2: 0.40600\n",
      "\tTotal predictions: 14000\tTrue positives:  771\tFalse positives:  724\tFalse negatives: 1229\tTrue negatives: 11276\n",
      "\n",
      "None\n"
     ]
    }
   ],
   "source": [
    "print test_classifier(GaussianNB(), df.to_dict(orient='index'), ['poi', 'bonus', 'deferred_income', \n",
    "                                        'exercised_stock_options', 'salary', \n",
    "                                        'total_stock_value', 'to_poi_ratio'])"
   ]
  },
  {
   "cell_type": "markdown",
   "metadata": {},
   "source": [
    "### Rubric Item: Feature Scaling -\n",
    "\n",
    "Feature scaling was not performed because none of the Classifiers I chose to use do not require it. Firstly, the GaussianNB Classifier performs feature scaling as part of its normal behavior. In addition, the DecisionTree Classifier also doesn't require feature scaling because its algorithm doesn't evaluate Euclidean distance. The third Classifier I chose, ADA Boost, also doesn't require any feature scaling because it uses the DecisionTree classifier by default."
   ]
  },
  {
   "cell_type": "markdown",
   "metadata": {},
   "source": [
    "### Rubric Item: Feature Selection -\n",
    "\n",
    "Once the new features have been created, I needed to standardize all the **NaN** values and change them to 0 so our dataset is consistent since our original dataset went through a similar process using the FeatureFormat function. In addition, to get a sense of which of the features have the most amount of data in our dataset, I reviewed a list of each feature and their counts. "
   ]
  },
  {
   "cell_type": "code",
   "execution_count": 10,
   "metadata": {
    "collapsed": false
   },
   "outputs": [
    {
     "data": {
      "text/plain": [
       "poi                           18\n",
       "bonus                         81\n",
       "deferral_payments             38\n",
       "deferred_income               48\n",
       "director_fees                 16\n",
       "exercised_stock_options      101\n",
       "expenses                      94\n",
       "from_messages                 86\n",
       "from_poi_to_this_person       74\n",
       "from_this_person_to_poi       66\n",
       "loan_advances                  3\n",
       "long_term_incentive           65\n",
       "other                         92\n",
       "restricted_stock             109\n",
       "restricted_stock_deferred     17\n",
       "salary                        94\n",
       "shared_receipt_with_poi       86\n",
       "to_messages                   86\n",
       "total_payments               124\n",
       "total_stock_value            125\n",
       "total_pay                    142\n",
       "salary_total_pay_ratio        94\n",
       "from_poi_ratio                74\n",
       "to_poi_ratio                  66\n",
       "dtype: int64"
      ]
     },
     "execution_count": 10,
     "metadata": {},
     "output_type": "execute_result"
    }
   ],
   "source": [
    "# counting datapoints per feature\n",
    "df.replace({0: np.nan}).count()"
   ]
  },
  {
   "cell_type": "code",
   "execution_count": 11,
   "metadata": {
    "collapsed": false
   },
   "outputs": [
    {
     "name": "stdout",
     "output_type": "stream",
     "text": [
      "144\n"
     ]
    }
   ],
   "source": [
    "### Store to my_dataset for easy export below.\n",
    "my_dataset = df.to_dict(orient='index')\n",
    "\n",
    "### Originally started with 146 data points. \n",
    "### 1 data point was removed when we identified the outlier, \n",
    "### the second row was removed in the conversion to/from the DataFrame\n",
    "### due to all of it's values being zero.\n",
    "\n",
    "print len(my_dataset)"
   ]
  },
  {
   "cell_type": "markdown",
   "metadata": {},
   "source": [
    "##### Question 2: What features did you end up using in your POI identifier, and what selection process did you use to pick them? Did you have to do any scaling? Why or why not?  In your feature selection step, if you used an algorithm like a decision tree, please also give the feature importances of the features that you use, and if you used an automated feature selection function like SelectKBest, please report the feature scores and reasons for your choice of parameter values.\n",
    "\n",
    "Using the get_kbest_features function I created, I tested each one of the three Classifiers I decided to use (Gaussian NB, Decision Tree, and ADA Boost) using the test_classifier function provided in tester.py using the feature selection from SelectKBest where k was every integer between 2 and the total count of features.\n",
    "\n",
    "The reason I tested multiple variations of features against each one of the classifiers I chose was to make sure that I'm using the best list of features for each classifier instead of choosing a single list of SelectKBest features and using it with all the classifiers. As a result, I found that when evaluating for the highest possible F1 value, Gaussian NB performed the best using a list of 8 features, but both the Decision Tree and ADA Boost classifiers performed better with only a list of 4 features.\n",
    "\n",
    "I focused on the F1 score was because it considers both the precision and recall scores and not just accuracy. I felt that this was a better indicator because the accuracy score can be biased due to our small data set. This is evident when reviewing the results of the Gaussian NB below that shows the highest accuracy achieved was using only the 'poi' and 'exercised_stock_options' features."
   ]
  },
  {
   "cell_type": "markdown",
   "metadata": {},
   "source": [
    "### Rubric Item: Picking an Algorithm -\n",
    "\n",
    "##### 3. What algorithm did you end up using? What other one(s) did you try? How did model performance differ between algorithms?"
   ]
  },
  {
   "cell_type": "code",
   "execution_count": 8,
   "metadata": {
    "collapsed": false
   },
   "outputs": [
    {
     "name": "stdout",
     "output_type": "stream",
     "text": [
      "\n",
      "SelectKBest k=2\n",
      "used features: ['poi', 'exercised_stock_options']\n",
      "GaussianNB(priors=None)\n",
      "\tAccuracy: 0.90409\tPrecision: 0.46055\tRecall: 0.32100\tF1: 0.37831\tF2: 0.34171\n",
      "\tTotal predictions: 11000\tTrue positives:  321\tFalse positives:  376\tFalse negatives:  679\tTrue negatives: 9624\n",
      "\n",
      "None\n",
      "\n",
      "SelectKBest k=3\n",
      "used features: ['poi', 'exercised_stock_options', 'total_stock_value']\n",
      "GaussianNB(priors=None)\n",
      "\tAccuracy: 0.84069\tPrecision: 0.46889\tRecall: 0.26750\tF1: 0.34066\tF2: 0.29264\n",
      "\tTotal predictions: 13000\tTrue positives:  535\tFalse positives:  606\tFalse negatives: 1465\tTrue negatives: 10394\n",
      "\n",
      "None\n",
      "\n",
      "SelectKBest k=4\n",
      "used features: ['poi', 'bonus', 'exercised_stock_options', 'total_stock_value']\n",
      "GaussianNB(priors=None)\n",
      "\tAccuracy: 0.84300\tPrecision: 0.48581\tRecall: 0.35100\tF1: 0.40755\tF2: 0.37163\n",
      "\tTotal predictions: 13000\tTrue positives:  702\tFalse positives:  743\tFalse negatives: 1298\tTrue negatives: 10257\n",
      "\n",
      "None\n",
      "\n",
      "SelectKBest k=5\n",
      "used features: ['poi', 'bonus', 'exercised_stock_options', 'salary', 'total_stock_value']\n",
      "GaussianNB(priors=None)\n",
      "\tAccuracy: 0.84677\tPrecision: 0.50312\tRecall: 0.32300\tF1: 0.39342\tF2: 0.34791\n",
      "\tTotal predictions: 13000\tTrue positives:  646\tFalse positives:  638\tFalse negatives: 1354\tTrue negatives: 10362\n",
      "\n",
      "None\n",
      "\n",
      "SelectKBest k=6\n",
      "used features: ['poi', 'bonus', 'exercised_stock_options', 'salary', 'total_stock_value', 'total_pay']\n",
      "GaussianNB(priors=None)\n",
      "\tAccuracy: 0.86020\tPrecision: 0.46372\tRecall: 0.31000\tF1: 0.37159\tF2: 0.33201\n",
      "\tTotal predictions: 15000\tTrue positives:  620\tFalse positives:  717\tFalse negatives: 1380\tTrue negatives: 12283\n",
      "\n",
      "None\n",
      "\n",
      "SelectKBest k=7\n",
      "used features: ['poi', 'bonus', 'exercised_stock_options', 'salary', 'total_stock_value', 'total_pay', 'to_poi_ratio']\n",
      "GaussianNB(priors=None)\n",
      "\tAccuracy: 0.86020\tPrecision: 0.46372\tRecall: 0.31000\tF1: 0.37159\tF2: 0.33201\n",
      "\tTotal predictions: 15000\tTrue positives:  620\tFalse positives:  717\tFalse negatives: 1380\tTrue negatives: 12283\n",
      "\n",
      "None\n",
      "\n",
      "SelectKBest k=8\n",
      "used features: ['poi', 'bonus', 'deferred_income', 'exercised_stock_options', 'salary', 'total_stock_value', 'total_pay', 'to_poi_ratio']\n",
      "GaussianNB(priors=None)\n",
      "\tAccuracy: 0.86513\tPrecision: 0.49235\tRecall: 0.37000\tF1: 0.42250\tF2: 0.38935\n",
      "\tTotal predictions: 15000\tTrue positives:  740\tFalse positives:  763\tFalse negatives: 1260\tTrue negatives: 12237\n",
      "\n",
      "None\n",
      "\n",
      "SelectKBest k=9\n",
      "used features: ['poi', 'bonus', 'deferred_income', 'exercised_stock_options', 'long_term_incentive', 'salary', 'total_stock_value', 'total_pay', 'to_poi_ratio']\n",
      "GaussianNB(priors=None)\n",
      "\tAccuracy: 0.85707\tPrecision: 0.45414\tRecall: 0.35650\tF1: 0.39944\tF2: 0.37252\n",
      "\tTotal predictions: 15000\tTrue positives:  713\tFalse positives:  857\tFalse negatives: 1287\tTrue negatives: 12143\n",
      "\n",
      "None\n",
      "\n",
      "SelectKBest k=10\n",
      "used features: ['poi', 'bonus', 'deferred_income', 'exercised_stock_options', 'long_term_incentive', 'restricted_stock', 'salary', 'total_stock_value', 'total_pay', 'to_poi_ratio']\n",
      "GaussianNB(priors=None)\n",
      "\tAccuracy: 0.85873\tPrecision: 0.46274\tRecall: 0.36950\tF1: 0.41090\tF2: 0.38502\n",
      "\tTotal predictions: 15000\tTrue positives:  739\tFalse positives:  858\tFalse negatives: 1261\tTrue negatives: 12142\n",
      "\n",
      "None\n",
      "\n",
      "SelectKBest k=11\n",
      "used features: ['poi', 'bonus', 'deferred_income', 'exercised_stock_options', 'long_term_incentive', 'restricted_stock', 'salary', 'total_payments', 'total_stock_value', 'total_pay', 'to_poi_ratio']\n",
      "GaussianNB(priors=None)\n",
      "\tAccuracy: 0.85073\tPrecision: 0.42610\tRecall: 0.34450\tF1: 0.38098\tF2: 0.35822\n",
      "\tTotal predictions: 15000\tTrue positives:  689\tFalse positives:  928\tFalse negatives: 1311\tTrue negatives: 12072\n",
      "\n",
      "None\n",
      "\n",
      "SelectKBest k=12\n",
      "used features: ['poi', 'bonus', 'deferred_income', 'exercised_stock_options', 'long_term_incentive', 'restricted_stock', 'salary', 'shared_receipt_with_poi', 'total_payments', 'total_stock_value', 'total_pay', 'to_poi_ratio']\n",
      "GaussianNB(priors=None)\n",
      "\tAccuracy: 0.84860\tPrecision: 0.41763\tRecall: 0.34350\tF1: 0.37695\tF2: 0.35614\n",
      "\tTotal predictions: 15000\tTrue positives:  687\tFalse positives:  958\tFalse negatives: 1313\tTrue negatives: 12042\n",
      "\n",
      "None\n",
      "\n",
      "SelectKBest k=13\n",
      "used features: ['poi', 'bonus', 'deferred_income', 'exercised_stock_options', 'loan_advances', 'long_term_incentive', 'restricted_stock', 'salary', 'shared_receipt_with_poi', 'total_payments', 'total_stock_value', 'total_pay', 'to_poi_ratio']\n",
      "GaussianNB(priors=None)\n",
      "\tAccuracy: 0.83333\tPrecision: 0.35448\tRecall: 0.30450\tF1: 0.32760\tF2: 0.31334\n",
      "\tTotal predictions: 15000\tTrue positives:  609\tFalse positives: 1109\tFalse negatives: 1391\tTrue negatives: 11891\n",
      "\n",
      "None\n",
      "\n",
      "SelectKBest k=14\n",
      "used features: ['poi', 'bonus', 'deferred_income', 'exercised_stock_options', 'expenses', 'loan_advances', 'long_term_incentive', 'restricted_stock', 'salary', 'shared_receipt_with_poi', 'total_payments', 'total_stock_value', 'total_pay', 'to_poi_ratio']\n",
      "GaussianNB(priors=None)\n",
      "\tAccuracy: 0.83453\tPrecision: 0.35757\tRecall: 0.30250\tF1: 0.32774\tF2: 0.31211\n",
      "\tTotal predictions: 15000\tTrue positives:  605\tFalse positives: 1087\tFalse negatives: 1395\tTrue negatives: 11913\n",
      "\n",
      "None\n",
      "\n",
      "SelectKBest k=15\n",
      "used features: ['poi', 'bonus', 'deferred_income', 'exercised_stock_options', 'expenses', 'from_poi_to_this_person', 'loan_advances', 'long_term_incentive', 'restricted_stock', 'salary', 'shared_receipt_with_poi', 'total_payments', 'total_stock_value', 'total_pay', 'to_poi_ratio']\n",
      "GaussianNB(priors=None)\n",
      "\tAccuracy: 0.83480\tPrecision: 0.35858\tRecall: 0.30300\tF1: 0.32846\tF2: 0.31269\n",
      "\tTotal predictions: 15000\tTrue positives:  606\tFalse positives: 1084\tFalse negatives: 1394\tTrue negatives: 11916\n",
      "\n",
      "None\n",
      "\n",
      "SelectKBest k=16\n",
      "used features: ['poi', 'bonus', 'deferred_income', 'exercised_stock_options', 'expenses', 'from_poi_to_this_person', 'loan_advances', 'long_term_incentive', 'other', 'restricted_stock', 'salary', 'shared_receipt_with_poi', 'total_payments', 'total_stock_value', 'total_pay', 'to_poi_ratio']\n",
      "GaussianNB(priors=None)\n",
      "\tAccuracy: 0.82913\tPrecision: 0.33794\tRecall: 0.29350\tF1: 0.31416\tF2: 0.30143\n",
      "\tTotal predictions: 15000\tTrue positives:  587\tFalse positives: 1150\tFalse negatives: 1413\tTrue negatives: 11850\n",
      "\n",
      "None\n",
      "\n",
      "SelectKBest k=17\n",
      "used features: ['poi', 'bonus', 'deferred_income', 'exercised_stock_options', 'expenses', 'from_poi_to_this_person', 'loan_advances', 'long_term_incentive', 'other', 'restricted_stock', 'salary', 'shared_receipt_with_poi', 'total_payments', 'total_stock_value', 'total_pay', 'from_poi_ratio', 'to_poi_ratio']\n",
      "GaussianNB(priors=None)\n",
      "\tAccuracy: 0.82913\tPrecision: 0.33794\tRecall: 0.29350\tF1: 0.31416\tF2: 0.30143\n",
      "\tTotal predictions: 15000\tTrue positives:  587\tFalse positives: 1150\tFalse negatives: 1413\tTrue negatives: 11850\n",
      "\n",
      "None\n",
      "\n",
      "SelectKBest k=18\n",
      "used features: ['poi', 'bonus', 'deferred_income', 'exercised_stock_options', 'expenses', 'from_poi_to_this_person', 'from_this_person_to_poi', 'loan_advances', 'long_term_incentive', 'other', 'restricted_stock', 'salary', 'shared_receipt_with_poi', 'total_payments', 'total_stock_value', 'total_pay', 'from_poi_ratio', 'to_poi_ratio']\n",
      "GaussianNB(priors=None)\n",
      "\tAccuracy: 0.83000\tPrecision: 0.34049\tRecall: 0.29350\tF1: 0.31525\tF2: 0.30183\n",
      "\tTotal predictions: 15000\tTrue positives:  587\tFalse positives: 1137\tFalse negatives: 1413\tTrue negatives: 11863\n",
      "\n",
      "None\n",
      "\n",
      "SelectKBest k=19\n",
      "used features: ['poi', 'bonus', 'deferred_income', 'director_fees', 'exercised_stock_options', 'expenses', 'from_poi_to_this_person', 'from_this_person_to_poi', 'loan_advances', 'long_term_incentive', 'other', 'restricted_stock', 'salary', 'shared_receipt_with_poi', 'total_payments', 'total_stock_value', 'total_pay', 'from_poi_ratio', 'to_poi_ratio']\n",
      "GaussianNB(priors=None)\n",
      "\tAccuracy: 0.79127\tPrecision: 0.26700\tRecall: 0.32400\tF1: 0.29275\tF2: 0.31073\n",
      "\tTotal predictions: 15000\tTrue positives:  648\tFalse positives: 1779\tFalse negatives: 1352\tTrue negatives: 11221\n",
      "\n",
      "None\n",
      "\n",
      "SelectKBest k=20\n",
      "used features: ['poi', 'bonus', 'deferred_income', 'director_fees', 'exercised_stock_options', 'expenses', 'from_poi_to_this_person', 'from_this_person_to_poi', 'loan_advances', 'long_term_incentive', 'other', 'restricted_stock', 'salary', 'shared_receipt_with_poi', 'to_messages', 'total_payments', 'total_stock_value', 'total_pay', 'from_poi_ratio', 'to_poi_ratio']\n",
      "GaussianNB(priors=None)\n",
      "\tAccuracy: 0.78480\tPrecision: 0.24502\tRecall: 0.29500\tF1: 0.26770\tF2: 0.28344\n",
      "\tTotal predictions: 15000\tTrue positives:  590\tFalse positives: 1818\tFalse negatives: 1410\tTrue negatives: 11182\n",
      "\n",
      "None\n"
     ]
    }
   ],
   "source": [
    "### Task 4: Try a variety of classifiers\n",
    "\n",
    "### testing results of GaussianNB against all feature combinations using SelectKBest\n",
    "for i in range(2, (len(data_dict[data_dict.keys()[0]]))):\n",
    "    print '\\nSelectKBest k=' + str(i)\n",
    "    print 'used features: ' + str(get_kbest_features(df, i))\n",
    "    clf = GaussianNB()\n",
    "    print test_classifier(clf, my_dataset, get_kbest_features(df, i))\n"
   ]
  },
  {
   "cell_type": "markdown",
   "metadata": {},
   "source": [
    "### Best F1 Results of GaussianNB Using Default Parameters\n",
    "\n",
    "        SelectKBest k=8\n",
    "        used features: ['poi', 'bonus', 'deferred_income', 'exercised_stock_options', 'salary', 'total_stock_value', 'total_pay', 'to_poi_ratio']\n",
    "        GaussianNB(priors=None)\n",
    "\n",
    "        Accuracy: 0.86513\n",
    "        Precision: 0.49235\n",
    "        Recall: 0.37000\n",
    "        F1: 0.42250\n",
    "        F2: 0.38935\n",
    "\n",
    "\n",
    "        Total predictions: 15000\n",
    "        True positives:  740\n",
    "        False positives:  763\n",
    "        False negatives: 1260\n",
    "        True negatives: 12237\n",
    "   "
   ]
  },
  {
   "cell_type": "code",
   "execution_count": 9,
   "metadata": {
    "collapsed": false
   },
   "outputs": [
    {
     "name": "stdout",
     "output_type": "stream",
     "text": [
      "\n",
      "SelectKBest k=2\n",
      "used features: ['poi', 'exercised_stock_options']\n",
      "DecisionTreeClassifier(class_weight=None, criterion='gini', max_depth=None,\n",
      "            max_features=None, max_leaf_nodes=None,\n",
      "            min_impurity_split=1e-07, min_samples_leaf=1,\n",
      "            min_samples_split=2, min_weight_fraction_leaf=0.0,\n",
      "            presort=False, random_state=None, splitter='best')\n",
      "\tAccuracy: 0.86273\tPrecision: 0.27434\tRecall: 0.31000\tF1: 0.29108\tF2: 0.30214\n",
      "\tTotal predictions: 11000\tTrue positives:  310\tFalse positives:  820\tFalse negatives:  690\tTrue negatives: 9180\n",
      "\n",
      "None\n",
      "\n",
      "SelectKBest k=3\n",
      "used features: ['poi', 'exercised_stock_options', 'total_stock_value']\n",
      "DecisionTreeClassifier(class_weight=None, criterion='gini', max_depth=None,\n",
      "            max_features=None, max_leaf_nodes=None,\n",
      "            min_impurity_split=1e-07, min_samples_leaf=1,\n",
      "            min_samples_split=2, min_weight_fraction_leaf=0.0,\n",
      "            presort=False, random_state=None, splitter='best')\n",
      "\tAccuracy: 0.76677\tPrecision: 0.21617\tRecall: 0.19650\tF1: 0.20587\tF2: 0.20014\n",
      "\tTotal predictions: 13000\tTrue positives:  393\tFalse positives: 1425\tFalse negatives: 1607\tTrue negatives: 9575\n",
      "\n",
      "None\n",
      "\n",
      "SelectKBest k=4\n",
      "used features: ['poi', 'bonus', 'exercised_stock_options', 'total_stock_value']\n",
      "DecisionTreeClassifier(class_weight=None, criterion='gini', max_depth=None,\n",
      "            max_features=None, max_leaf_nodes=None,\n",
      "            min_impurity_split=1e-07, min_samples_leaf=1,\n",
      "            min_samples_split=2, min_weight_fraction_leaf=0.0,\n",
      "            presort=False, random_state=None, splitter='best')\n",
      "\tAccuracy: 0.80123\tPrecision: 0.36252\tRecall: 0.38500\tF1: 0.37342\tF2: 0.38028\n",
      "\tTotal predictions: 13000\tTrue positives:  770\tFalse positives: 1354\tFalse negatives: 1230\tTrue negatives: 9646\n",
      "\n",
      "None\n",
      "\n",
      "SelectKBest k=5\n",
      "used features: ['poi', 'bonus', 'exercised_stock_options', 'salary', 'total_stock_value']\n",
      "DecisionTreeClassifier(class_weight=None, criterion='gini', max_depth=None,\n",
      "            max_features=None, max_leaf_nodes=None,\n",
      "            min_impurity_split=1e-07, min_samples_leaf=1,\n",
      "            min_samples_split=2, min_weight_fraction_leaf=0.0,\n",
      "            presort=False, random_state=None, splitter='best')\n",
      "\tAccuracy: 0.78892\tPrecision: 0.31994\tRecall: 0.33050\tF1: 0.32514\tF2: 0.32833\n",
      "\tTotal predictions: 13000\tTrue positives:  661\tFalse positives: 1405\tFalse negatives: 1339\tTrue negatives: 9595\n",
      "\n",
      "None\n",
      "\n",
      "SelectKBest k=6\n",
      "used features: ['poi', 'bonus', 'exercised_stock_options', 'salary', 'total_stock_value', 'total_pay']\n",
      "DecisionTreeClassifier(class_weight=None, criterion='gini', max_depth=None,\n",
      "            max_features=None, max_leaf_nodes=None,\n",
      "            min_impurity_split=1e-07, min_samples_leaf=1,\n",
      "            min_samples_split=2, min_weight_fraction_leaf=0.0,\n",
      "            presort=False, random_state=None, splitter='best')\n",
      "\tAccuracy: 0.81373\tPrecision: 0.29786\tRecall: 0.29250\tF1: 0.29516\tF2: 0.29356\n",
      "\tTotal predictions: 15000\tTrue positives:  585\tFalse positives: 1379\tFalse negatives: 1415\tTrue negatives: 11621\n",
      "\n",
      "None\n",
      "\n",
      "SelectKBest k=7\n",
      "used features: ['poi', 'bonus', 'exercised_stock_options', 'salary', 'total_stock_value', 'total_pay', 'to_poi_ratio']\n",
      "DecisionTreeClassifier(class_weight=None, criterion='gini', max_depth=None,\n",
      "            max_features=None, max_leaf_nodes=None,\n",
      "            min_impurity_split=1e-07, min_samples_leaf=1,\n",
      "            min_samples_split=2, min_weight_fraction_leaf=0.0,\n",
      "            presort=False, random_state=None, splitter='best')\n",
      "\tAccuracy: 0.79827\tPrecision: 0.27057\tRecall: 0.30250\tF1: 0.28565\tF2: 0.29553\n",
      "\tTotal predictions: 15000\tTrue positives:  605\tFalse positives: 1631\tFalse negatives: 1395\tTrue negatives: 11369\n",
      "\n",
      "None\n",
      "\n",
      "SelectKBest k=8\n",
      "used features: ['poi', 'bonus', 'deferred_income', 'exercised_stock_options', 'salary', 'total_stock_value', 'total_pay', 'to_poi_ratio']\n",
      "DecisionTreeClassifier(class_weight=None, criterion='gini', max_depth=None,\n",
      "            max_features=None, max_leaf_nodes=None,\n",
      "            min_impurity_split=1e-07, min_samples_leaf=1,\n",
      "            min_samples_split=2, min_weight_fraction_leaf=0.0,\n",
      "            presort=False, random_state=None, splitter='best')\n",
      "\tAccuracy: 0.80233\tPrecision: 0.27251\tRecall: 0.28900\tF1: 0.28051\tF2: 0.28554\n",
      "\tTotal predictions: 15000\tTrue positives:  578\tFalse positives: 1543\tFalse negatives: 1422\tTrue negatives: 11457\n",
      "\n",
      "None\n",
      "\n",
      "SelectKBest k=9\n",
      "used features: ['poi', 'bonus', 'deferred_income', 'exercised_stock_options', 'long_term_incentive', 'salary', 'total_stock_value', 'total_pay', 'to_poi_ratio']\n",
      "DecisionTreeClassifier(class_weight=None, criterion='gini', max_depth=None,\n",
      "            max_features=None, max_leaf_nodes=None,\n",
      "            min_impurity_split=1e-07, min_samples_leaf=1,\n",
      "            min_samples_split=2, min_weight_fraction_leaf=0.0,\n",
      "            presort=False, random_state=None, splitter='best')\n",
      "\tAccuracy: 0.81280\tPrecision: 0.29367\tRecall: 0.28750\tF1: 0.29055\tF2: 0.28871\n",
      "\tTotal predictions: 15000\tTrue positives:  575\tFalse positives: 1383\tFalse negatives: 1425\tTrue negatives: 11617\n",
      "\n",
      "None\n",
      "\n",
      "SelectKBest k=10\n",
      "used features: ['poi', 'bonus', 'deferred_income', 'exercised_stock_options', 'long_term_incentive', 'restricted_stock', 'salary', 'total_stock_value', 'total_pay', 'to_poi_ratio']\n",
      "DecisionTreeClassifier(class_weight=None, criterion='gini', max_depth=None,\n",
      "            max_features=None, max_leaf_nodes=None,\n",
      "            min_impurity_split=1e-07, min_samples_leaf=1,\n",
      "            min_samples_split=2, min_weight_fraction_leaf=0.0,\n",
      "            presort=False, random_state=None, splitter='best')\n",
      "\tAccuracy: 0.80367\tPrecision: 0.26003\tRecall: 0.25600\tF1: 0.25800\tF2: 0.25680\n",
      "\tTotal predictions: 15000\tTrue positives:  512\tFalse positives: 1457\tFalse negatives: 1488\tTrue negatives: 11543\n",
      "\n",
      "None\n",
      "\n",
      "SelectKBest k=11\n",
      "used features: ['poi', 'bonus', 'deferred_income', 'exercised_stock_options', 'long_term_incentive', 'restricted_stock', 'salary', 'total_payments', 'total_stock_value', 'total_pay', 'to_poi_ratio']\n",
      "DecisionTreeClassifier(class_weight=None, criterion='gini', max_depth=None,\n",
      "            max_features=None, max_leaf_nodes=None,\n",
      "            min_impurity_split=1e-07, min_samples_leaf=1,\n",
      "            min_samples_split=2, min_weight_fraction_leaf=0.0,\n",
      "            presort=False, random_state=None, splitter='best')\n",
      "\tAccuracy: 0.80333\tPrecision: 0.26508\tRecall: 0.26800\tF1: 0.26653\tF2: 0.26741\n",
      "\tTotal predictions: 15000\tTrue positives:  536\tFalse positives: 1486\tFalse negatives: 1464\tTrue negatives: 11514\n",
      "\n",
      "None\n",
      "\n",
      "SelectKBest k=12\n",
      "used features: ['poi', 'bonus', 'deferred_income', 'exercised_stock_options', 'long_term_incentive', 'restricted_stock', 'salary', 'shared_receipt_with_poi', 'total_payments', 'total_stock_value', 'total_pay', 'to_poi_ratio']\n",
      "DecisionTreeClassifier(class_weight=None, criterion='gini', max_depth=None,\n",
      "            max_features=None, max_leaf_nodes=None,\n",
      "            min_impurity_split=1e-07, min_samples_leaf=1,\n",
      "            min_samples_split=2, min_weight_fraction_leaf=0.0,\n",
      "            presort=False, random_state=None, splitter='best')\n",
      "\tAccuracy: 0.82033\tPrecision: 0.32115\tRecall: 0.31200\tF1: 0.31651\tF2: 0.31379\n",
      "\tTotal predictions: 15000\tTrue positives:  624\tFalse positives: 1319\tFalse negatives: 1376\tTrue negatives: 11681\n",
      "\n",
      "None\n",
      "\n",
      "SelectKBest k=13\n",
      "used features: ['poi', 'bonus', 'deferred_income', 'exercised_stock_options', 'loan_advances', 'long_term_incentive', 'restricted_stock', 'salary', 'shared_receipt_with_poi', 'total_payments', 'total_stock_value', 'total_pay', 'to_poi_ratio']\n",
      "DecisionTreeClassifier(class_weight=None, criterion='gini', max_depth=None,\n",
      "            max_features=None, max_leaf_nodes=None,\n",
      "            min_impurity_split=1e-07, min_samples_leaf=1,\n",
      "            min_samples_split=2, min_weight_fraction_leaf=0.0,\n",
      "            presort=False, random_state=None, splitter='best')\n",
      "\tAccuracy: 0.82453\tPrecision: 0.33542\tRecall: 0.32200\tF1: 0.32857\tF2: 0.32460\n",
      "\tTotal predictions: 15000\tTrue positives:  644\tFalse positives: 1276\tFalse negatives: 1356\tTrue negatives: 11724\n",
      "\n",
      "None\n",
      "\n",
      "SelectKBest k=14\n",
      "used features: ['poi', 'bonus', 'deferred_income', 'exercised_stock_options', 'expenses', 'loan_advances', 'long_term_incentive', 'restricted_stock', 'salary', 'shared_receipt_with_poi', 'total_payments', 'total_stock_value', 'total_pay', 'to_poi_ratio']\n",
      "DecisionTreeClassifier(class_weight=None, criterion='gini', max_depth=None,\n",
      "            max_features=None, max_leaf_nodes=None,\n",
      "            min_impurity_split=1e-07, min_samples_leaf=1,\n",
      "            min_samples_split=2, min_weight_fraction_leaf=0.0,\n",
      "            presort=False, random_state=None, splitter='best')\n",
      "\tAccuracy: 0.81540\tPrecision: 0.29688\tRecall: 0.28100\tF1: 0.28872\tF2: 0.28404\n",
      "\tTotal predictions: 15000\tTrue positives:  562\tFalse positives: 1331\tFalse negatives: 1438\tTrue negatives: 11669\n",
      "\n",
      "None\n",
      "\n",
      "SelectKBest k=15\n",
      "used features: ['poi', 'bonus', 'deferred_income', 'exercised_stock_options', 'expenses', 'from_poi_to_this_person', 'loan_advances', 'long_term_incentive', 'restricted_stock', 'salary', 'shared_receipt_with_poi', 'total_payments', 'total_stock_value', 'total_pay', 'to_poi_ratio']\n",
      "DecisionTreeClassifier(class_weight=None, criterion='gini', max_depth=None,\n",
      "            max_features=None, max_leaf_nodes=None,\n",
      "            min_impurity_split=1e-07, min_samples_leaf=1,\n",
      "            min_samples_split=2, min_weight_fraction_leaf=0.0,\n",
      "            presort=False, random_state=None, splitter='best')\n",
      "\tAccuracy: 0.81773\tPrecision: 0.30725\tRecall: 0.29250\tF1: 0.29969\tF2: 0.29534\n",
      "\tTotal predictions: 15000\tTrue positives:  585\tFalse positives: 1319\tFalse negatives: 1415\tTrue negatives: 11681\n",
      "\n",
      "None\n",
      "\n",
      "SelectKBest k=16\n",
      "used features: ['poi', 'bonus', 'deferred_income', 'exercised_stock_options', 'expenses', 'from_poi_to_this_person', 'loan_advances', 'long_term_incentive', 'other', 'restricted_stock', 'salary', 'shared_receipt_with_poi', 'total_payments', 'total_stock_value', 'total_pay', 'to_poi_ratio']\n",
      "DecisionTreeClassifier(class_weight=None, criterion='gini', max_depth=None,\n",
      "            max_features=None, max_leaf_nodes=None,\n",
      "            min_impurity_split=1e-07, min_samples_leaf=1,\n",
      "            min_samples_split=2, min_weight_fraction_leaf=0.0,\n",
      "            presort=False, random_state=None, splitter='best')\n",
      "\tAccuracy: 0.82100\tPrecision: 0.32676\tRecall: 0.32300\tF1: 0.32487\tF2: 0.32374\n",
      "\tTotal predictions: 15000\tTrue positives:  646\tFalse positives: 1331\tFalse negatives: 1354\tTrue negatives: 11669\n",
      "\n",
      "None\n",
      "\n",
      "SelectKBest k=17\n",
      "used features: ['poi', 'bonus', 'deferred_income', 'exercised_stock_options', 'expenses', 'from_poi_to_this_person', 'loan_advances', 'long_term_incentive', 'other', 'restricted_stock', 'salary', 'shared_receipt_with_poi', 'total_payments', 'total_stock_value', 'total_pay', 'from_poi_ratio', 'to_poi_ratio']\n",
      "DecisionTreeClassifier(class_weight=None, criterion='gini', max_depth=None,\n",
      "            max_features=None, max_leaf_nodes=None,\n",
      "            min_impurity_split=1e-07, min_samples_leaf=1,\n",
      "            min_samples_split=2, min_weight_fraction_leaf=0.0,\n",
      "            presort=False, random_state=None, splitter='best')\n",
      "\tAccuracy: 0.81807\tPrecision: 0.31766\tRecall: 0.31750\tF1: 0.31758\tF2: 0.31753\n",
      "\tTotal predictions: 15000\tTrue positives:  635\tFalse positives: 1364\tFalse negatives: 1365\tTrue negatives: 11636\n",
      "\n",
      "None\n",
      "\n",
      "SelectKBest k=18\n",
      "used features: ['poi', 'bonus', 'deferred_income', 'exercised_stock_options', 'expenses', 'from_poi_to_this_person', 'from_this_person_to_poi', 'loan_advances', 'long_term_incentive', 'other', 'restricted_stock', 'salary', 'shared_receipt_with_poi', 'total_payments', 'total_stock_value', 'total_pay', 'from_poi_ratio', 'to_poi_ratio']\n",
      "DecisionTreeClassifier(class_weight=None, criterion='gini', max_depth=None,\n",
      "            max_features=None, max_leaf_nodes=None,\n",
      "            min_impurity_split=1e-07, min_samples_leaf=1,\n",
      "            min_samples_split=2, min_weight_fraction_leaf=0.0,\n",
      "            presort=False, random_state=None, splitter='best')\n",
      "\tAccuracy: 0.81947\tPrecision: 0.31920\tRecall: 0.31250\tF1: 0.31582\tF2: 0.31382\n",
      "\tTotal predictions: 15000\tTrue positives:  625\tFalse positives: 1333\tFalse negatives: 1375\tTrue negatives: 11667\n",
      "\n",
      "None\n",
      "\n",
      "SelectKBest k=19\n",
      "used features: ['poi', 'bonus', 'deferred_income', 'director_fees', 'exercised_stock_options', 'expenses', 'from_poi_to_this_person', 'from_this_person_to_poi', 'loan_advances', 'long_term_incentive', 'other', 'restricted_stock', 'salary', 'shared_receipt_with_poi', 'total_payments', 'total_stock_value', 'total_pay', 'from_poi_ratio', 'to_poi_ratio']\n",
      "DecisionTreeClassifier(class_weight=None, criterion='gini', max_depth=None,\n",
      "            max_features=None, max_leaf_nodes=None,\n",
      "            min_impurity_split=1e-07, min_samples_leaf=1,\n",
      "            min_samples_split=2, min_weight_fraction_leaf=0.0,\n",
      "            presort=False, random_state=None, splitter='best')\n",
      "\tAccuracy: 0.81887\tPrecision: 0.31793\tRecall: 0.31300\tF1: 0.31544\tF2: 0.31397\n",
      "\tTotal predictions: 15000\tTrue positives:  626\tFalse positives: 1343\tFalse negatives: 1374\tTrue negatives: 11657\n",
      "\n",
      "None\n",
      "\n",
      "SelectKBest k=20\n",
      "used features: ['poi', 'bonus', 'deferred_income', 'director_fees', 'exercised_stock_options', 'expenses', 'from_poi_to_this_person', 'from_this_person_to_poi', 'loan_advances', 'long_term_incentive', 'other', 'restricted_stock', 'salary', 'shared_receipt_with_poi', 'to_messages', 'total_payments', 'total_stock_value', 'total_pay', 'from_poi_ratio', 'to_poi_ratio']\n",
      "DecisionTreeClassifier(class_weight=None, criterion='gini', max_depth=None,\n",
      "            max_features=None, max_leaf_nodes=None,\n",
      "            min_impurity_split=1e-07, min_samples_leaf=1,\n",
      "            min_samples_split=2, min_weight_fraction_leaf=0.0,\n",
      "            presort=False, random_state=None, splitter='best')\n",
      "\tAccuracy: 0.81673\tPrecision: 0.30805\tRecall: 0.30050\tF1: 0.30423\tF2: 0.30198\n",
      "\tTotal predictions: 15000\tTrue positives:  601\tFalse positives: 1350\tFalse negatives: 1399\tTrue negatives: 11650\n",
      "\n",
      "None\n"
     ]
    }
   ],
   "source": [
    "\n",
    "### testing results of DecisionTreeClassifier against all feature combinations using SelectKBest\n",
    "for i in range(2, (len(data_dict[data_dict.keys()[0]]))):\n",
    "    print '\\nSelectKBest k=' + str(i)\n",
    "    print 'used features: ' + str(get_kbest_features(df, i))\n",
    "    clf = tree.DecisionTreeClassifier()\n",
    "    print test_classifier(clf, my_dataset, get_kbest_features(df, i))\n",
    "    "
   ]
  },
  {
   "cell_type": "markdown",
   "metadata": {},
   "source": [
    "### Best F1 results of DecisionTreeClasifier Using Default Parameters\n",
    "\n",
    "        SelectKBest k=4\n",
    "        used features: ['poi', 'bonus', 'exercised_stock_options', 'total_stock_value']\n",
    "        DecisionTreeClassifier(class_weight=None, criterion='gini', max_depth=None,\n",
    "                    max_features=None, max_leaf_nodes=None,\n",
    "                    min_impurity_split=1e-07, min_samples_leaf=1,\n",
    "                    min_samples_split=2, min_weight_fraction_leaf=0.0,\n",
    "                    presort=False, random_state=None, splitter='best')\n",
    "\n",
    "        Accuracy: 0.80238\n",
    "        Precision: 0.36485\n",
    "        Recall: 0.38400\n",
    "        F1: 0.37418\n",
    "        F2: 0.38001\n",
    "\n",
    "        Total predictions: 13000\n",
    "        True positives:  768\n",
    "        False positives: 1337\n",
    "        False negatives: 1232\n",
    "        True negatives: 9663"
   ]
  },
  {
   "cell_type": "code",
   "execution_count": 10,
   "metadata": {
    "collapsed": false
   },
   "outputs": [
    {
     "name": "stdout",
     "output_type": "stream",
     "text": [
      "\n",
      "SelectKBest k=2\n",
      "used features: ['poi', 'exercised_stock_options']\n",
      "AdaBoostClassifier(algorithm='SAMME.R', base_estimator=None,\n",
      "          learning_rate=1.0, n_estimators=50, random_state=None)\n",
      "\tAccuracy: 0.85700\tPrecision: 0.25985\tRecall: 0.31000\tF1: 0.28272\tF2: 0.29848\n",
      "\tTotal predictions: 11000\tTrue positives:  310\tFalse positives:  883\tFalse negatives:  690\tTrue negatives: 9117\n",
      "\n",
      "None\n",
      "\n",
      "SelectKBest k=3\n",
      "used features: ['poi', 'exercised_stock_options', 'total_stock_value']\n",
      "AdaBoostClassifier(algorithm='SAMME.R', base_estimator=None,\n",
      "          learning_rate=1.0, n_estimators=50, random_state=None)\n",
      "\tAccuracy: 0.81915\tPrecision: 0.37419\tRecall: 0.26100\tF1: 0.30751\tF2: 0.27781\n",
      "\tTotal predictions: 13000\tTrue positives:  522\tFalse positives:  873\tFalse negatives: 1478\tTrue negatives: 10127\n",
      "\n",
      "None\n",
      "\n",
      "SelectKBest k=4\n",
      "used features: ['poi', 'bonus', 'exercised_stock_options', 'total_stock_value']\n",
      "AdaBoostClassifier(algorithm='SAMME.R', base_estimator=None,\n",
      "          learning_rate=1.0, n_estimators=50, random_state=None)\n",
      "\tAccuracy: 0.80562\tPrecision: 0.34618\tRecall: 0.29650\tF1: 0.31942\tF2: 0.30526\n",
      "\tTotal predictions: 13000\tTrue positives:  593\tFalse positives: 1120\tFalse negatives: 1407\tTrue negatives: 9880\n",
      "\n",
      "None\n",
      "\n",
      "SelectKBest k=5\n",
      "used features: ['poi', 'bonus', 'exercised_stock_options', 'salary', 'total_stock_value']\n",
      "AdaBoostClassifier(algorithm='SAMME.R', base_estimator=None,\n",
      "          learning_rate=1.0, n_estimators=50, random_state=None)\n",
      "\tAccuracy: 0.80269\tPrecision: 0.30092\tRecall: 0.21350\tF1: 0.24978\tF2: 0.22667\n",
      "\tTotal predictions: 13000\tTrue positives:  427\tFalse positives:  992\tFalse negatives: 1573\tTrue negatives: 10008\n",
      "\n",
      "None\n",
      "\n",
      "SelectKBest k=6\n",
      "used features: ['poi', 'bonus', 'exercised_stock_options', 'salary', 'total_stock_value', 'total_pay']\n",
      "AdaBoostClassifier(algorithm='SAMME.R', base_estimator=None,\n",
      "          learning_rate=1.0, n_estimators=50, random_state=None)\n",
      "\tAccuracy: 0.83440\tPrecision: 0.33845\tRecall: 0.25350\tF1: 0.28988\tF2: 0.26690\n",
      "\tTotal predictions: 15000\tTrue positives:  507\tFalse positives:  991\tFalse negatives: 1493\tTrue negatives: 12009\n",
      "\n",
      "None\n",
      "\n",
      "SelectKBest k=7\n",
      "used features: ['poi', 'bonus', 'exercised_stock_options', 'salary', 'total_stock_value', 'total_pay', 'to_poi_ratio']\n",
      "AdaBoostClassifier(algorithm='SAMME.R', base_estimator=None,\n",
      "          learning_rate=1.0, n_estimators=50, random_state=None)\n",
      "\tAccuracy: 0.82193\tPrecision: 0.29654\tRecall: 0.24450\tF1: 0.26802\tF2: 0.25339\n",
      "\tTotal predictions: 15000\tTrue positives:  489\tFalse positives: 1160\tFalse negatives: 1511\tTrue negatives: 11840\n",
      "\n",
      "None\n",
      "\n",
      "SelectKBest k=8\n",
      "used features: ['poi', 'bonus', 'deferred_income', 'exercised_stock_options', 'salary', 'total_stock_value', 'total_pay', 'to_poi_ratio']\n",
      "AdaBoostClassifier(algorithm='SAMME.R', base_estimator=None,\n",
      "          learning_rate=1.0, n_estimators=50, random_state=None)\n",
      "\tAccuracy: 0.83747\tPrecision: 0.35243\tRecall: 0.26150\tF1: 0.30023\tF2: 0.27573\n",
      "\tTotal predictions: 15000\tTrue positives:  523\tFalse positives:  961\tFalse negatives: 1477\tTrue negatives: 12039\n",
      "\n",
      "None\n",
      "\n",
      "SelectKBest k=9\n",
      "used features: ['poi', 'bonus', 'deferred_income', 'exercised_stock_options', 'long_term_incentive', 'salary', 'total_stock_value', 'total_pay', 'to_poi_ratio']\n",
      "AdaBoostClassifier(algorithm='SAMME.R', base_estimator=None,\n",
      "          learning_rate=1.0, n_estimators=50, random_state=None)\n",
      "\tAccuracy: 0.83587\tPrecision: 0.34763\tRecall: 0.26350\tF1: 0.29977\tF2: 0.27690\n",
      "\tTotal predictions: 15000\tTrue positives:  527\tFalse positives:  989\tFalse negatives: 1473\tTrue negatives: 12011\n",
      "\n",
      "None\n",
      "\n",
      "SelectKBest k=10\n",
      "used features: ['poi', 'bonus', 'deferred_income', 'exercised_stock_options', 'long_term_incentive', 'restricted_stock', 'salary', 'total_stock_value', 'total_pay', 'to_poi_ratio']\n",
      "AdaBoostClassifier(algorithm='SAMME.R', base_estimator=None,\n",
      "          learning_rate=1.0, n_estimators=50, random_state=None)\n",
      "\tAccuracy: 0.81800\tPrecision: 0.27744\tRecall: 0.22750\tF1: 0.25000\tF2: 0.23600\n",
      "\tTotal predictions: 15000\tTrue positives:  455\tFalse positives: 1185\tFalse negatives: 1545\tTrue negatives: 11815\n",
      "\n",
      "None\n",
      "\n",
      "SelectKBest k=11\n",
      "used features: ['poi', 'bonus', 'deferred_income', 'exercised_stock_options', 'long_term_incentive', 'restricted_stock', 'salary', 'total_payments', 'total_stock_value', 'total_pay', 'to_poi_ratio']\n",
      "AdaBoostClassifier(algorithm='SAMME.R', base_estimator=None,\n",
      "          learning_rate=1.0, n_estimators=50, random_state=None)\n",
      "\tAccuracy: 0.81573\tPrecision: 0.26764\tRecall: 0.22000\tF1: 0.24149\tF2: 0.22812\n",
      "\tTotal predictions: 15000\tTrue positives:  440\tFalse positives: 1204\tFalse negatives: 1560\tTrue negatives: 11796\n",
      "\n",
      "None\n",
      "\n",
      "SelectKBest k=12\n",
      "used features: ['poi', 'bonus', 'deferred_income', 'exercised_stock_options', 'long_term_incentive', 'restricted_stock', 'salary', 'shared_receipt_with_poi', 'total_payments', 'total_stock_value', 'total_pay', 'to_poi_ratio']\n",
      "AdaBoostClassifier(algorithm='SAMME.R', base_estimator=None,\n",
      "          learning_rate=1.0, n_estimators=50, random_state=None)\n",
      "\tAccuracy: 0.82627\tPrecision: 0.31569\tRecall: 0.25950\tF1: 0.28485\tF2: 0.26908\n",
      "\tTotal predictions: 15000\tTrue positives:  519\tFalse positives: 1125\tFalse negatives: 1481\tTrue negatives: 11875\n",
      "\n",
      "None\n",
      "\n",
      "SelectKBest k=13\n",
      "used features: ['poi', 'bonus', 'deferred_income', 'exercised_stock_options', 'loan_advances', 'long_term_incentive', 'restricted_stock', 'salary', 'shared_receipt_with_poi', 'total_payments', 'total_stock_value', 'total_pay', 'to_poi_ratio']\n",
      "AdaBoostClassifier(algorithm='SAMME.R', base_estimator=None,\n",
      "          learning_rate=1.0, n_estimators=50, random_state=None)\n",
      "\tAccuracy: 0.82680\tPrecision: 0.31679\tRecall: 0.25850\tF1: 0.28469\tF2: 0.26838\n",
      "\tTotal predictions: 15000\tTrue positives:  517\tFalse positives: 1115\tFalse negatives: 1483\tTrue negatives: 11885\n",
      "\n",
      "None\n",
      "\n",
      "SelectKBest k=14\n",
      "used features: ['poi', 'bonus', 'deferred_income', 'exercised_stock_options', 'expenses', 'loan_advances', 'long_term_incentive', 'restricted_stock', 'salary', 'shared_receipt_with_poi', 'total_payments', 'total_stock_value', 'total_pay', 'to_poi_ratio']\n",
      "AdaBoostClassifier(algorithm='SAMME.R', base_estimator=None,\n",
      "          learning_rate=1.0, n_estimators=50, random_state=None)\n",
      "\tAccuracy: 0.83407\tPrecision: 0.34516\tRecall: 0.27250\tF1: 0.30455\tF2: 0.28448\n",
      "\tTotal predictions: 15000\tTrue positives:  545\tFalse positives: 1034\tFalse negatives: 1455\tTrue negatives: 11966\n",
      "\n",
      "None\n",
      "\n",
      "SelectKBest k=15\n",
      "used features: ['poi', 'bonus', 'deferred_income', 'exercised_stock_options', 'expenses', 'from_poi_to_this_person', 'loan_advances', 'long_term_incentive', 'restricted_stock', 'salary', 'shared_receipt_with_poi', 'total_payments', 'total_stock_value', 'total_pay', 'to_poi_ratio']\n",
      "AdaBoostClassifier(algorithm='SAMME.R', base_estimator=None,\n",
      "          learning_rate=1.0, n_estimators=50, random_state=None)\n",
      "\tAccuracy: 0.83427\tPrecision: 0.34717\tRecall: 0.27600\tF1: 0.30752\tF2: 0.28780\n",
      "\tTotal predictions: 15000\tTrue positives:  552\tFalse positives: 1038\tFalse negatives: 1448\tTrue negatives: 11962\n",
      "\n",
      "None\n",
      "\n",
      "SelectKBest k=16\n",
      "used features: ['poi', 'bonus', 'deferred_income', 'exercised_stock_options', 'expenses', 'from_poi_to_this_person', 'loan_advances', 'long_term_incentive', 'other', 'restricted_stock', 'salary', 'shared_receipt_with_poi', 'total_payments', 'total_stock_value', 'total_pay', 'to_poi_ratio']\n",
      "AdaBoostClassifier(algorithm='SAMME.R', base_estimator=None,\n",
      "          learning_rate=1.0, n_estimators=50, random_state=None)\n",
      "\tAccuracy: 0.83920\tPrecision: 0.37205\tRecall: 0.29950\tF1: 0.33186\tF2: 0.31165\n",
      "\tTotal predictions: 15000\tTrue positives:  599\tFalse positives: 1011\tFalse negatives: 1401\tTrue negatives: 11989\n",
      "\n",
      "None\n",
      "\n",
      "SelectKBest k=17\n",
      "used features: ['poi', 'bonus', 'deferred_income', 'exercised_stock_options', 'expenses', 'from_poi_to_this_person', 'loan_advances', 'long_term_incentive', 'other', 'restricted_stock', 'salary', 'shared_receipt_with_poi', 'total_payments', 'total_stock_value', 'total_pay', 'from_poi_ratio', 'to_poi_ratio']\n",
      "AdaBoostClassifier(algorithm='SAMME.R', base_estimator=None,\n",
      "          learning_rate=1.0, n_estimators=50, random_state=None)\n",
      "\tAccuracy: 0.83880\tPrecision: 0.36888\tRecall: 0.29400\tF1: 0.32721\tF2: 0.30644\n",
      "\tTotal predictions: 15000\tTrue positives:  588\tFalse positives: 1006\tFalse negatives: 1412\tTrue negatives: 11994\n",
      "\n",
      "None\n",
      "\n",
      "SelectKBest k=18\n",
      "used features: ['poi', 'bonus', 'deferred_income', 'exercised_stock_options', 'expenses', 'from_poi_to_this_person', 'from_this_person_to_poi', 'loan_advances', 'long_term_incentive', 'other', 'restricted_stock', 'salary', 'shared_receipt_with_poi', 'total_payments', 'total_stock_value', 'total_pay', 'from_poi_ratio', 'to_poi_ratio']\n",
      "AdaBoostClassifier(algorithm='SAMME.R', base_estimator=None,\n",
      "          learning_rate=1.0, n_estimators=50, random_state=None)\n",
      "\tAccuracy: 0.84013\tPrecision: 0.36821\tRecall: 0.27800\tF1: 0.31681\tF2: 0.29232\n",
      "\tTotal predictions: 15000\tTrue positives:  556\tFalse positives:  954\tFalse negatives: 1444\tTrue negatives: 12046\n",
      "\n",
      "None\n",
      "\n",
      "SelectKBest k=19\n",
      "used features: ['poi', 'bonus', 'deferred_income', 'director_fees', 'exercised_stock_options', 'expenses', 'from_poi_to_this_person', 'from_this_person_to_poi', 'loan_advances', 'long_term_incentive', 'other', 'restricted_stock', 'salary', 'shared_receipt_with_poi', 'total_payments', 'total_stock_value', 'total_pay', 'from_poi_ratio', 'to_poi_ratio']\n",
      "AdaBoostClassifier(algorithm='SAMME.R', base_estimator=None,\n",
      "          learning_rate=1.0, n_estimators=50, random_state=None)\n",
      "\tAccuracy: 0.84027\tPrecision: 0.36870\tRecall: 0.27800\tF1: 0.31699\tF2: 0.29239\n",
      "\tTotal predictions: 15000\tTrue positives:  556\tFalse positives:  952\tFalse negatives: 1444\tTrue negatives: 12048\n",
      "\n",
      "None\n",
      "\n",
      "SelectKBest k=20\n",
      "used features: ['poi', 'bonus', 'deferred_income', 'director_fees', 'exercised_stock_options', 'expenses', 'from_poi_to_this_person', 'from_this_person_to_poi', 'loan_advances', 'long_term_incentive', 'other', 'restricted_stock', 'salary', 'shared_receipt_with_poi', 'to_messages', 'total_payments', 'total_stock_value', 'total_pay', 'from_poi_ratio', 'to_poi_ratio']\n",
      "AdaBoostClassifier(algorithm='SAMME.R', base_estimator=None,\n",
      "          learning_rate=1.0, n_estimators=50, random_state=None)\n",
      "\tAccuracy: 0.83753\tPrecision: 0.35967\tRecall: 0.28000\tF1: 0.31487\tF2: 0.29298\n",
      "\tTotal predictions: 15000\tTrue positives:  560\tFalse positives:  997\tFalse negatives: 1440\tTrue negatives: 12003\n",
      "\n",
      "None\n"
     ]
    }
   ],
   "source": [
    "\n",
    "### testing results of AdaBoostClassifier against all feature combinations using SelectKBest\n",
    "for i in range(2, (len(data_dict[data_dict.keys()[0]]))):\n",
    "    print '\\nSelectKBest k=' + str(i)\n",
    "    print 'used features: ' + str(get_kbest_features(df, i))\n",
    "    clf = AdaBoostClassifier()\n",
    "    print test_classifier(clf, my_dataset, get_kbest_features(df, i))\n"
   ]
  },
  {
   "cell_type": "markdown",
   "metadata": {},
   "source": [
    "### Best F1 results of AdaBoostClassifier Using Default Parameters\n",
    "\n",
    "        SelectKBest k=4\n",
    "        used features: ['poi', 'bonus', 'exercised_stock_options', 'total_stock_value']\n",
    "        AdaBoostClassifier(algorithm='SAMME.R', base_estimator=None, learning_rate=1.0, n_estimators=50, random_state=None)\n",
    "\n",
    "        Accuracy: 0.80515\n",
    "        Precision: 0.34461\n",
    "        Recall: 0.29550\n",
    "        F1: 0.31817\n",
    "        F2: 0.30417\n",
    "\n",
    "        Total predictions: 13000\n",
    "        True positives:  591\n",
    "        False positives: 1124\n",
    "        False negatives: 1409\n",
    "        True negatives: 9876"
   ]
  },
  {
   "cell_type": "markdown",
   "metadata": {},
   "source": [
    "### Rubric Item: Tuning the Algorithm -\n",
    "\n",
    "##### Question 4 - What does it mean to tune the parameters of an algorithm, and what can happen if you don’t do this well? How did you tune the parameters of your particular algorithm? (Some algorithms do not have parameters that you need to tune if this is the case for the one you picked, identify and briefly explain how you would have done it for the model that was not your final choice or a different model that does utilize parameter tuning, e.g. a decision tree classifier).\n",
    "\n",
    "Tuning the parameters of an algorithm is the process of optimizing the parameters that impact the algorithm's behavior to achieve the best performance. The most basic way of tuning an algorithm is by trying multiple variations of the values the algorithm accepts and reviewing the results (For example, varying the value of k when using the SelectKBest algorhythm controlled the number of returned features). As you saw above, the number of returned features has a significant impact on our Classifier testing and we achieved better performance when we used different k values when testing the various classifiers. Not tuning the algorithms properly can have a significant and cascading effect on our results and the performance we can achieve from our classifiers. For example, choosing to use k = 2 in our feature selection because it had the highest accuracy rate when using the GassiuanNB classifier wouldn't have been the correct choice since in this instance accuracy is less important than the recall, precision and/or F1 values. \n",
    "\n",
    "My initial testing showed that I was able to get the best F1 score using the Gaussian NB with a list of 8 features generated by SelectKBest. Unfortunately, the Gaussian NB classifier has no tunable parameters so I performed my tuning on the Decision Tree and ADA Boost Classifiers instead. I tuned the parameters of those two classifiers by using GridSearchCV with an array that contained a list of possibilities for each parameter. GridSearchCV than ran through each possible combination and recommended the best parameter values. The GridSearchCV algorithm itself can also be tuned by specifying the kind of scoring and number of folds it should use when testing."
   ]
  },
  {
   "cell_type": "code",
   "execution_count": 11,
   "metadata": {
    "collapsed": true
   },
   "outputs": [],
   "source": [
    "### Task 5: Tune your classifier to achieve better than .3 precision and recall \n",
    "### using our testing script.\n",
    "\n",
    "data = featureFormat(my_dataset, get_kbest_features(df, 4), sort_keys = True)\n",
    "labels, features = targetFeatureSplit(data)\n",
    "\n",
    "#from sklearn.cross_validation import train_test_split\n",
    "features_train, features_test, labels_train, labels_test = \\\n",
    "    train_test_split(features, labels, test_size=0.3, random_state=42)"
   ]
  },
  {
   "cell_type": "code",
   "execution_count": 18,
   "metadata": {
    "collapsed": false
   },
   "outputs": [
    {
     "name": "stdout",
     "output_type": "stream",
     "text": [
      "Fitting 10 folds for each of 1250 candidates, totalling 12500 fits\n"
     ]
    },
    {
     "name": "stderr",
     "output_type": "stream",
     "text": [
      "[Parallel(n_jobs=5)]: Done  50 tasks      | elapsed:    1.2s\n",
      "[Parallel(n_jobs=5)]: Done 1210 tasks      | elapsed:    5.2s\n",
      "[Parallel(n_jobs=5)]: Done 3210 tasks      | elapsed:   11.9s\n",
      "[Parallel(n_jobs=5)]: Done 6010 tasks      | elapsed:   21.5s\n",
      "[Parallel(n_jobs=5)]: Done 9610 tasks      | elapsed:   33.8s\n"
     ]
    },
    {
     "name": "stdout",
     "output_type": "stream",
     "text": [
      "{'min_samples_split': 2, 'max_leaf_nodes': None, 'criterion': 'entropy', 'max_depth': 10, 'min_samples_leaf': 1}\n"
     ]
    },
    {
     "name": "stderr",
     "output_type": "stream",
     "text": [
      "[Parallel(n_jobs=5)]: Done 12500 out of 12500 | elapsed:   43.6s finished\n"
     ]
    }
   ],
   "source": [
    "parameters = {'criterion': ['gini', 'entropy'],\n",
    "               'min_samples_split': [2, 5, 8, 10, 20],\n",
    "               'max_depth': [None, 2, 5, 8, 10],\n",
    "               'min_samples_leaf': [1, 2, 5, 8, 10],\n",
    "               'max_leaf_nodes': [None, 2, 5, 10, 20]}\n",
    "svr = tree.DecisionTreeClassifier()\n",
    "clf = GridSearchCV(svr, parameters, scoring='f1', verbose=1, error_score='raise', n_jobs=5, cv = 10)\n",
    "clf.fit(features, labels)\n",
    "print clf.best_params_"
   ]
  },
  {
   "cell_type": "code",
   "execution_count": 22,
   "metadata": {
    "collapsed": false
   },
   "outputs": [
    {
     "name": "stdout",
     "output_type": "stream",
     "text": [
      "Decision Tree Classifier Tuned to Best F1 score\n",
      "DecisionTreeClassifier(class_weight=None, criterion='entropy', max_depth=10,\n",
      "            max_features=None, max_leaf_nodes=None,\n",
      "            min_impurity_split=1e-07, min_samples_leaf=1,\n",
      "            min_samples_split=2, min_weight_fraction_leaf=0.0,\n",
      "            presort=False, random_state=None, splitter='best')\n",
      "\tAccuracy: 0.79900\tPrecision: 0.35882\tRecall: 0.38950\tF1: 0.37353\tF2: 0.38295\n",
      "\tTotal predictions: 13000\tTrue positives:  779\tFalse positives: 1392\tFalse negatives: 1221\tTrue negatives: 9608\n",
      "\n",
      "None\n"
     ]
    }
   ],
   "source": [
    "best_f1_dtc = tree.DecisionTreeClassifier(min_samples_split=2, \n",
    "                                       max_leaf_nodes=None, \n",
    "                                       criterion=\"entropy\", \n",
    "                                       max_depth=10, \n",
    "                                       min_samples_leaf=1)\n",
    "print \"Decision Tree Classifier Tuned to Best F1 score\"\n",
    "print test_classifier(best_f1_dtc, my_dataset, get_kbest_features(df, 4))"
   ]
  },
  {
   "cell_type": "code",
   "execution_count": 23,
   "metadata": {
    "collapsed": false
   },
   "outputs": [
    {
     "name": "stdout",
     "output_type": "stream",
     "text": [
      "Decision Tree Classifier Untuned\n",
      "DecisionTreeClassifier(class_weight=None, criterion='gini', max_depth=None,\n",
      "            max_features=None, max_leaf_nodes=None,\n",
      "            min_impurity_split=1e-07, min_samples_leaf=1,\n",
      "            min_samples_split=2, min_weight_fraction_leaf=0.0,\n",
      "            presort=False, random_state=None, splitter='best')\n",
      "\tAccuracy: 0.80138\tPrecision: 0.36364\tRecall: 0.38800\tF1: 0.37542\tF2: 0.38287\n",
      "\tTotal predictions: 13000\tTrue positives:  776\tFalse positives: 1358\tFalse negatives: 1224\tTrue negatives: 9642\n",
      "\n",
      "None\n"
     ]
    }
   ],
   "source": [
    "default_dtc = tree.DecisionTreeClassifier()\n",
    "print \"Decision Tree Classifier Untuned\"\n",
    "print test_classifier(default_dtc, my_dataset, get_kbest_features(df, 4))"
   ]
  },
  {
   "cell_type": "code",
   "execution_count": 36,
   "metadata": {
    "collapsed": false
   },
   "outputs": [
    {
     "name": "stdout",
     "output_type": "stream",
     "text": [
      "Fitting 5 folds for each of 24 candidates, totalling 120 fits\n"
     ]
    },
    {
     "name": "stderr",
     "output_type": "stream",
     "text": [
      "[Parallel(n_jobs=5)]: Done  40 tasks      | elapsed:    1.9s\n"
     ]
    },
    {
     "name": "stdout",
     "output_type": "stream",
     "text": [
      "{'n_estimators': 40, 'learning_rate': 1.2, 'algorithm': 'SAMME'}\n"
     ]
    },
    {
     "name": "stderr",
     "output_type": "stream",
     "text": [
      "[Parallel(n_jobs=5)]: Done 120 out of 120 | elapsed:    4.7s finished\n"
     ]
    }
   ],
   "source": [
    "parameters = {'n_estimators': [30, 40, 50],\n",
    "               'algorithm': ['SAMME', 'SAMME.R'],\n",
    "               'learning_rate': [.5, .8, 1, 1.2]}\n",
    "svr = AdaBoostClassifier()\n",
    "clf = GridSearchCV(svr, parameters, scoring='f1', verbose=1, error_score='raise', n_jobs=5, cv = 5)\n",
    "clf.fit(features, labels)\n",
    "\n",
    "print clf.best_params_"
   ]
  },
  {
   "cell_type": "code",
   "execution_count": 37,
   "metadata": {
    "collapsed": false
   },
   "outputs": [
    {
     "name": "stdout",
     "output_type": "stream",
     "text": [
      "ADA Boost Classifier Tuned to Best F1 score\n",
      "AdaBoostClassifier(algorithm='SAMME.R', base_estimator=None,\n",
      "          learning_rate=1.2, n_estimators=40, random_state=None)\n",
      "\tAccuracy: 0.81138\tPrecision: 0.36595\tRecall: 0.30850\tF1: 0.33478\tF2: 0.31850\n",
      "\tTotal predictions: 13000\tTrue positives:  617\tFalse positives: 1069\tFalse negatives: 1383\tTrue negatives: 9931\n",
      "\n",
      "None\n"
     ]
    }
   ],
   "source": [
    "best_f1_ada = AdaBoostClassifier(n_estimators=40,\n",
    "                                     learning_rate=1.2,\n",
    "                                     algorithm='SAMME.R')\n",
    "print \"ADA Boost Classifier Tuned to Best F1 score\"\n",
    "print test_classifier(best_f1_ada, my_dataset, get_kbest_features(df, 4))"
   ]
  },
  {
   "cell_type": "code",
   "execution_count": 38,
   "metadata": {
    "collapsed": false
   },
   "outputs": [
    {
     "name": "stdout",
     "output_type": "stream",
     "text": [
      "ADA Boost Classifier Untuned\n",
      "AdaBoostClassifier(algorithm='SAMME.R', base_estimator=None,\n",
      "          learning_rate=1.0, n_estimators=50, random_state=None)\n",
      "\tAccuracy: 0.80538\tPrecision: 0.34593\tRecall: 0.29750\tF1: 0.31989\tF2: 0.30607\n",
      "\tTotal predictions: 13000\tTrue positives:  595\tFalse positives: 1125\tFalse negatives: 1405\tTrue negatives: 9875\n",
      "\n",
      "None\n"
     ]
    }
   ],
   "source": [
    "default_ada = AdaBoostClassifier()\n",
    "print \"ADA Boost Classifier Untuned\"\n",
    "print test_classifier(default_ada, my_dataset, get_kbest_features(df, 4))"
   ]
  },
  {
   "cell_type": "markdown",
   "metadata": {},
   "source": [
    "### Rubric Item(s): Validation Strategy / Usage of Evaluation Metrics -\n",
    "\n",
    "##### Question 5: What is validation, and what’s a classic mistake you can make if you do it wrong? How did you validate your analysis?\n",
    "One way to validate an algorithm is to divide the entire dataset into a learning dataset and a testing dataset. The learning dataset is used when training/fitting the classifiers. We then take the already fitted/trained classifier and use the testing dataset to evaluate the performance of our algorithm. A classic mistake that can be made here is using the same dataset to both train/fit and test. Since the data used for fitting includes the same values as the data used for testing, the data points presented to the algorithm during testing are not new and we are basically evaluating how the algorithm does against data it is familiar with, which doesn't tell us anything about how the algorithm would perform against unknown data. I performed my validation by excluding 30% of the dataset from the training set and used only the remaining 70% when training/fitting. I then used the excluded 30% to test the fitted classifier so I can evaluate how the algorithm performs against a previously unseen dataset.\n",
    "\n",
    "\n",
    "##### Question 6: Give at least 2 evaluation metrics and your average performance for each of them. Explain an interpretation of your metrics that says something human understandable about your algorithm’s performance. \n",
    "\n",
    "As I mentioned previously, my initial testing showed that I was able to get the best F1 score using the Gaussian NB using a list of 8 features generated by SelectKBest (poi, bonus, deferred_income, exercised_stock_options, salary, total_stock_value, total_pay, to_poi_ratio), but since the Gaussian NB classifer has no tunable parameters, I performed my tuning on the Decision Tree and ADA Boost Classifiers instead. \n",
    "\n",
    "One of the goals of this project was to be able to achieve precision and recall scores better than 0.3. Precision and Recall are defined as follows:\n",
    "\n",
    "- **Precision:** In our case, precision is defined as the probability that the prediction made by the algorithm is correct. In other words, if our algorithm indicates that a person is likely to be a POI based on the features it evaluates, the Precision is the fraction of individuals that should truly be classified as POIs from all the individuals identified as potential POIs using our algorithm.\n",
    "- **Recall:** Also known as sensitivity, is a measure of how many potential POIs our algorithm missed. In other words, the fraction of individuals that should have been classified as POIs based on the features evaluated by our algorithm that were evalauted as non-POIs.\n",
    "\n",
    "I was able to achieve precision and recall scores better than 0.3 in all cases, although the results of these two classifiers were lower than what I was able to achieve using the Gaussian NB classifier.\n",
    "\n",
    "The best scores I achieved for each classifier were as follows:\n",
    "    \n",
    "##### Gaussian NB Classifier - Default:\n",
    "        SelectKBest k=8\n",
    "        Features: poi, bonus, deferred_income, exercised_stock_options, salary, total_stock_value, total_pay, to_poi_ratio\n",
    "        \n",
    "        Accuracy: 0.86513\tPrecision: 0.49235\tRecall: 0.37000\t\n",
    "        F1: 0.42250\tF2: 0.38935\n",
    "        \n",
    "        Total predictions: 15000\t\n",
    "        True positives:  740\tFalse positives:  763\tFalse negatives: 1260\tTrue negatives: 12237\n",
    "        \n",
    "##### Decision Tree Classifier - Default:\n",
    "        SelectKBest k=4\n",
    "        Features: poi, bonus, exercised_stock_options, total_stock_value\n",
    "\n",
    "        Accuracy: 0.80138\tPrecision: 0.36364\tRecall: 0.38800\n",
    "        F1: 0.37542\tF2: 0.38287\n",
    "        \n",
    "        Total predictions: 13000\n",
    "        True positives:  776\tFalse positives: 1358\tFalse negatives: 1224\tTrue negatives: 9642\n",
    "\n",
    "##### ADA Booster Classifier - Tuned: algorithm='SAMME.R'; learning_rate=1.2; n_estimators=40\n",
    "        SelectKBest k=4\n",
    "        Features: poi, bonus, exercised_stock_options, total_stock_value\n",
    "\n",
    "        Accuracy: 0.81138\tPrecision: 0.36595\tRecall: 0.30850\n",
    "        F1: 0.33478\tF2: 0.31850\n",
    "        \n",
    "        Total predictions: 13000\n",
    "        True positives:  617\tFalse positives: 1069\tFalse negatives: 1383\tTrue negatives: 9931\n",
    "\n",
    "\n",
    "Overall, I feel that the Gaussian NB classifier performed best not only because of the higher scores in accuracy, precision, recall and F1/F2, but also because the Total prediction the tester function ran was 15K instead of 13K because of the larger number of features. In addition, the Gaussian NB classifier was the only classifier that performed better with a list of features that included any reference to information derived from e-mail data. The other two classifiers (Decision Tree and ADA Boost) performed best with only 4 features, none of which referenced any e-mail related information. These Classifiers performed best when the features they evaluated were not related to the e-mail data, which makes their result not very relevant to this project.\n",
    "\n",
    "That being said, using the Gaussian NB classifier introduces a fairly significant bias because of its \"Naive\" tendency to assume there is no relation between the features, which in our case is incorrect. Several of our features are a summation of other features (for example, the feature **total_pay** is a sum of **bonus, deferred_income, exercised_stock_options, salary, total_stock_value,** and several other features and clearly has a strong relationship to them).\n"
   ]
  },
  {
   "cell_type": "code",
   "execution_count": 14,
   "metadata": {
    "collapsed": false
   },
   "outputs": [],
   "source": [
    "features_list = get_kbest_features(df, 8)\n",
    "\n",
    "data = featureFormat(my_dataset, features_list, sort_keys = True)\n",
    "labels, features = targetFeatureSplit(data)\n",
    "\n",
    "features_train, features_test, labels_train, labels_test = \\\n",
    "train_test_split(features, labels, test_size=0.3, random_state=42)\n",
    "\n",
    "clf = GaussianNB()\n",
    "clf.fit(features_train, labels_train)\n",
    "\n",
    "### Task 6: Dump your classifier, dataset, and features_list so anyone can\n",
    "### check your results. You do not need to change anything below, but make sure\n",
    "### that the version of poi_id.py that you submit can be run on its own and\n",
    "### generates the necessary .pkl files for validating your results.\n",
    "\n",
    "dump_classifier_and_data(clf, my_dataset, features_list)"
   ]
  },
  {
   "cell_type": "markdown",
   "metadata": {
    "collapsed": true
   },
   "source": [
    "### Rubric Item: poi_id.py\n",
    "\n",
    "        import matplotlib.pyplot as plt\n",
    "        import numpy as np\n",
    "        import pandas as pd\n",
    "        import random\n",
    "        import sys\n",
    "        import pickle\n",
    "        sys.path.append(\"../tools/\")\n",
    "\n",
    "        from feature_format import featureFormat, targetFeatureSplit\n",
    "        from tester import dump_classifier_and_data\n",
    "\n",
    "        #from sklearn.feature_selection import SelectPercentile, f_classif\n",
    "        from sklearn.feature_selection import SelectKBest, f_regression\n",
    "        from sklearn.cross_validation import train_test_split\n",
    "        from sklearn.metrics import accuracy_score, precision_score, recall_score\n",
    "        from sklearn import tree\n",
    "        from sklearn.grid_search import GridSearchCV\n",
    "        from sklearn.ensemble import AdaBoostClassifier\n",
    "        from tester import test_classifier\n",
    "        from sklearn.naive_bayes import GaussianNB\n",
    "        from sklearn import svm\n",
    "\n",
    "        def get_kbest_features(df, k):\n",
    "            sel_kbest = SelectKBest(f_regression, k)\n",
    "            sel_kbest.fit(df, df['poi'])\n",
    "            features_SelectKBest = df.columns[sel_kbest.get_support()].tolist()\n",
    "            return features_SelectKBest\n",
    "\n",
    "        ### Task 1: Select what features you'll use.\n",
    "        ### features_list is a list of strings, each of which is a feature name.\n",
    "        ### The first feature must be \"poi\".\n",
    "        ### features_list = ['poi','salary'] # You will need to use more features\n",
    "\n",
    "        features_list = ['poi',\n",
    "                         'bonus',\n",
    "                         'deferral_payments',\n",
    "                         'deferred_income',\n",
    "                         'director_fees',\n",
    "                         # 'email_address', #excluding non-numeric value\n",
    "                         'exercised_stock_options',\n",
    "                         'expenses',\n",
    "                         'from_messages',\n",
    "                         'from_poi_to_this_person',\n",
    "                         'from_this_person_to_poi',\n",
    "                         'loan_advances',\n",
    "                         'long_term_incentive',\n",
    "                         'other',\n",
    "                         'restricted_stock',\n",
    "                         'restricted_stock_deferred',\n",
    "                         'salary',\n",
    "                         'shared_receipt_with_poi',\n",
    "                         'to_messages',\n",
    "                         'total_payments',\n",
    "                         'total_stock_value'\n",
    "                        ]\n",
    "\n",
    "        ### Load the dictionary containing the dataset\n",
    "        with open(\"final_project_dataset.pkl\", \"r\") as data_file:\n",
    "            data_dict = pickle.load(data_file)\n",
    "\n",
    "\n",
    "        ### Task 2: Remove outliers\n",
    "        data_dict.pop('TOTAL', 0)\n",
    "\n",
    "\n",
    "        ### Task 3: Create new feature(s)\n",
    "        ### Store to my_dataset for easy export below.\n",
    "\n",
    "        data = featureFormat(data_dict, features_list, sort_keys = True)\n",
    "        df = pd.DataFrame(data, columns = ['poi',\n",
    "                         'bonus',\n",
    "                         'deferral_payments',\n",
    "                         'deferred_income',\n",
    "                         'director_fees',\n",
    "                         #'email_address', #excluding non-numeric value\n",
    "                         'exercised_stock_options',\n",
    "                         'expenses',\n",
    "                         'from_messages',\n",
    "                         'from_poi_to_this_person',\n",
    "                         'from_this_person_to_poi',\n",
    "                         'loan_advances',\n",
    "                         'long_term_incentive',\n",
    "                         'other',\n",
    "                         'restricted_stock',\n",
    "                         'restricted_stock_deferred',\n",
    "                         'salary',\n",
    "                         'shared_receipt_with_poi',\n",
    "                         'to_messages',\n",
    "                         'total_payments',\n",
    "                         'total_stock_value'\n",
    "                        ])\n",
    "\n",
    "        df['total_pay'] = df['total_stock_value'] + df['total_payments']\n",
    "        df['salary_total_pay_ratio'] = df['salary'] / df['total_pay']\n",
    "\n",
    "        df['from_poi_ratio'] = df['from_poi_to_this_person'] / df['to_messages']\n",
    "        df['to_poi_ratio'] = df['from_this_person_to_poi'] / df['from_messages']\n",
    "\n",
    "        # replacing all NaN with 0\n",
    "        df = df.replace({np.nan: 0})\n",
    "\n",
    "        ### Store to my_dataset for easy export below.\n",
    "        my_dataset = df.to_dict(orient='index')\n",
    "\n",
    "\n",
    "        ### Extract features and labels from dataset for local testing\n",
    "\n",
    "        features_list = get_kbest_features(df, 8)\n",
    "\n",
    "        data = featureFormat(my_dataset, features_list, sort_keys = True)\n",
    "        labels, features = targetFeatureSplit(data)\n",
    "\n",
    "\n",
    "        ### Task 4: Try a varity of classifiers\n",
    "        ### Please name your classifier clf for easy export below.\n",
    "        ### Note that if you want to do PCA or other multi-stage operations,\n",
    "        ### you'll need to use Pipelines. For more info:\n",
    "        ### http://scikit-learn.org/stable/modules/pipeline.html\n",
    "\n",
    "        # Provided to give you a starting point. Try a variety of classifiers.\n",
    "        # from sklearn.naive_bayes import GaussianNB\n",
    "        clf = GaussianNB()\n",
    "\n",
    "        ### Task 5: Tune your classifier to achieve better than .3 precision and recall \n",
    "        ### using our testing script. Check the tester.py script in the final project\n",
    "        ### folder for details on the evaluation method, especially the test_classifier\n",
    "        ### function. Because of the small size of the dataset, the script uses\n",
    "        ### stratified shuffle split cross validation. For more info: \n",
    "        ### http://scikit-learn.org/stable/modules/generated/sklearn.cross_validation.StratifiedShuffleSplit.html\n",
    "\n",
    "        # Example starting point. Try investigating other evaluation techniques!\n",
    "        # from sklearn.cross_validation import train_test_split\n",
    "        features_train, features_test, labels_train, labels_test = \\\n",
    "            train_test_split(features, labels, test_size=0.3, random_state=42)\n",
    "\n",
    "        clf.fit(features_train, labels_train)\n",
    "\n",
    "        ### Task 6: Dump your classifier, dataset, and features_list so anyone can\n",
    "        ### check your results. You do not need to change anything below, but make sure\n",
    "        ### that the version of poi_id.py that you submit can be run on its own and\n",
    "        ### generates the necessary .pkl files for validating your results.\n",
    "\n",
    "        dump_classifier_and_data(clf, my_dataset, features_list)"
   ]
  },
  {
   "cell_type": "code",
   "execution_count": null,
   "metadata": {
    "collapsed": true
   },
   "outputs": [],
   "source": []
  }
 ],
 "metadata": {
  "anaconda-cloud": {},
  "kernelspec": {
   "display_name": "Python [Root]",
   "language": "python",
   "name": "Python [Root]"
  },
  "language_info": {
   "codemirror_mode": {
    "name": "ipython",
    "version": 2
   },
   "file_extension": ".py",
   "mimetype": "text/x-python",
   "name": "python",
   "nbconvert_exporter": "python",
   "pygments_lexer": "ipython2",
   "version": "2.7.12"
  }
 },
 "nbformat": 4,
 "nbformat_minor": 0
}
